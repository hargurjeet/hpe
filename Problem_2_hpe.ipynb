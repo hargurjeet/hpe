{
  "nbformat": 4,
  "nbformat_minor": 0,
  "metadata": {
    "colab": {
      "name": "Problem_2_hpe.ipynb",
      "provenance": [],
      "authorship_tag": "ABX9TyML24lF/I7qzFB3XZvH1z3R",
      "include_colab_link": true
    },
    "kernelspec": {
      "name": "python3",
      "display_name": "Python 3"
    },
    "language_info": {
      "name": "python"
    }
  },
  "cells": [
    {
      "cell_type": "markdown",
      "metadata": {
        "id": "view-in-github",
        "colab_type": "text"
      },
      "source": [
        "<a href=\"https://colab.research.google.com/github/hargurjeet/hpe/blob/main/Problem_2_hpe.ipynb\" target=\"_parent\"><img src=\"https://colab.research.google.com/assets/colab-badge.svg\" alt=\"Open In Colab\"/></a>"
      ]
    },
    {
      "cell_type": "code",
      "execution_count": 21,
      "metadata": {
        "id": "ZKefxBbFiS5Q"
      },
      "outputs": [],
      "source": [
        "## Importing all the requeired libraries\n",
        "\n",
        "# For data preprocessing\n",
        "import pandas as pd\n",
        "import numpy as np\n",
        "from collections import Counter\n",
        "from imblearn.over_sampling import SMOTENC\n",
        "\n",
        "# To build visualizations\n",
        "from matplotlib.pyplot import figure\n",
        "import matplotlib.pyplot as plt\n",
        "import seaborn as sns\n",
        "import missingno as msno\n",
        "import plotly.express as px\n",
        "import plotly.graph_objects as go\n",
        "import scipy.stats\n",
        "import pylab\n",
        "\n",
        "# Librareis for building pipelines\n",
        "from sklearn.preprocessing import OneHotEncoder\n",
        "from sklearn.compose import ColumnTransformer\n",
        "from sklearn.pipeline import Pipeline\n",
        "from sklearn.preprocessing import MinMaxScaler, StandardScaler\n",
        "from sklearn.impute import SimpleImputer\n",
        "\n",
        "# To build ML models\n",
        "from sklearn.model_selection import train_test_split, KFold, cross_val_score, GridSearchCV\n",
        "from sklearn.linear_model import LogisticRegression\n",
        "from sklearn.tree import DecisionTreeRegressor\n",
        "from sklearn.ensemble import RandomForestRegressor\n",
        "from sklearn.svm import SVC\n",
        "import lightgbm as lgb\n",
        "from sklearn.metrics import accuracy_score,classification_report\n",
        "from sklearn.neighbors import KNeighborsRegressor\n",
        "from sklearn.discriminant_analysis import LinearDiscriminantAnalysis\n",
        "from sklearn.naive_bayes import GaussianNB"
      ]
    },
    {
      "cell_type": "code",
      "source": [
        "df = pd.read_csv('https://raw.githubusercontent.com/hargurjeet/hpe/main/Problem2.csv')\n",
        "df.head()"
      ],
      "metadata": {
        "colab": {
          "base_uri": "https://localhost:8080/",
          "height": 206
        },
        "id": "B2F8AEYl8gVs",
        "outputId": "6dbf1151-7714-4b0a-f2de-95d7f150dded"
      },
      "execution_count": 2,
      "outputs": [
        {
          "output_type": "execute_result",
          "data": {
            "text/plain": [
              "          Y   V1   V2        V3   V4        V5        V6    V7        V8  \\\n",
              "0    9,111   0.0  0.0  0.343088  0.0  100.4014  100.6104  0.04  0.551271   \n",
              "1   10,918   0.0  0.0  0.343088  0.0  100.5697  100.7629  0.04  0.551271   \n",
              "2   13,402   0.0  0.0  0.343088  0.0  100.7521  100.8958  0.04  0.551271   \n",
              "3   11,530   0.0  0.0  0.357665  0.0  100.9278  101.0110  0.04  0.556536   \n",
              "4    9,972   0.0  0.0  0.357665  0.0  101.0532  101.1080  0.04  0.556536   \n",
              "\n",
              "         V9  \n",
              "0  3.361059  \n",
              "1  3.361059  \n",
              "2  3.361059  \n",
              "3  3.559978  \n",
              "4  3.559978  "
            ],
            "text/html": [
              "\n",
              "  <div id=\"df-3418e76c-a1ae-40ed-b156-b6ba3e57f17c\">\n",
              "    <div class=\"colab-df-container\">\n",
              "      <div>\n",
              "<style scoped>\n",
              "    .dataframe tbody tr th:only-of-type {\n",
              "        vertical-align: middle;\n",
              "    }\n",
              "\n",
              "    .dataframe tbody tr th {\n",
              "        vertical-align: top;\n",
              "    }\n",
              "\n",
              "    .dataframe thead th {\n",
              "        text-align: right;\n",
              "    }\n",
              "</style>\n",
              "<table border=\"1\" class=\"dataframe\">\n",
              "  <thead>\n",
              "    <tr style=\"text-align: right;\">\n",
              "      <th></th>\n",
              "      <th>Y</th>\n",
              "      <th>V1</th>\n",
              "      <th>V2</th>\n",
              "      <th>V3</th>\n",
              "      <th>V4</th>\n",
              "      <th>V5</th>\n",
              "      <th>V6</th>\n",
              "      <th>V7</th>\n",
              "      <th>V8</th>\n",
              "      <th>V9</th>\n",
              "    </tr>\n",
              "  </thead>\n",
              "  <tbody>\n",
              "    <tr>\n",
              "      <th>0</th>\n",
              "      <td>9,111</td>\n",
              "      <td>0.0</td>\n",
              "      <td>0.0</td>\n",
              "      <td>0.343088</td>\n",
              "      <td>0.0</td>\n",
              "      <td>100.4014</td>\n",
              "      <td>100.6104</td>\n",
              "      <td>0.04</td>\n",
              "      <td>0.551271</td>\n",
              "      <td>3.361059</td>\n",
              "    </tr>\n",
              "    <tr>\n",
              "      <th>1</th>\n",
              "      <td>10,918</td>\n",
              "      <td>0.0</td>\n",
              "      <td>0.0</td>\n",
              "      <td>0.343088</td>\n",
              "      <td>0.0</td>\n",
              "      <td>100.5697</td>\n",
              "      <td>100.7629</td>\n",
              "      <td>0.04</td>\n",
              "      <td>0.551271</td>\n",
              "      <td>3.361059</td>\n",
              "    </tr>\n",
              "    <tr>\n",
              "      <th>2</th>\n",
              "      <td>13,402</td>\n",
              "      <td>0.0</td>\n",
              "      <td>0.0</td>\n",
              "      <td>0.343088</td>\n",
              "      <td>0.0</td>\n",
              "      <td>100.7521</td>\n",
              "      <td>100.8958</td>\n",
              "      <td>0.04</td>\n",
              "      <td>0.551271</td>\n",
              "      <td>3.361059</td>\n",
              "    </tr>\n",
              "    <tr>\n",
              "      <th>3</th>\n",
              "      <td>11,530</td>\n",
              "      <td>0.0</td>\n",
              "      <td>0.0</td>\n",
              "      <td>0.357665</td>\n",
              "      <td>0.0</td>\n",
              "      <td>100.9278</td>\n",
              "      <td>101.0110</td>\n",
              "      <td>0.04</td>\n",
              "      <td>0.556536</td>\n",
              "      <td>3.559978</td>\n",
              "    </tr>\n",
              "    <tr>\n",
              "      <th>4</th>\n",
              "      <td>9,972</td>\n",
              "      <td>0.0</td>\n",
              "      <td>0.0</td>\n",
              "      <td>0.357665</td>\n",
              "      <td>0.0</td>\n",
              "      <td>101.0532</td>\n",
              "      <td>101.1080</td>\n",
              "      <td>0.04</td>\n",
              "      <td>0.556536</td>\n",
              "      <td>3.559978</td>\n",
              "    </tr>\n",
              "  </tbody>\n",
              "</table>\n",
              "</div>\n",
              "      <button class=\"colab-df-convert\" onclick=\"convertToInteractive('df-3418e76c-a1ae-40ed-b156-b6ba3e57f17c')\"\n",
              "              title=\"Convert this dataframe to an interactive table.\"\n",
              "              style=\"display:none;\">\n",
              "        \n",
              "  <svg xmlns=\"http://www.w3.org/2000/svg\" height=\"24px\"viewBox=\"0 0 24 24\"\n",
              "       width=\"24px\">\n",
              "    <path d=\"M0 0h24v24H0V0z\" fill=\"none\"/>\n",
              "    <path d=\"M18.56 5.44l.94 2.06.94-2.06 2.06-.94-2.06-.94-.94-2.06-.94 2.06-2.06.94zm-11 1L8.5 8.5l.94-2.06 2.06-.94-2.06-.94L8.5 2.5l-.94 2.06-2.06.94zm10 10l.94 2.06.94-2.06 2.06-.94-2.06-.94-.94-2.06-.94 2.06-2.06.94z\"/><path d=\"M17.41 7.96l-1.37-1.37c-.4-.4-.92-.59-1.43-.59-.52 0-1.04.2-1.43.59L10.3 9.45l-7.72 7.72c-.78.78-.78 2.05 0 2.83L4 21.41c.39.39.9.59 1.41.59.51 0 1.02-.2 1.41-.59l7.78-7.78 2.81-2.81c.8-.78.8-2.07 0-2.86zM5.41 20L4 18.59l7.72-7.72 1.47 1.35L5.41 20z\"/>\n",
              "  </svg>\n",
              "      </button>\n",
              "      \n",
              "  <style>\n",
              "    .colab-df-container {\n",
              "      display:flex;\n",
              "      flex-wrap:wrap;\n",
              "      gap: 12px;\n",
              "    }\n",
              "\n",
              "    .colab-df-convert {\n",
              "      background-color: #E8F0FE;\n",
              "      border: none;\n",
              "      border-radius: 50%;\n",
              "      cursor: pointer;\n",
              "      display: none;\n",
              "      fill: #1967D2;\n",
              "      height: 32px;\n",
              "      padding: 0 0 0 0;\n",
              "      width: 32px;\n",
              "    }\n",
              "\n",
              "    .colab-df-convert:hover {\n",
              "      background-color: #E2EBFA;\n",
              "      box-shadow: 0px 1px 2px rgba(60, 64, 67, 0.3), 0px 1px 3px 1px rgba(60, 64, 67, 0.15);\n",
              "      fill: #174EA6;\n",
              "    }\n",
              "\n",
              "    [theme=dark] .colab-df-convert {\n",
              "      background-color: #3B4455;\n",
              "      fill: #D2E3FC;\n",
              "    }\n",
              "\n",
              "    [theme=dark] .colab-df-convert:hover {\n",
              "      background-color: #434B5C;\n",
              "      box-shadow: 0px 1px 3px 1px rgba(0, 0, 0, 0.15);\n",
              "      filter: drop-shadow(0px 1px 2px rgba(0, 0, 0, 0.3));\n",
              "      fill: #FFFFFF;\n",
              "    }\n",
              "  </style>\n",
              "\n",
              "      <script>\n",
              "        const buttonEl =\n",
              "          document.querySelector('#df-3418e76c-a1ae-40ed-b156-b6ba3e57f17c button.colab-df-convert');\n",
              "        buttonEl.style.display =\n",
              "          google.colab.kernel.accessAllowed ? 'block' : 'none';\n",
              "\n",
              "        async function convertToInteractive(key) {\n",
              "          const element = document.querySelector('#df-3418e76c-a1ae-40ed-b156-b6ba3e57f17c');\n",
              "          const dataTable =\n",
              "            await google.colab.kernel.invokeFunction('convertToInteractive',\n",
              "                                                     [key], {});\n",
              "          if (!dataTable) return;\n",
              "\n",
              "          const docLinkHtml = 'Like what you see? Visit the ' +\n",
              "            '<a target=\"_blank\" href=https://colab.research.google.com/notebooks/data_table.ipynb>data table notebook</a>'\n",
              "            + ' to learn more about interactive tables.';\n",
              "          element.innerHTML = '';\n",
              "          dataTable['output_type'] = 'display_data';\n",
              "          await google.colab.output.renderOutput(dataTable, element);\n",
              "          const docLink = document.createElement('div');\n",
              "          docLink.innerHTML = docLinkHtml;\n",
              "          element.appendChild(docLink);\n",
              "        }\n",
              "      </script>\n",
              "    </div>\n",
              "  </div>\n",
              "  "
            ]
          },
          "metadata": {},
          "execution_count": 2
        }
      ]
    },
    {
      "cell_type": "code",
      "source": [
        "## Seprating the traing and the test set\n",
        "df_training = df.iloc[:144, :]\n",
        "df_test = df.iloc[144:147, :]"
      ],
      "metadata": {
        "id": "rVZvuzqAJw9Y"
      },
      "execution_count": 4,
      "outputs": []
    },
    {
      "cell_type": "code",
      "source": [
        "df_training.info()"
      ],
      "metadata": {
        "id": "-S8sFeBJKPdQ",
        "outputId": "7396c15e-9cc8-4a19-a52e-d0783b6cc3df",
        "colab": {
          "base_uri": "https://localhost:8080/"
        }
      },
      "execution_count": 5,
      "outputs": [
        {
          "output_type": "stream",
          "name": "stdout",
          "text": [
            "<class 'pandas.core.frame.DataFrame'>\n",
            "RangeIndex: 144 entries, 0 to 143\n",
            "Data columns (total 10 columns):\n",
            " #   Column  Non-Null Count  Dtype  \n",
            "---  ------  --------------  -----  \n",
            " 0   Y       144 non-null    object \n",
            " 1   V1      144 non-null    float64\n",
            " 2   V2      144 non-null    float64\n",
            " 3   V3      144 non-null    float64\n",
            " 4   V4      144 non-null    float64\n",
            " 5   V5      144 non-null    float64\n",
            " 6   V6      144 non-null    float64\n",
            " 7   V7      144 non-null    float64\n",
            " 8   V8      144 non-null    float64\n",
            " 9   V9      144 non-null    float64\n",
            "dtypes: float64(9), object(1)\n",
            "memory usage: 11.4+ KB\n"
          ]
        }
      ]
    },
    {
      "cell_type": "code",
      "source": [
        "# as target variable is number, Coverting Y to numberic\n",
        "df_training['Y'] = df_training['Y'].str.replace(',', '').astype(float)\n",
        "df_training['Y'].apply(pd.to_numeric)"
      ],
      "metadata": {
        "id": "9EcDU8rCLUmP",
        "outputId": "45b8756e-03dc-4346-c7c4-46af03966dfa",
        "colab": {
          "base_uri": "https://localhost:8080/"
        }
      },
      "execution_count": 6,
      "outputs": [
        {
          "output_type": "stream",
          "name": "stderr",
          "text": [
            "/usr/local/lib/python3.7/dist-packages/ipykernel_launcher.py:2: SettingWithCopyWarning: \n",
            "A value is trying to be set on a copy of a slice from a DataFrame.\n",
            "Try using .loc[row_indexer,col_indexer] = value instead\n",
            "\n",
            "See the caveats in the documentation: https://pandas.pydata.org/pandas-docs/stable/user_guide/indexing.html#returning-a-view-versus-a-copy\n",
            "  \n"
          ]
        },
        {
          "output_type": "execute_result",
          "data": {
            "text/plain": [
              "0       9111.0\n",
              "1      10918.0\n",
              "2      13402.0\n",
              "3      11530.0\n",
              "4       9972.0\n",
              "        ...   \n",
              "139     6194.0\n",
              "140     9575.0\n",
              "141    10565.0\n",
              "142     9097.0\n",
              "143     9866.0\n",
              "Name: Y, Length: 144, dtype: float64"
            ]
          },
          "metadata": {},
          "execution_count": 6
        }
      ]
    },
    {
      "cell_type": "code",
      "source": [
        "df_training.info()"
      ],
      "metadata": {
        "id": "bPecm1gUPf66",
        "outputId": "13320a58-5475-48e3-b0e2-0f163903b383",
        "colab": {
          "base_uri": "https://localhost:8080/"
        }
      },
      "execution_count": 7,
      "outputs": [
        {
          "output_type": "stream",
          "name": "stdout",
          "text": [
            "<class 'pandas.core.frame.DataFrame'>\n",
            "RangeIndex: 144 entries, 0 to 143\n",
            "Data columns (total 10 columns):\n",
            " #   Column  Non-Null Count  Dtype  \n",
            "---  ------  --------------  -----  \n",
            " 0   Y       144 non-null    float64\n",
            " 1   V1      144 non-null    float64\n",
            " 2   V2      144 non-null    float64\n",
            " 3   V3      144 non-null    float64\n",
            " 4   V4      144 non-null    float64\n",
            " 5   V5      144 non-null    float64\n",
            " 6   V6      144 non-null    float64\n",
            " 7   V7      144 non-null    float64\n",
            " 8   V8      144 non-null    float64\n",
            " 9   V9      144 non-null    float64\n",
            "dtypes: float64(10)\n",
            "memory usage: 11.4 KB\n"
          ]
        }
      ]
    },
    {
      "cell_type": "code",
      "source": [
        "df_training.describe().T"
      ],
      "metadata": {
        "id": "uNp1GFxhQWJo",
        "outputId": "0e9dc101-1474-4863-b4b0-68179b10a169",
        "colab": {
          "base_uri": "https://localhost:8080/",
          "height": 363
        }
      },
      "execution_count": 8,
      "outputs": [
        {
          "output_type": "execute_result",
          "data": {
            "text/plain": [
              "    count         mean          std         min          25%           50%  \\\n",
              "Y   144.0  9872.597222  2995.146872  128.000000  8347.500000  10076.500000   \n",
              "V1  144.0    38.516667    26.252747    0.000000     0.000000     53.500000   \n",
              "V2  144.0     0.091540     0.087627    0.000000     0.015592      0.043288   \n",
              "V3  144.0     0.270869     0.069505    0.120897     0.216147      0.299312   \n",
              "V4  144.0     0.076968     0.070805    0.000000     0.014333      0.057803   \n",
              "V5  144.0   100.128055     1.201104   96.322000    99.737398    100.324900   \n",
              "V6  144.0   100.158992     1.292624   96.105030    99.764295    100.280550   \n",
              "V7  144.0     0.029583     0.028820   -0.060000     0.017500      0.040000   \n",
              "V8  144.0     0.611368     0.037454    0.551271     0.588272      0.599102   \n",
              "V9  144.0     1.235073     2.121108   -5.418855     0.412458      1.930578   \n",
              "\n",
              "             75%           max  \n",
              "Y   11674.000000  17892.000000  \n",
              "V1     56.850000     66.900000  \n",
              "V2      0.176864      0.264827  \n",
              "V3      0.327257      0.358630  \n",
              "V4      0.134171      0.235520  \n",
              "V5    100.992850    101.778600  \n",
              "V6    100.957400    102.174800  \n",
              "V7      0.050000      0.090000  \n",
              "V8      0.640697      0.698619  \n",
              "V9      2.486848      3.559978  "
            ],
            "text/html": [
              "\n",
              "  <div id=\"df-ce946136-e62e-4fa4-aeb4-5a156bbd86e8\">\n",
              "    <div class=\"colab-df-container\">\n",
              "      <div>\n",
              "<style scoped>\n",
              "    .dataframe tbody tr th:only-of-type {\n",
              "        vertical-align: middle;\n",
              "    }\n",
              "\n",
              "    .dataframe tbody tr th {\n",
              "        vertical-align: top;\n",
              "    }\n",
              "\n",
              "    .dataframe thead th {\n",
              "        text-align: right;\n",
              "    }\n",
              "</style>\n",
              "<table border=\"1\" class=\"dataframe\">\n",
              "  <thead>\n",
              "    <tr style=\"text-align: right;\">\n",
              "      <th></th>\n",
              "      <th>count</th>\n",
              "      <th>mean</th>\n",
              "      <th>std</th>\n",
              "      <th>min</th>\n",
              "      <th>25%</th>\n",
              "      <th>50%</th>\n",
              "      <th>75%</th>\n",
              "      <th>max</th>\n",
              "    </tr>\n",
              "  </thead>\n",
              "  <tbody>\n",
              "    <tr>\n",
              "      <th>Y</th>\n",
              "      <td>144.0</td>\n",
              "      <td>9872.597222</td>\n",
              "      <td>2995.146872</td>\n",
              "      <td>128.000000</td>\n",
              "      <td>8347.500000</td>\n",
              "      <td>10076.500000</td>\n",
              "      <td>11674.000000</td>\n",
              "      <td>17892.000000</td>\n",
              "    </tr>\n",
              "    <tr>\n",
              "      <th>V1</th>\n",
              "      <td>144.0</td>\n",
              "      <td>38.516667</td>\n",
              "      <td>26.252747</td>\n",
              "      <td>0.000000</td>\n",
              "      <td>0.000000</td>\n",
              "      <td>53.500000</td>\n",
              "      <td>56.850000</td>\n",
              "      <td>66.900000</td>\n",
              "    </tr>\n",
              "    <tr>\n",
              "      <th>V2</th>\n",
              "      <td>144.0</td>\n",
              "      <td>0.091540</td>\n",
              "      <td>0.087627</td>\n",
              "      <td>0.000000</td>\n",
              "      <td>0.015592</td>\n",
              "      <td>0.043288</td>\n",
              "      <td>0.176864</td>\n",
              "      <td>0.264827</td>\n",
              "    </tr>\n",
              "    <tr>\n",
              "      <th>V3</th>\n",
              "      <td>144.0</td>\n",
              "      <td>0.270869</td>\n",
              "      <td>0.069505</td>\n",
              "      <td>0.120897</td>\n",
              "      <td>0.216147</td>\n",
              "      <td>0.299312</td>\n",
              "      <td>0.327257</td>\n",
              "      <td>0.358630</td>\n",
              "    </tr>\n",
              "    <tr>\n",
              "      <th>V4</th>\n",
              "      <td>144.0</td>\n",
              "      <td>0.076968</td>\n",
              "      <td>0.070805</td>\n",
              "      <td>0.000000</td>\n",
              "      <td>0.014333</td>\n",
              "      <td>0.057803</td>\n",
              "      <td>0.134171</td>\n",
              "      <td>0.235520</td>\n",
              "    </tr>\n",
              "    <tr>\n",
              "      <th>V5</th>\n",
              "      <td>144.0</td>\n",
              "      <td>100.128055</td>\n",
              "      <td>1.201104</td>\n",
              "      <td>96.322000</td>\n",
              "      <td>99.737398</td>\n",
              "      <td>100.324900</td>\n",
              "      <td>100.992850</td>\n",
              "      <td>101.778600</td>\n",
              "    </tr>\n",
              "    <tr>\n",
              "      <th>V6</th>\n",
              "      <td>144.0</td>\n",
              "      <td>100.158992</td>\n",
              "      <td>1.292624</td>\n",
              "      <td>96.105030</td>\n",
              "      <td>99.764295</td>\n",
              "      <td>100.280550</td>\n",
              "      <td>100.957400</td>\n",
              "      <td>102.174800</td>\n",
              "    </tr>\n",
              "    <tr>\n",
              "      <th>V7</th>\n",
              "      <td>144.0</td>\n",
              "      <td>0.029583</td>\n",
              "      <td>0.028820</td>\n",
              "      <td>-0.060000</td>\n",
              "      <td>0.017500</td>\n",
              "      <td>0.040000</td>\n",
              "      <td>0.050000</td>\n",
              "      <td>0.090000</td>\n",
              "    </tr>\n",
              "    <tr>\n",
              "      <th>V8</th>\n",
              "      <td>144.0</td>\n",
              "      <td>0.611368</td>\n",
              "      <td>0.037454</td>\n",
              "      <td>0.551271</td>\n",
              "      <td>0.588272</td>\n",
              "      <td>0.599102</td>\n",
              "      <td>0.640697</td>\n",
              "      <td>0.698619</td>\n",
              "    </tr>\n",
              "    <tr>\n",
              "      <th>V9</th>\n",
              "      <td>144.0</td>\n",
              "      <td>1.235073</td>\n",
              "      <td>2.121108</td>\n",
              "      <td>-5.418855</td>\n",
              "      <td>0.412458</td>\n",
              "      <td>1.930578</td>\n",
              "      <td>2.486848</td>\n",
              "      <td>3.559978</td>\n",
              "    </tr>\n",
              "  </tbody>\n",
              "</table>\n",
              "</div>\n",
              "      <button class=\"colab-df-convert\" onclick=\"convertToInteractive('df-ce946136-e62e-4fa4-aeb4-5a156bbd86e8')\"\n",
              "              title=\"Convert this dataframe to an interactive table.\"\n",
              "              style=\"display:none;\">\n",
              "        \n",
              "  <svg xmlns=\"http://www.w3.org/2000/svg\" height=\"24px\"viewBox=\"0 0 24 24\"\n",
              "       width=\"24px\">\n",
              "    <path d=\"M0 0h24v24H0V0z\" fill=\"none\"/>\n",
              "    <path d=\"M18.56 5.44l.94 2.06.94-2.06 2.06-.94-2.06-.94-.94-2.06-.94 2.06-2.06.94zm-11 1L8.5 8.5l.94-2.06 2.06-.94-2.06-.94L8.5 2.5l-.94 2.06-2.06.94zm10 10l.94 2.06.94-2.06 2.06-.94-2.06-.94-.94-2.06-.94 2.06-2.06.94z\"/><path d=\"M17.41 7.96l-1.37-1.37c-.4-.4-.92-.59-1.43-.59-.52 0-1.04.2-1.43.59L10.3 9.45l-7.72 7.72c-.78.78-.78 2.05 0 2.83L4 21.41c.39.39.9.59 1.41.59.51 0 1.02-.2 1.41-.59l7.78-7.78 2.81-2.81c.8-.78.8-2.07 0-2.86zM5.41 20L4 18.59l7.72-7.72 1.47 1.35L5.41 20z\"/>\n",
              "  </svg>\n",
              "      </button>\n",
              "      \n",
              "  <style>\n",
              "    .colab-df-container {\n",
              "      display:flex;\n",
              "      flex-wrap:wrap;\n",
              "      gap: 12px;\n",
              "    }\n",
              "\n",
              "    .colab-df-convert {\n",
              "      background-color: #E8F0FE;\n",
              "      border: none;\n",
              "      border-radius: 50%;\n",
              "      cursor: pointer;\n",
              "      display: none;\n",
              "      fill: #1967D2;\n",
              "      height: 32px;\n",
              "      padding: 0 0 0 0;\n",
              "      width: 32px;\n",
              "    }\n",
              "\n",
              "    .colab-df-convert:hover {\n",
              "      background-color: #E2EBFA;\n",
              "      box-shadow: 0px 1px 2px rgba(60, 64, 67, 0.3), 0px 1px 3px 1px rgba(60, 64, 67, 0.15);\n",
              "      fill: #174EA6;\n",
              "    }\n",
              "\n",
              "    [theme=dark] .colab-df-convert {\n",
              "      background-color: #3B4455;\n",
              "      fill: #D2E3FC;\n",
              "    }\n",
              "\n",
              "    [theme=dark] .colab-df-convert:hover {\n",
              "      background-color: #434B5C;\n",
              "      box-shadow: 0px 1px 3px 1px rgba(0, 0, 0, 0.15);\n",
              "      filter: drop-shadow(0px 1px 2px rgba(0, 0, 0, 0.3));\n",
              "      fill: #FFFFFF;\n",
              "    }\n",
              "  </style>\n",
              "\n",
              "      <script>\n",
              "        const buttonEl =\n",
              "          document.querySelector('#df-ce946136-e62e-4fa4-aeb4-5a156bbd86e8 button.colab-df-convert');\n",
              "        buttonEl.style.display =\n",
              "          google.colab.kernel.accessAllowed ? 'block' : 'none';\n",
              "\n",
              "        async function convertToInteractive(key) {\n",
              "          const element = document.querySelector('#df-ce946136-e62e-4fa4-aeb4-5a156bbd86e8');\n",
              "          const dataTable =\n",
              "            await google.colab.kernel.invokeFunction('convertToInteractive',\n",
              "                                                     [key], {});\n",
              "          if (!dataTable) return;\n",
              "\n",
              "          const docLinkHtml = 'Like what you see? Visit the ' +\n",
              "            '<a target=\"_blank\" href=https://colab.research.google.com/notebooks/data_table.ipynb>data table notebook</a>'\n",
              "            + ' to learn more about interactive tables.';\n",
              "          element.innerHTML = '';\n",
              "          dataTable['output_type'] = 'display_data';\n",
              "          await google.colab.output.renderOutput(dataTable, element);\n",
              "          const docLink = document.createElement('div');\n",
              "          docLink.innerHTML = docLinkHtml;\n",
              "          element.appendChild(docLink);\n",
              "        }\n",
              "      </script>\n",
              "    </div>\n",
              "  </div>\n",
              "  "
            ]
          },
          "metadata": {},
          "execution_count": 8
        }
      ]
    },
    {
      "cell_type": "code",
      "source": [
        "df_training.plot(subplots=True, layout=(4,5), figsize=(15,15));"
      ],
      "metadata": {
        "id": "-Aj-4vE7QrTm",
        "outputId": "b525f08b-3cca-4e3a-dfd2-b8c0a701b34f",
        "colab": {
          "base_uri": "https://localhost:8080/",
          "height": 441
        }
      },
      "execution_count": 9,
      "outputs": [
        {
          "output_type": "display_data",
          "data": {
            "text/plain": [
              "<Figure size 1080x1080 with 20 Axes>"
            ],
            "image/png": "[encoded data removed]"
          },
          "metadata": {
            "needs_background": "light"
          }
        }
      ]
    },
    {
      "cell_type": "code",
      "source": [
        "corr = df_training.corr()\n",
        "\n",
        "corr.style.background_gradient(cmap='coolwarm').set_precision(2)"
      ],
      "metadata": {
        "id": "LhtxiEqBSBYt",
        "outputId": "aadebe39-450b-484d-ee6b-222bb211d99e",
        "colab": {
          "base_uri": "https://localhost:8080/",
          "height": 398
        }
      },
      "execution_count": 10,
      "outputs": [
        {
          "output_type": "stream",
          "name": "stderr",
          "text": [
            "/usr/local/lib/python3.7/dist-packages/ipykernel_launcher.py:3: FutureWarning: this method is deprecated in favour of `Styler.format(precision=..)`\n",
            "  This is separate from the ipykernel package so we can avoid doing imports until\n"
          ]
        },
        {
          "output_type": "execute_result",
          "data": {
            "text/plain": [
              "<pandas.io.formats.style.Styler at 0x7fd099b44cd0>"
            ],
            "text/html": [
              "<style type=\"text/css\">\n",
              "#T_d2d7d_row0_col0, #T_d2d7d_row1_col1, #T_d2d7d_row2_col2, #T_d2d7d_row3_col3, #T_d2d7d_row4_col4, #T_d2d7d_row5_col5, #T_d2d7d_row6_col6, #T_d2d7d_row7_col7, #T_d2d7d_row8_col8, #T_d2d7d_row9_col9 {\n",
              "  background-color: #b40426;\n",
              "  color: #f1f1f1;\n",
              "}\n",
              "#T_d2d7d_row0_col1 {\n",
              "  background-color: #6a8bef;\n",
              "  color: #f1f1f1;\n",
              "}\n",
              "#T_d2d7d_row0_col2 {\n",
              "  background-color: #7699f6;\n",
              "  color: #f1f1f1;\n",
              "}\n",
              "#T_d2d7d_row0_col3 {\n",
              "  background-color: #f59f80;\n",
              "  color: #000000;\n",
              "}\n",
              "#T_d2d7d_row0_col4 {\n",
              "  background-color: #8badfd;\n",
              "  color: #000000;\n",
              "}\n",
              "#T_d2d7d_row0_col5, #T_d2d7d_row2_col5, #T_d2d7d_row8_col5 {\n",
              "  background-color: #9dbdff;\n",
              "  color: #000000;\n",
              "}\n",
              "#T_d2d7d_row0_col6, #T_d2d7d_row7_col3 {\n",
              "  background-color: #a7c5fe;\n",
              "  color: #000000;\n",
              "}\n",
              "#T_d2d7d_row0_col7 {\n",
              "  background-color: #7b9ff9;\n",
              "  color: #f1f1f1;\n",
              "}\n",
              "#T_d2d7d_row0_col8 {\n",
              "  background-color: #89acfd;\n",
              "  color: #000000;\n",
              "}\n",
              "#T_d2d7d_row0_col9 {\n",
              "  background-color: #8caffe;\n",
              "  color: #000000;\n",
              "}\n",
              "#T_d2d7d_row1_col0 {\n",
              "  background-color: #5977e3;\n",
              "  color: #f1f1f1;\n",
              "}\n",
              "#T_d2d7d_row1_col2 {\n",
              "  background-color: #e57058;\n",
              "  color: #f1f1f1;\n",
              "}\n",
              "#T_d2d7d_row1_col3 {\n",
              "  background-color: #688aef;\n",
              "  color: #f1f1f1;\n",
              "}\n",
              "#T_d2d7d_row1_col4 {\n",
              "  background-color: #e26952;\n",
              "  color: #f1f1f1;\n",
              "}\n",
              "#T_d2d7d_row1_col5 {\n",
              "  background-color: #93b5fe;\n",
              "  color: #000000;\n",
              "}\n",
              "#T_d2d7d_row1_col6 {\n",
              "  background-color: #5a78e4;\n",
              "  color: #f1f1f1;\n",
              "}\n",
              "#T_d2d7d_row1_col7 {\n",
              "  background-color: #c9d7f0;\n",
              "  color: #000000;\n",
              "}\n",
              "#T_d2d7d_row1_col8, #T_d2d7d_row7_col9 {\n",
              "  background-color: #ed8366;\n",
              "  color: #f1f1f1;\n",
              "}\n",
              "#T_d2d7d_row1_col9 {\n",
              "  background-color: #98b9ff;\n",
              "  color: #000000;\n",
              "}\n",
              "#T_d2d7d_row2_col0, #T_d2d7d_row3_col1, #T_d2d7d_row3_col2, #T_d2d7d_row3_col4, #T_d2d7d_row3_col5, #T_d2d7d_row3_col7, #T_d2d7d_row3_col8, #T_d2d7d_row3_col9, #T_d2d7d_row4_col3, #T_d2d7d_row4_col6 {\n",
              "  background-color: #3b4cc0;\n",
              "  color: #f1f1f1;\n",
              "}\n",
              "#T_d2d7d_row2_col1 {\n",
              "  background-color: #ea7b60;\n",
              "  color: #f1f1f1;\n",
              "}\n",
              "#T_d2d7d_row2_col3 {\n",
              "  background-color: #3d50c3;\n",
              "  color: #f1f1f1;\n",
              "}\n",
              "#T_d2d7d_row2_col4, #T_d2d7d_row4_col2 {\n",
              "  background-color: #ba162b;\n",
              "  color: #f1f1f1;\n",
              "}\n",
              "#T_d2d7d_row2_col6 {\n",
              "  background-color: #3e51c5;\n",
              "  color: #f1f1f1;\n",
              "}\n",
              "#T_d2d7d_row2_col7, #T_d2d7d_row6_col3, #T_d2d7d_row7_col1 {\n",
              "  background-color: #e8d6cc;\n",
              "  color: #000000;\n",
              "}\n",
              "#T_d2d7d_row2_col8 {\n",
              "  background-color: #c83836;\n",
              "  color: #f1f1f1;\n",
              "}\n",
              "#T_d2d7d_row2_col9, #T_d2d7d_row4_col5 {\n",
              "  background-color: #a2c1ff;\n",
              "  color: #000000;\n",
              "}\n",
              "#T_d2d7d_row3_col0, #T_d2d7d_row7_col6 {\n",
              "  background-color: #f7b79b;\n",
              "  color: #000000;\n",
              "}\n",
              "#T_d2d7d_row3_col6 {\n",
              "  background-color: #7396f5;\n",
              "  color: #f1f1f1;\n",
              "}\n",
              "#T_d2d7d_row4_col0 {\n",
              "  background-color: #4c66d6;\n",
              "  color: #f1f1f1;\n",
              "}\n",
              "#T_d2d7d_row4_col1 {\n",
              "  background-color: #e7745b;\n",
              "  color: #f1f1f1;\n",
              "}\n",
              "#T_d2d7d_row4_col7 {\n",
              "  background-color: #e2dad5;\n",
              "  color: #000000;\n",
              "}\n",
              "#T_d2d7d_row4_col8 {\n",
              "  background-color: #c53334;\n",
              "  color: #f1f1f1;\n",
              "}\n",
              "#T_d2d7d_row4_col9 {\n",
              "  background-color: #9ebeff;\n",
              "  color: #000000;\n",
              "}\n",
              "#T_d2d7d_row5_col0 {\n",
              "  background-color: #d8dce2;\n",
              "  color: #000000;\n",
              "}\n",
              "#T_d2d7d_row5_col1 {\n",
              "  background-color: #dadce0;\n",
              "  color: #000000;\n",
              "}\n",
              "#T_d2d7d_row5_col2 {\n",
              "  background-color: #eed0c0;\n",
              "  color: #000000;\n",
              "}\n",
              "#T_d2d7d_row5_col3, #T_d2d7d_row9_col3 {\n",
              "  background-color: #c1d4f4;\n",
              "  color: #000000;\n",
              "}\n",
              "#T_d2d7d_row5_col4 {\n",
              "  background-color: #f1cdba;\n",
              "  color: #000000;\n",
              "}\n",
              "#T_d2d7d_row5_col6 {\n",
              "  background-color: #cd423b;\n",
              "  color: #f1f1f1;\n",
              "}\n",
              "#T_d2d7d_row5_col7 {\n",
              "  background-color: #ec8165;\n",
              "  color: #f1f1f1;\n",
              "}\n",
              "#T_d2d7d_row5_col8 {\n",
              "  background-color: #edd1c2;\n",
              "  color: #000000;\n",
              "}\n",
              "#T_d2d7d_row5_col9, #T_d2d7d_row9_col5 {\n",
              "  background-color: #c32e31;\n",
              "  color: #f1f1f1;\n",
              "}\n",
              "#T_d2d7d_row6_col0 {\n",
              "  background-color: #e6d7cf;\n",
              "  color: #000000;\n",
              "}\n",
              "#T_d2d7d_row6_col1 {\n",
              "  background-color: #c6d6f1;\n",
              "  color: #000000;\n",
              "}\n",
              "#T_d2d7d_row6_col2, #T_d2d7d_row6_col4, #T_d2d7d_row9_col0 {\n",
              "  background-color: #cedaeb;\n",
              "  color: #000000;\n",
              "}\n",
              "#T_d2d7d_row6_col5 {\n",
              "  background-color: #cc403a;\n",
              "  color: #f1f1f1;\n",
              "}\n",
              "#T_d2d7d_row6_col7 {\n",
              "  background-color: #f6a283;\n",
              "  color: #000000;\n",
              "}\n",
              "#T_d2d7d_row6_col8 {\n",
              "  background-color: #cfdaea;\n",
              "  color: #000000;\n",
              "}\n",
              "#T_d2d7d_row6_col9 {\n",
              "  background-color: #d24b40;\n",
              "  color: #f1f1f1;\n",
              "}\n",
              "#T_d2d7d_row7_col0 {\n",
              "  background-color: #a9c6fd;\n",
              "  color: #000000;\n",
              "}\n",
              "#T_d2d7d_row7_col2 {\n",
              "  background-color: #f7b093;\n",
              "  color: #000000;\n",
              "}\n",
              "#T_d2d7d_row7_col4 {\n",
              "  background-color: #f7b497;\n",
              "  color: #000000;\n",
              "}\n",
              "#T_d2d7d_row7_col5 {\n",
              "  background-color: #f08b6e;\n",
              "  color: #f1f1f1;\n",
              "}\n",
              "#T_d2d7d_row7_col8 {\n",
              "  background-color: #f3c7b1;\n",
              "  color: #000000;\n",
              "}\n",
              "#T_d2d7d_row8_col0 {\n",
              "  background-color: #516ddb;\n",
              "  color: #f1f1f1;\n",
              "}\n",
              "#T_d2d7d_row8_col1 {\n",
              "  background-color: #f18f71;\n",
              "  color: #f1f1f1;\n",
              "}\n",
              "#T_d2d7d_row8_col2 {\n",
              "  background-color: #c73635;\n",
              "  color: #f1f1f1;\n",
              "}\n",
              "#T_d2d7d_row8_col3 {\n",
              "  background-color: #4055c8;\n",
              "  color: #f1f1f1;\n",
              "}\n",
              "#T_d2d7d_row8_col4 {\n",
              "  background-color: #c43032;\n",
              "  color: #f1f1f1;\n",
              "}\n",
              "#T_d2d7d_row8_col6 {\n",
              "  background-color: #4358cb;\n",
              "  color: #f1f1f1;\n",
              "}\n",
              "#T_d2d7d_row8_col7 {\n",
              "  background-color: #cdd9ec;\n",
              "  color: #000000;\n",
              "}\n",
              "#T_d2d7d_row8_col9 {\n",
              "  background-color: #96b7ff;\n",
              "  color: #000000;\n",
              "}\n",
              "#T_d2d7d_row9_col1 {\n",
              "  background-color: #dddcdc;\n",
              "  color: #000000;\n",
              "}\n",
              "#T_d2d7d_row9_col2, #T_d2d7d_row9_col4 {\n",
              "  background-color: #efcebd;\n",
              "  color: #000000;\n",
              "}\n",
              "#T_d2d7d_row9_col6 {\n",
              "  background-color: #d44e41;\n",
              "  color: #f1f1f1;\n",
              "}\n",
              "#T_d2d7d_row9_col7 {\n",
              "  background-color: #e9785d;\n",
              "  color: #f1f1f1;\n",
              "}\n",
              "#T_d2d7d_row9_col8 {\n",
              "  background-color: #ebd3c6;\n",
              "  color: #000000;\n",
              "}\n",
              "</style>\n",
              "<table id=\"T_d2d7d_\" class=\"dataframe\">\n",
              "  <thead>\n",
              "    <tr>\n",
              "      <th class=\"blank level0\" >&nbsp;</th>\n",
              "      <th class=\"col_heading level0 col0\" >Y</th>\n",
              "      <th class=\"col_heading level0 col1\" >V1</th>\n",
              "      <th class=\"col_heading level0 col2\" >V2</th>\n",
              "      <th class=\"col_heading level0 col3\" >V3</th>\n",
              "      <th class=\"col_heading level0 col4\" >V4</th>\n",
              "      <th class=\"col_heading level0 col5\" >V5</th>\n",
              "      <th class=\"col_heading level0 col6\" >V6</th>\n",
              "      <th class=\"col_heading level0 col7\" >V7</th>\n",
              "      <th class=\"col_heading level0 col8\" >V8</th>\n",
              "      <th class=\"col_heading level0 col9\" >V9</th>\n",
              "    </tr>\n",
              "  </thead>\n",
              "  <tbody>\n",
              "    <tr>\n",
              "      <th id=\"T_d2d7d_level0_row0\" class=\"row_heading level0 row0\" >Y</th>\n",
              "      <td id=\"T_d2d7d_row0_col0\" class=\"data row0 col0\" >1.00</td>\n",
              "      <td id=\"T_d2d7d_row0_col1\" class=\"data row0 col1\" >-0.43</td>\n",
              "      <td id=\"T_d2d7d_row0_col2\" class=\"data row0 col2\" >-0.58</td>\n",
              "      <td id=\"T_d2d7d_row0_col3\" class=\"data row0 col3\" >0.48</td>\n",
              "      <td id=\"T_d2d7d_row0_col4\" class=\"data row0 col4\" >-0.49</td>\n",
              "      <td id=\"T_d2d7d_row0_col5\" class=\"data row0 col5\" >0.18</td>\n",
              "      <td id=\"T_d2d7d_row0_col6\" class=\"data row0 col6\" >0.27</td>\n",
              "      <td id=\"T_d2d7d_row0_col7\" class=\"data row0 col7\" >-0.06</td>\n",
              "      <td id=\"T_d2d7d_row0_col8\" class=\"data row0 col8\" >-0.46</td>\n",
              "      <td id=\"T_d2d7d_row0_col9\" class=\"data row0 col9\" >0.12</td>\n",
              "    </tr>\n",
              "    <tr>\n",
              "      <th id=\"T_d2d7d_level0_row1\" class=\"row_heading level0 row1\" >V1</th>\n",
              "      <td id=\"T_d2d7d_row1_col0\" class=\"data row1 col0\" >-0.43</td>\n",
              "      <td id=\"T_d2d7d_row1_col1\" class=\"data row1 col1\" >1.00</td>\n",
              "      <td id=\"T_d2d7d_row1_col2\" class=\"data row1 col2\" >0.69</td>\n",
              "      <td id=\"T_d2d7d_row1_col3\" class=\"data row1 col3\" >-0.68</td>\n",
              "      <td id=\"T_d2d7d_row1_col4\" class=\"data row1 col4\" >0.72</td>\n",
              "      <td id=\"T_d2d7d_row1_col5\" class=\"data row1 col5\" >0.14</td>\n",
              "      <td id=\"T_d2d7d_row1_col6\" class=\"data row1 col6\" >0.02</td>\n",
              "      <td id=\"T_d2d7d_row1_col7\" class=\"data row1 col7\" >0.24</td>\n",
              "      <td id=\"T_d2d7d_row1_col8\" class=\"data row1 col8\" >0.62</td>\n",
              "      <td id=\"T_d2d7d_row1_col9\" class=\"data row1 col9\" >0.16</td>\n",
              "    </tr>\n",
              "    <tr>\n",
              "      <th id=\"T_d2d7d_level0_row2\" class=\"row_heading level0 row2\" >V2</th>\n",
              "      <td id=\"T_d2d7d_row2_col0\" class=\"data row2 col0\" >-0.58</td>\n",
              "      <td id=\"T_d2d7d_row2_col1\" class=\"data row2 col1\" >0.69</td>\n",
              "      <td id=\"T_d2d7d_row2_col2\" class=\"data row2 col2\" >1.00</td>\n",
              "      <td id=\"T_d2d7d_row2_col3\" class=\"data row2 col3\" >-0.95</td>\n",
              "      <td id=\"T_d2d7d_row2_col4\" class=\"data row2 col4\" >0.97</td>\n",
              "      <td id=\"T_d2d7d_row2_col5\" class=\"data row2 col5\" >0.18</td>\n",
              "      <td id=\"T_d2d7d_row2_col6\" class=\"data row2 col6\" >-0.07</td>\n",
              "      <td id=\"T_d2d7d_row2_col7\" class=\"data row2 col7\" >0.40</td>\n",
              "      <td id=\"T_d2d7d_row2_col8\" class=\"data row2 col8\" >0.89</td>\n",
              "      <td id=\"T_d2d7d_row2_col9\" class=\"data row2 col9\" >0.19</td>\n",
              "    </tr>\n",
              "    <tr>\n",
              "      <th id=\"T_d2d7d_level0_row3\" class=\"row_heading level0 row3\" >V3</th>\n",
              "      <td id=\"T_d2d7d_row3_col0\" class=\"data row3 col0\" >0.48</td>\n",
              "      <td id=\"T_d2d7d_row3_col1\" class=\"data row3 col1\" >-0.68</td>\n",
              "      <td id=\"T_d2d7d_row3_col2\" class=\"data row3 col2\" >-0.95</td>\n",
              "      <td id=\"T_d2d7d_row3_col3\" class=\"data row3 col3\" >1.00</td>\n",
              "      <td id=\"T_d2d7d_row3_col4\" class=\"data row3 col4\" >-0.97</td>\n",
              "      <td id=\"T_d2d7d_row3_col5\" class=\"data row3 col5\" >-0.17</td>\n",
              "      <td id=\"T_d2d7d_row3_col6\" class=\"data row3 col6\" >0.10</td>\n",
              "      <td id=\"T_d2d7d_row3_col7\" class=\"data row3 col7\" >-0.33</td>\n",
              "      <td id=\"T_d2d7d_row3_col8\" class=\"data row3 col8\" >-0.92</td>\n",
              "      <td id=\"T_d2d7d_row3_col9\" class=\"data row3 col9\" >-0.17</td>\n",
              "    </tr>\n",
              "    <tr>\n",
              "      <th id=\"T_d2d7d_level0_row4\" class=\"row_heading level0 row4\" >V4</th>\n",
              "      <td id=\"T_d2d7d_row4_col0\" class=\"data row4 col0\" >-0.49</td>\n",
              "      <td id=\"T_d2d7d_row4_col1\" class=\"data row4 col1\" >0.72</td>\n",
              "      <td id=\"T_d2d7d_row4_col2\" class=\"data row4 col2\" >0.97</td>\n",
              "      <td id=\"T_d2d7d_row4_col3\" class=\"data row4 col3\" >-0.97</td>\n",
              "      <td id=\"T_d2d7d_row4_col4\" class=\"data row4 col4\" >1.00</td>\n",
              "      <td id=\"T_d2d7d_row4_col5\" class=\"data row4 col5\" >0.19</td>\n",
              "      <td id=\"T_d2d7d_row4_col6\" class=\"data row4 col6\" >-0.09</td>\n",
              "      <td id=\"T_d2d7d_row4_col7\" class=\"data row4 col7\" >0.36</td>\n",
              "      <td id=\"T_d2d7d_row4_col8\" class=\"data row4 col8\" >0.91</td>\n",
              "      <td id=\"T_d2d7d_row4_col9\" class=\"data row4 col9\" >0.18</td>\n",
              "    </tr>\n",
              "    <tr>\n",
              "      <th id=\"T_d2d7d_level0_row5\" class=\"row_heading level0 row5\" >V5</th>\n",
              "      <td id=\"T_d2d7d_row5_col0\" class=\"data row5 col0\" >0.18</td>\n",
              "      <td id=\"T_d2d7d_row5_col1\" class=\"data row5 col1\" >0.14</td>\n",
              "      <td id=\"T_d2d7d_row5_col2\" class=\"data row5 col2\" >0.18</td>\n",
              "      <td id=\"T_d2d7d_row5_col3\" class=\"data row5 col3\" >-0.17</td>\n",
              "      <td id=\"T_d2d7d_row5_col4\" class=\"data row5 col4\" >0.19</td>\n",
              "      <td id=\"T_d2d7d_row5_col5\" class=\"data row5 col5\" >1.00</td>\n",
              "      <td id=\"T_d2d7d_row5_col6\" class=\"data row5 col6\" >0.92</td>\n",
              "      <td id=\"T_d2d7d_row5_col7\" class=\"data row5 col7\" >0.75</td>\n",
              "      <td id=\"T_d2d7d_row5_col8\" class=\"data row5 col8\" >0.18</td>\n",
              "      <td id=\"T_d2d7d_row5_col9\" class=\"data row5 col9\" >0.95</td>\n",
              "    </tr>\n",
              "    <tr>\n",
              "      <th id=\"T_d2d7d_level0_row6\" class=\"row_heading level0 row6\" >V6</th>\n",
              "      <td id=\"T_d2d7d_row6_col0\" class=\"data row6 col0\" >0.27</td>\n",
              "      <td id=\"T_d2d7d_row6_col1\" class=\"data row6 col1\" >0.02</td>\n",
              "      <td id=\"T_d2d7d_row6_col2\" class=\"data row6 col2\" >-0.07</td>\n",
              "      <td id=\"T_d2d7d_row6_col3\" class=\"data row6 col3\" >0.10</td>\n",
              "      <td id=\"T_d2d7d_row6_col4\" class=\"data row6 col4\" >-0.09</td>\n",
              "      <td id=\"T_d2d7d_row6_col5\" class=\"data row6 col5\" >0.92</td>\n",
              "      <td id=\"T_d2d7d_row6_col6\" class=\"data row6 col6\" >1.00</td>\n",
              "      <td id=\"T_d2d7d_row6_col7\" class=\"data row6 col7\" >0.64</td>\n",
              "      <td id=\"T_d2d7d_row6_col8\" class=\"data row6 col8\" >-0.06</td>\n",
              "      <td id=\"T_d2d7d_row6_col9\" class=\"data row6 col9\" >0.90</td>\n",
              "    </tr>\n",
              "    <tr>\n",
              "      <th id=\"T_d2d7d_level0_row7\" class=\"row_heading level0 row7\" >V7</th>\n",
              "      <td id=\"T_d2d7d_row7_col0\" class=\"data row7 col0\" >-0.06</td>\n",
              "      <td id=\"T_d2d7d_row7_col1\" class=\"data row7 col1\" >0.24</td>\n",
              "      <td id=\"T_d2d7d_row7_col2\" class=\"data row7 col2\" >0.40</td>\n",
              "      <td id=\"T_d2d7d_row7_col3\" class=\"data row7 col3\" >-0.33</td>\n",
              "      <td id=\"T_d2d7d_row7_col4\" class=\"data row7 col4\" >0.36</td>\n",
              "      <td id=\"T_d2d7d_row7_col5\" class=\"data row7 col5\" >0.75</td>\n",
              "      <td id=\"T_d2d7d_row7_col6\" class=\"data row7 col6\" >0.64</td>\n",
              "      <td id=\"T_d2d7d_row7_col7\" class=\"data row7 col7\" >1.00</td>\n",
              "      <td id=\"T_d2d7d_row7_col8\" class=\"data row7 col8\" >0.26</td>\n",
              "      <td id=\"T_d2d7d_row7_col9\" class=\"data row7 col9\" >0.77</td>\n",
              "    </tr>\n",
              "    <tr>\n",
              "      <th id=\"T_d2d7d_level0_row8\" class=\"row_heading level0 row8\" >V8</th>\n",
              "      <td id=\"T_d2d7d_row8_col0\" class=\"data row8 col0\" >-0.46</td>\n",
              "      <td id=\"T_d2d7d_row8_col1\" class=\"data row8 col1\" >0.62</td>\n",
              "      <td id=\"T_d2d7d_row8_col2\" class=\"data row8 col2\" >0.89</td>\n",
              "      <td id=\"T_d2d7d_row8_col3\" class=\"data row8 col3\" >-0.92</td>\n",
              "      <td id=\"T_d2d7d_row8_col4\" class=\"data row8 col4\" >0.91</td>\n",
              "      <td id=\"T_d2d7d_row8_col5\" class=\"data row8 col5\" >0.18</td>\n",
              "      <td id=\"T_d2d7d_row8_col6\" class=\"data row8 col6\" >-0.06</td>\n",
              "      <td id=\"T_d2d7d_row8_col7\" class=\"data row8 col7\" >0.26</td>\n",
              "      <td id=\"T_d2d7d_row8_col8\" class=\"data row8 col8\" >1.00</td>\n",
              "      <td id=\"T_d2d7d_row8_col9\" class=\"data row8 col9\" >0.15</td>\n",
              "    </tr>\n",
              "    <tr>\n",
              "      <th id=\"T_d2d7d_level0_row9\" class=\"row_heading level0 row9\" >V9</th>\n",
              "      <td id=\"T_d2d7d_row9_col0\" class=\"data row9 col0\" >0.12</td>\n",
              "      <td id=\"T_d2d7d_row9_col1\" class=\"data row9 col1\" >0.16</td>\n",
              "      <td id=\"T_d2d7d_row9_col2\" class=\"data row9 col2\" >0.19</td>\n",
              "      <td id=\"T_d2d7d_row9_col3\" class=\"data row9 col3\" >-0.17</td>\n",
              "      <td id=\"T_d2d7d_row9_col4\" class=\"data row9 col4\" >0.18</td>\n",
              "      <td id=\"T_d2d7d_row9_col5\" class=\"data row9 col5\" >0.95</td>\n",
              "      <td id=\"T_d2d7d_row9_col6\" class=\"data row9 col6\" >0.90</td>\n",
              "      <td id=\"T_d2d7d_row9_col7\" class=\"data row9 col7\" >0.77</td>\n",
              "      <td id=\"T_d2d7d_row9_col8\" class=\"data row9 col8\" >0.15</td>\n",
              "      <td id=\"T_d2d7d_row9_col9\" class=\"data row9 col9\" >1.00</td>\n",
              "    </tr>\n",
              "  </tbody>\n",
              "</table>\n"
            ]
          },
          "metadata": {},
          "execution_count": 10
        }
      ]
    },
    {
      "cell_type": "markdown",
      "source": [
        "## Key insights\n",
        "\n",
        "- Feature v3 and v4 seems to inversly porptional to each other\n",
        "- Feature v5, v6 and v9 are closely co realted"
      ],
      "metadata": {
        "id": "t7m6U13EIly5"
      }
    },
    {
      "cell_type": "markdown",
      "source": [
        "Building ML model"
      ],
      "metadata": {
        "id": "ypLFsFZtJghm"
      }
    },
    {
      "cell_type": "code",
      "source": [
        "features = ['V1', 'V2', 'V3', 'V4', 'V5', 'V6', 'V7', 'V8', 'V9']"
      ],
      "metadata": {
        "id": "OW_1wJ2-K9Vg"
      },
      "execution_count": 15,
      "outputs": []
    },
    {
      "cell_type": "code",
      "source": [
        "X = df_training[features]\n",
        "y = df_training.Y\n",
        "# split data into training and testing sets\n",
        "X_train, X_test, y_train, y_test = train_test_split(X, y, test_size=0.25, random_state=42)"
      ],
      "metadata": {
        "id": "lmlWYxtpJH46"
      },
      "execution_count": 16,
      "outputs": []
    },
    {
      "cell_type": "code",
      "source": [
        "sample_incomplete_rows = df_training[df_training.isnull().any(axis=1)].head()\n",
        "sample_incomplete_rows"
      ],
      "metadata": {
        "id": "eMWREx9MMlNC",
        "outputId": "f71f0591-3c3e-44a6-aa81-d1ee22505709",
        "colab": {
          "base_uri": "https://localhost:8080/",
          "height": 49
        }
      },
      "execution_count": 24,
      "outputs": [
        {
          "output_type": "execute_result",
          "data": {
            "text/plain": [
              "Empty DataFrame\n",
              "Columns: [Y, V1, V2, V3, V4, V5, V6, V7, V8, V9]\n",
              "Index: []"
            ],
            "text/html": [
              "\n",
              "  <div id=\"df-bacbd3af-ec41-4cdc-ba98-6e6ef9c3fd6d\">\n",
              "    <div class=\"colab-df-container\">\n",
              "      <div>\n",
              "<style scoped>\n",
              "    .dataframe tbody tr th:only-of-type {\n",
              "        vertical-align: middle;\n",
              "    }\n",
              "\n",
              "    .dataframe tbody tr th {\n",
              "        vertical-align: top;\n",
              "    }\n",
              "\n",
              "    .dataframe thead th {\n",
              "        text-align: right;\n",
              "    }\n",
              "</style>\n",
              "<table border=\"1\" class=\"dataframe\">\n",
              "  <thead>\n",
              "    <tr style=\"text-align: right;\">\n",
              "      <th></th>\n",
              "      <th>Y</th>\n",
              "      <th>V1</th>\n",
              "      <th>V2</th>\n",
              "      <th>V3</th>\n",
              "      <th>V4</th>\n",
              "      <th>V5</th>\n",
              "      <th>V6</th>\n",
              "      <th>V7</th>\n",
              "      <th>V8</th>\n",
              "      <th>V9</th>\n",
              "    </tr>\n",
              "  </thead>\n",
              "  <tbody>\n",
              "  </tbody>\n",
              "</table>\n",
              "</div>\n",
              "      <button class=\"colab-df-convert\" onclick=\"convertToInteractive('df-bacbd3af-ec41-4cdc-ba98-6e6ef9c3fd6d')\"\n",
              "              title=\"Convert this dataframe to an interactive table.\"\n",
              "              style=\"display:none;\">\n",
              "        \n",
              "  <svg xmlns=\"http://www.w3.org/2000/svg\" height=\"24px\"viewBox=\"0 0 24 24\"\n",
              "       width=\"24px\">\n",
              "    <path d=\"M0 0h24v24H0V0z\" fill=\"none\"/>\n",
              "    <path d=\"M18.56 5.44l.94 2.06.94-2.06 2.06-.94-2.06-.94-.94-2.06-.94 2.06-2.06.94zm-11 1L8.5 8.5l.94-2.06 2.06-.94-2.06-.94L8.5 2.5l-.94 2.06-2.06.94zm10 10l.94 2.06.94-2.06 2.06-.94-2.06-.94-.94-2.06-.94 2.06-2.06.94z\"/><path d=\"M17.41 7.96l-1.37-1.37c-.4-.4-.92-.59-1.43-.59-.52 0-1.04.2-1.43.59L10.3 9.45l-7.72 7.72c-.78.78-.78 2.05 0 2.83L4 21.41c.39.39.9.59 1.41.59.51 0 1.02-.2 1.41-.59l7.78-7.78 2.81-2.81c.8-.78.8-2.07 0-2.86zM5.41 20L4 18.59l7.72-7.72 1.47 1.35L5.41 20z\"/>\n",
              "  </svg>\n",
              "      </button>\n",
              "      \n",
              "  <style>\n",
              "    .colab-df-container {\n",
              "      display:flex;\n",
              "      flex-wrap:wrap;\n",
              "      gap: 12px;\n",
              "    }\n",
              "\n",
              "    .colab-df-convert {\n",
              "      background-color: #E8F0FE;\n",
              "      border: none;\n",
              "      border-radius: 50%;\n",
              "      cursor: pointer;\n",
              "      display: none;\n",
              "      fill: #1967D2;\n",
              "      height: 32px;\n",
              "      padding: 0 0 0 0;\n",
              "      width: 32px;\n",
              "    }\n",
              "\n",
              "    .colab-df-convert:hover {\n",
              "      background-color: #E2EBFA;\n",
              "      box-shadow: 0px 1px 2px rgba(60, 64, 67, 0.3), 0px 1px 3px 1px rgba(60, 64, 67, 0.15);\n",
              "      fill: #174EA6;\n",
              "    }\n",
              "\n",
              "    [theme=dark] .colab-df-convert {\n",
              "      background-color: #3B4455;\n",
              "      fill: #D2E3FC;\n",
              "    }\n",
              "\n",
              "    [theme=dark] .colab-df-convert:hover {\n",
              "      background-color: #434B5C;\n",
              "      box-shadow: 0px 1px 3px 1px rgba(0, 0, 0, 0.15);\n",
              "      filter: drop-shadow(0px 1px 2px rgba(0, 0, 0, 0.3));\n",
              "      fill: #FFFFFF;\n",
              "    }\n",
              "  </style>\n",
              "\n",
              "      <script>\n",
              "        const buttonEl =\n",
              "          document.querySelector('#df-bacbd3af-ec41-4cdc-ba98-6e6ef9c3fd6d button.colab-df-convert');\n",
              "        buttonEl.style.display =\n",
              "          google.colab.kernel.accessAllowed ? 'block' : 'none';\n",
              "\n",
              "        async function convertToInteractive(key) {\n",
              "          const element = document.querySelector('#df-bacbd3af-ec41-4cdc-ba98-6e6ef9c3fd6d');\n",
              "          const dataTable =\n",
              "            await google.colab.kernel.invokeFunction('convertToInteractive',\n",
              "                                                     [key], {});\n",
              "          if (!dataTable) return;\n",
              "\n",
              "          const docLinkHtml = 'Like what you see? Visit the ' +\n",
              "            '<a target=\"_blank\" href=https://colab.research.google.com/notebooks/data_table.ipynb>data table notebook</a>'\n",
              "            + ' to learn more about interactive tables.';\n",
              "          element.innerHTML = '';\n",
              "          dataTable['output_type'] = 'display_data';\n",
              "          await google.colab.output.renderOutput(dataTable, element);\n",
              "          const docLink = document.createElement('div');\n",
              "          docLink.innerHTML = docLinkHtml;\n",
              "          element.appendChild(docLink);\n",
              "        }\n",
              "      </script>\n",
              "    </div>\n",
              "  </div>\n",
              "  "
            ]
          },
          "metadata": {},
          "execution_count": 24
        }
      ]
    },
    {
      "cell_type": "code",
      "source": [
        "## Building ML pipeline\n",
        "# Preprocessing for numerical data\n",
        "numerical_transformer = Pipeline(steps=[\n",
        "    ('imputer', SimpleImputer(missing_values = np.nan, strategy='mean')),\n",
        "    ('scaler', StandardScaler())\n",
        "])\n",
        "\n",
        "# Preprocessing for categorical data, as the dataset doesnt have categorical columns there is no need to build categrocial transformer\n",
        "\n",
        "preprocessor = ColumnTransformer(\n",
        "    transformers=[\n",
        "        ('num', numerical_transformer, features)\n",
        "    ])\n",
        "\n",
        "data_prepared = preprocessor.fit_transform(X_train)\n",
        "data_prepared"
      ],
      "metadata": {
        "id": "TX8jkpv1JH24"
      },
      "execution_count": null,
      "outputs": []
    },
    {
      "cell_type": "markdown",
      "source": [
        "## Select and training a model"
      ],
      "metadata": {
        "id": "Xbi7IXubOFuM"
      }
    },
    {
      "cell_type": "markdown",
      "source": [
        "## Linear Regression"
      ],
      "metadata": {
        "id": "iCW4vI4xO7uG"
      }
    },
    {
      "cell_type": "code",
      "source": [
        "from sklearn.linear_model import LinearRegression\n",
        "\n",
        "lin_reg = LinearRegression()\n",
        "lin_reg.fit(data_prepared, y_train)"
      ],
      "metadata": {
        "id": "AL86F03TOFK0",
        "outputId": "425b3376-bd01-46f8-b315-4bc9b1160a98",
        "colab": {
          "base_uri": "https://localhost:8080/"
        }
      },
      "execution_count": 30,
      "outputs": [
        {
          "output_type": "execute_result",
          "data": {
            "text/plain": [
              "LinearRegression()"
            ]
          },
          "metadata": {},
          "execution_count": 30
        }
      ]
    },
    {
      "cell_type": "code",
      "source": [
        "# let's try the full preprocessing pipeline on a few training instances\n",
        "some_data = X_train.iloc[:5]\n",
        "some_labels = y_train.iloc[:5]\n",
        "some_data_prepared = preprocessor.transform(some_data)\n",
        "\n",
        "print(\"Predictions:\", lin_reg.predict(some_data_prepared))\n",
        "print(\"Labels:\", list(some_labels))"
      ],
      "metadata": {
        "id": "oHsPwKJkOFIJ",
        "outputId": "7b53e451-b4ca-4319-dd85-d735ffeef0ed",
        "colab": {
          "base_uri": "https://localhost:8080/"
        }
      },
      "execution_count": 31,
      "outputs": [
        {
          "output_type": "stream",
          "name": "stdout",
          "text": [
            "Predictions: [5758.91818373 9818.26859807 8555.852473   8142.56666657 7174.158139  ]\n",
            "Labels: [6673.0, 10738.0, 9673.0, 5957.0, 7886.0]\n"
          ]
        }
      ]
    },
    {
      "cell_type": "code",
      "source": [
        "from sklearn.metrics import mean_squared_error\n",
        "\n",
        "predictions = lin_reg.predict(data_prepared)\n",
        "lin_mse = mean_squared_error(y_train, predictions)\n",
        "lin_rmse = np.sqrt(lin_mse)\n",
        "lin_rmse"
      ],
      "metadata": {
        "id": "KEmS4cT8OFFy",
        "outputId": "4dd8c3c0-fce0-4fc0-8d22-85efbb22c649",
        "colab": {
          "base_uri": "https://localhost:8080/"
        }
      },
      "execution_count": 32,
      "outputs": [
        {
          "output_type": "execute_result",
          "data": {
            "text/plain": [
              "2123.4320792944495"
            ]
          },
          "metadata": {},
          "execution_count": 32
        }
      ]
    },
    {
      "cell_type": "code",
      "source": [
        "from sklearn.metrics import mean_absolute_error\n",
        "\n",
        "lin_mae = mean_absolute_error(y_train, predictions)\n",
        "lin_mae"
      ],
      "metadata": {
        "id": "gumLN4guOFDA",
        "outputId": "bca56c2d-6629-4793-f06d-1ab7b96e31a1",
        "colab": {
          "base_uri": "https://localhost:8080/"
        }
      },
      "execution_count": 33,
      "outputs": [
        {
          "output_type": "execute_result",
          "data": {
            "text/plain": [
              "1674.1945519477983"
            ]
          },
          "metadata": {},
          "execution_count": 33
        }
      ]
    },
    {
      "cell_type": "markdown",
      "source": [
        "## Decison Tree"
      ],
      "metadata": {
        "id": "zcvec8pdQKT_"
      }
    },
    {
      "cell_type": "code",
      "source": [
        "from sklearn.tree import DecisionTreeRegressor\n",
        "\n",
        "tree_reg = DecisionTreeRegressor(random_state=42)\n",
        "tree_reg.fit(data_prepared, y_train)"
      ],
      "metadata": {
        "id": "dStElwtsOFAa",
        "outputId": "7f20bf47-8a8f-4248-9057-d48cafafd9d7",
        "colab": {
          "base_uri": "https://localhost:8080/"
        }
      },
      "execution_count": 34,
      "outputs": [
        {
          "output_type": "execute_result",
          "data": {
            "text/plain": [
              "DecisionTreeRegressor(random_state=42)"
            ]
          },
          "metadata": {},
          "execution_count": 34
        }
      ]
    },
    {
      "cell_type": "code",
      "source": [
        "predictions = tree_reg.predict(data_prepared)\n",
        "tree_mse = mean_squared_error(y_train, predictions)\n",
        "tree_rmse = np.sqrt(tree_mse)\n",
        "tree_rmse"
      ],
      "metadata": {
        "id": "veRPL5CUQJCB",
        "outputId": "ce1b13de-ec48-42ca-8896-9f9e28c234d9",
        "colab": {
          "base_uri": "https://localhost:8080/"
        }
      },
      "execution_count": 35,
      "outputs": [
        {
          "output_type": "execute_result",
          "data": {
            "text/plain": [
              "0.0"
            ]
          },
          "metadata": {},
          "execution_count": 35
        }
      ]
    },
    {
      "cell_type": "markdown",
      "source": [
        "Decision tree seems to be over fitting"
      ],
      "metadata": {
        "id": "AbCdDgluQyYk"
      }
    },
    {
      "cell_type": "markdown",
      "source": [
        "## Random forest"
      ],
      "metadata": {
        "id": "3i74EWNMQ4XE"
      }
    },
    {
      "cell_type": "code",
      "source": [
        "from sklearn.ensemble import RandomForestRegressor\n",
        "\n",
        "forest_reg = RandomForestRegressor()\n",
        "forest_reg.fit(data_prepared, y_train)\n",
        "\n",
        "predictions = forest_reg.predict(data_prepared)\n",
        "forest_mse = mean_squared_error(y_train, predictions)\n",
        "forest_rmse = np.sqrt(forest_mse)\n",
        "forest_rmse"
      ],
      "metadata": {
        "id": "1TU4EGFQQx6K",
        "outputId": "8a23c890-5944-4834-a687-3afcb9e67111",
        "colab": {
          "base_uri": "https://localhost:8080/"
        }
      },
      "execution_count": 36,
      "outputs": [
        {
          "output_type": "execute_result",
          "data": {
            "text/plain": [
              "801.8867594368829"
            ]
          },
          "metadata": {},
          "execution_count": 36
        }
      ]
    },
    {
      "cell_type": "code",
      "source": [
        "from sklearn.model_selection import cross_val_score\n",
        "def display_scores(scores):\n",
        "    print(\"Scores:\", scores)\n",
        "    print(\"Mean:\", scores.mean())\n",
        "    print(\"Standard deviation:\", scores.std())\n",
        "    \n",
        "forest_scores = cross_val_score(forest_reg, data_prepared, y_train,\n",
        "                                scoring=\"neg_mean_squared_error\", cv=3)\n",
        "forest_rmse_scores = np.sqrt(-forest_scores)\n",
        "display_scores(forest_rmse_scores)"
      ],
      "metadata": {
        "id": "nI1lzLf_QI_D",
        "outputId": "aadd9229-9d6f-4944-e3f3-c0b6e977af90",
        "colab": {
          "base_uri": "https://localhost:8080/"
        }
      },
      "execution_count": 38,
      "outputs": [
        {
          "output_type": "stream",
          "name": "stdout",
          "text": [
            "Scores: [2223.06588033 2230.40617961 2238.76510602]\n",
            "Mean: 2230.745721985726\n",
            "Standard deviation: 6.413677498054647\n"
          ]
        }
      ]
    },
    {
      "cell_type": "markdown",
      "source": [
        "## GridSerach CV¶\n"
      ],
      "metadata": {
        "id": "sYeRtCcaRbuO"
      }
    },
    {
      "cell_type": "code",
      "source": [
        "from sklearn.model_selection import GridSearchCV\n",
        "\n",
        "param_grid = [\n",
        "    # try 12 (3×4) combinations of hyperparameters\n",
        "    {'n_estimators': [3, 10, 30], 'max_features': [2, 4, 6, 8]},\n",
        "    # then try 6 (2×3) combinations with bootstrap set as False\n",
        "    {'bootstrap': [False], 'n_estimators': [3, 10], 'max_features': [2, 3, 4]},\n",
        "  ]\n",
        "\n",
        "forest_reg = RandomForestRegressor(random_state=42)\n",
        "# train across 5 folds, that's a total of (12+6)*5=90 rounds of training \n",
        "grid_search = GridSearchCV(forest_reg, param_grid, cv=5,\n",
        "                           scoring='neg_mean_squared_error',\n",
        "                           return_train_score=True)\n",
        "grid_search.fit(data_prepared, y_train)"
      ],
      "metadata": {
        "id": "OL7xjQOsQI64",
        "outputId": "3f59382f-e6ff-4e1a-cde8-d1d8be3d2dbb",
        "colab": {
          "base_uri": "https://localhost:8080/"
        }
      },
      "execution_count": 39,
      "outputs": [
        {
          "output_type": "execute_result",
          "data": {
            "text/plain": [
              "GridSearchCV(cv=5, estimator=RandomForestRegressor(random_state=42),\n",
              "             param_grid=[{'max_features': [2, 4, 6, 8],\n",
              "                          'n_estimators': [3, 10, 30]},\n",
              "                         {'bootstrap': [False], 'max_features': [2, 3, 4],\n",
              "                          'n_estimators': [3, 10]}],\n",
              "             return_train_score=True, scoring='neg_mean_squared_error')"
            ]
          },
          "metadata": {},
          "execution_count": 39
        }
      ]
    },
    {
      "cell_type": "code",
      "source": [
        "grid_search.best_params_"
      ],
      "metadata": {
        "id": "Thzl49FMQI3N",
        "outputId": "a34253f9-0d78-4fa9-8c2c-64b9cf1c2f2d",
        "colab": {
          "base_uri": "https://localhost:8080/"
        }
      },
      "execution_count": 40,
      "outputs": [
        {
          "output_type": "execute_result",
          "data": {
            "text/plain": [
              "{'max_features': 8, 'n_estimators': 30}"
            ]
          },
          "metadata": {},
          "execution_count": 40
        }
      ]
    },
    {
      "cell_type": "code",
      "source": [
        "grid_search.best_estimator_"
      ],
      "metadata": {
        "id": "iX5ANPtdQI0H",
        "outputId": "be3567d1-68af-40b2-b0d9-fd258e71c3a4",
        "colab": {
          "base_uri": "https://localhost:8080/"
        }
      },
      "execution_count": 41,
      "outputs": [
        {
          "output_type": "execute_result",
          "data": {
            "text/plain": [
              "RandomForestRegressor(max_features=8, n_estimators=30, random_state=42)"
            ]
          },
          "metadata": {},
          "execution_count": 41
        }
      ]
    },
    {
      "cell_type": "code",
      "source": [
        "cvres = grid_search.cv_results_\n",
        "for mean_score, params in zip(cvres[\"mean_test_score\"], cvres[\"params\"]):\n",
        "    print(np.sqrt(-mean_score), params)"
      ],
      "metadata": {
        "id": "N6FWhLivQIxJ",
        "outputId": "831df841-6ac8-4bc1-c134-7e1d4d912a06",
        "colab": {
          "base_uri": "https://localhost:8080/"
        }
      },
      "execution_count": 42,
      "outputs": [
        {
          "output_type": "stream",
          "name": "stdout",
          "text": [
            "2543.18701926522 {'max_features': 2, 'n_estimators': 3}\n",
            "2290.505102226292 {'max_features': 2, 'n_estimators': 10}\n",
            "2171.4331782068516 {'max_features': 2, 'n_estimators': 30}\n",
            "2472.5780894867426 {'max_features': 4, 'n_estimators': 3}\n",
            "2340.525663838485 {'max_features': 4, 'n_estimators': 10}\n",
            "2211.529692828832 {'max_features': 4, 'n_estimators': 30}\n",
            "2460.051340311762 {'max_features': 6, 'n_estimators': 3}\n",
            "2338.19714427822 {'max_features': 6, 'n_estimators': 10}\n",
            "2220.0185122232106 {'max_features': 6, 'n_estimators': 30}\n",
            "2359.84722079278 {'max_features': 8, 'n_estimators': 3}\n",
            "2292.2488957259225 {'max_features': 8, 'n_estimators': 10}\n",
            "2164.338849629575 {'max_features': 8, 'n_estimators': 30}\n",
            "2425.6663070564823 {'bootstrap': False, 'max_features': 2, 'n_estimators': 3}\n",
            "2360.64615188263 {'bootstrap': False, 'max_features': 2, 'n_estimators': 10}\n",
            "2518.6121809038045 {'bootstrap': False, 'max_features': 3, 'n_estimators': 3}\n",
            "2366.67356606061 {'bootstrap': False, 'max_features': 3, 'n_estimators': 10}\n",
            "2453.063427280016 {'bootstrap': False, 'max_features': 4, 'n_estimators': 3}\n",
            "2392.150410926016 {'bootstrap': False, 'max_features': 4, 'n_estimators': 10}\n"
          ]
        }
      ]
    },
    {
      "cell_type": "code",
      "source": [
        "df_test"
      ],
      "metadata": {
        "id": "hHaMSdBWSJtP",
        "outputId": "51d21e29-9b84-43f1-858c-b013369d07ba",
        "colab": {
          "base_uri": "https://localhost:8080/",
          "height": 143
        }
      },
      "execution_count": 43,
      "outputs": [
        {
          "output_type": "execute_result",
          "data": {
            "text/plain": [
              "       Y    V1        V2        V3        V4        V5        V6    V7  \\\n",
              "144   ?   67.0  0.212043  0.123172  0.216391  101.7656  100.4836  0.04   \n",
              "145   ?   67.0  0.212043  0.123172  0.216391  101.6869  100.3605  0.04   \n",
              "146   ?   67.0  0.212043  0.123172  0.216391  101.5832  100.2126  0.04   \n",
              "\n",
              "           V8        V9  \n",
              "144  0.688172  2.394371  \n",
              "145  0.688172  2.394371  \n",
              "146  0.688172  2.394371  "
            ],
            "text/html": [
              "\n",
              "  <div id=\"df-abadaa26-ccf5-47fe-8e64-0215478c5d89\">\n",
              "    <div class=\"colab-df-container\">\n",
              "      <div>\n",
              "<style scoped>\n",
              "    .dataframe tbody tr th:only-of-type {\n",
              "        vertical-align: middle;\n",
              "    }\n",
              "\n",
              "    .dataframe tbody tr th {\n",
              "        vertical-align: top;\n",
              "    }\n",
              "\n",
              "    .dataframe thead th {\n",
              "        text-align: right;\n",
              "    }\n",
              "</style>\n",
              "<table border=\"1\" class=\"dataframe\">\n",
              "  <thead>\n",
              "    <tr style=\"text-align: right;\">\n",
              "      <th></th>\n",
              "      <th>Y</th>\n",
              "      <th>V1</th>\n",
              "      <th>V2</th>\n",
              "      <th>V3</th>\n",
              "      <th>V4</th>\n",
              "      <th>V5</th>\n",
              "      <th>V6</th>\n",
              "      <th>V7</th>\n",
              "      <th>V8</th>\n",
              "      <th>V9</th>\n",
              "    </tr>\n",
              "  </thead>\n",
              "  <tbody>\n",
              "    <tr>\n",
              "      <th>144</th>\n",
              "      <td>?</td>\n",
              "      <td>67.0</td>\n",
              "      <td>0.212043</td>\n",
              "      <td>0.123172</td>\n",
              "      <td>0.216391</td>\n",
              "      <td>101.7656</td>\n",
              "      <td>100.4836</td>\n",
              "      <td>0.04</td>\n",
              "      <td>0.688172</td>\n",
              "      <td>2.394371</td>\n",
              "    </tr>\n",
              "    <tr>\n",
              "      <th>145</th>\n",
              "      <td>?</td>\n",
              "      <td>67.0</td>\n",
              "      <td>0.212043</td>\n",
              "      <td>0.123172</td>\n",
              "      <td>0.216391</td>\n",
              "      <td>101.6869</td>\n",
              "      <td>100.3605</td>\n",
              "      <td>0.04</td>\n",
              "      <td>0.688172</td>\n",
              "      <td>2.394371</td>\n",
              "    </tr>\n",
              "    <tr>\n",
              "      <th>146</th>\n",
              "      <td>?</td>\n",
              "      <td>67.0</td>\n",
              "      <td>0.212043</td>\n",
              "      <td>0.123172</td>\n",
              "      <td>0.216391</td>\n",
              "      <td>101.5832</td>\n",
              "      <td>100.2126</td>\n",
              "      <td>0.04</td>\n",
              "      <td>0.688172</td>\n",
              "      <td>2.394371</td>\n",
              "    </tr>\n",
              "  </tbody>\n",
              "</table>\n",
              "</div>\n",
              "      <button class=\"colab-df-convert\" onclick=\"convertToInteractive('df-abadaa26-ccf5-47fe-8e64-0215478c5d89')\"\n",
              "              title=\"Convert this dataframe to an interactive table.\"\n",
              "              style=\"display:none;\">\n",
              "        \n",
              "  <svg xmlns=\"http://www.w3.org/2000/svg\" height=\"24px\"viewBox=\"0 0 24 24\"\n",
              "       width=\"24px\">\n",
              "    <path d=\"M0 0h24v24H0V0z\" fill=\"none\"/>\n",
              "    <path d=\"M18.56 5.44l.94 2.06.94-2.06 2.06-.94-2.06-.94-.94-2.06-.94 2.06-2.06.94zm-11 1L8.5 8.5l.94-2.06 2.06-.94-2.06-.94L8.5 2.5l-.94 2.06-2.06.94zm10 10l.94 2.06.94-2.06 2.06-.94-2.06-.94-.94-2.06-.94 2.06-2.06.94z\"/><path d=\"M17.41 7.96l-1.37-1.37c-.4-.4-.92-.59-1.43-.59-.52 0-1.04.2-1.43.59L10.3 9.45l-7.72 7.72c-.78.78-.78 2.05 0 2.83L4 21.41c.39.39.9.59 1.41.59.51 0 1.02-.2 1.41-.59l7.78-7.78 2.81-2.81c.8-.78.8-2.07 0-2.86zM5.41 20L4 18.59l7.72-7.72 1.47 1.35L5.41 20z\"/>\n",
              "  </svg>\n",
              "      </button>\n",
              "      \n",
              "  <style>\n",
              "    .colab-df-container {\n",
              "      display:flex;\n",
              "      flex-wrap:wrap;\n",
              "      gap: 12px;\n",
              "    }\n",
              "\n",
              "    .colab-df-convert {\n",
              "      background-color: #E8F0FE;\n",
              "      border: none;\n",
              "      border-radius: 50%;\n",
              "      cursor: pointer;\n",
              "      display: none;\n",
              "      fill: #1967D2;\n",
              "      height: 32px;\n",
              "      padding: 0 0 0 0;\n",
              "      width: 32px;\n",
              "    }\n",
              "\n",
              "    .colab-df-convert:hover {\n",
              "      background-color: #E2EBFA;\n",
              "      box-shadow: 0px 1px 2px rgba(60, 64, 67, 0.3), 0px 1px 3px 1px rgba(60, 64, 67, 0.15);\n",
              "      fill: #174EA6;\n",
              "    }\n",
              "\n",
              "    [theme=dark] .colab-df-convert {\n",
              "      background-color: #3B4455;\n",
              "      fill: #D2E3FC;\n",
              "    }\n",
              "\n",
              "    [theme=dark] .colab-df-convert:hover {\n",
              "      background-color: #434B5C;\n",
              "      box-shadow: 0px 1px 3px 1px rgba(0, 0, 0, 0.15);\n",
              "      filter: drop-shadow(0px 1px 2px rgba(0, 0, 0, 0.3));\n",
              "      fill: #FFFFFF;\n",
              "    }\n",
              "  </style>\n",
              "\n",
              "      <script>\n",
              "        const buttonEl =\n",
              "          document.querySelector('#df-abadaa26-ccf5-47fe-8e64-0215478c5d89 button.colab-df-convert');\n",
              "        buttonEl.style.display =\n",
              "          google.colab.kernel.accessAllowed ? 'block' : 'none';\n",
              "\n",
              "        async function convertToInteractive(key) {\n",
              "          const element = document.querySelector('#df-abadaa26-ccf5-47fe-8e64-0215478c5d89');\n",
              "          const dataTable =\n",
              "            await google.colab.kernel.invokeFunction('convertToInteractive',\n",
              "                                                     [key], {});\n",
              "          if (!dataTable) return;\n",
              "\n",
              "          const docLinkHtml = 'Like what you see? Visit the ' +\n",
              "            '<a target=\"_blank\" href=https://colab.research.google.com/notebooks/data_table.ipynb>data table notebook</a>'\n",
              "            + ' to learn more about interactive tables.';\n",
              "          element.innerHTML = '';\n",
              "          dataTable['output_type'] = 'display_data';\n",
              "          await google.colab.output.renderOutput(dataTable, element);\n",
              "          const docLink = document.createElement('div');\n",
              "          docLink.innerHTML = docLinkHtml;\n",
              "          element.appendChild(docLink);\n",
              "        }\n",
              "      </script>\n",
              "    </div>\n",
              "  </div>\n",
              "  "
            ]
          },
          "metadata": {},
          "execution_count": 43
        }
      ]
    },
    {
      "cell_type": "code",
      "source": [
        "X_test = df_test.drop(\"Y\", axis=1)\n",
        "y_test = df_test[\"Y\"].copy()"
      ],
      "metadata": {
        "id": "s7ip1KZlSJr6"
      },
      "execution_count": 44,
      "outputs": []
    },
    {
      "cell_type": "code",
      "source": [
        "final_model = grid_search.best_estimator_\n",
        "X_test_prepared = preprocessor.transform(X_test)\n",
        "final_predictions = final_model.predict(X_test_prepared)\n",
        "\n",
        "final_predictions\n"
      ],
      "metadata": {
        "id": "kVOaNpphR0fL",
        "outputId": "3c67b7c2-2ae0-483e-9c03-f117bf80c798",
        "colab": {
          "base_uri": "https://localhost:8080/"
        }
      },
      "execution_count": 45,
      "outputs": [
        {
          "output_type": "execute_result",
          "data": {
            "text/plain": [
              "array([7973.2       , 7707.83333333, 7541.16666667])"
            ]
          },
          "metadata": {},
          "execution_count": 45
        }
      ]
    },
    {
      "cell_type": "code",
      "source": [
        ""
      ],
      "metadata": {
        "id": "-4sxfYxmR0bY"
      },
      "execution_count": null,
      "outputs": []
    },
    {
      "cell_type": "code",
      "source": [
        ""
      ],
      "metadata": {
        "id": "L7JN0Qc2R0YH"
      },
      "execution_count": null,
      "outputs": []
    },
    {
      "cell_type": "code",
      "source": [
        ""
      ],
      "metadata": {
        "id": "LATBN3uZR0UW"
      },
      "execution_count": null,
      "outputs": []
    },
    {
      "cell_type": "code",
      "source": [
        ""
      ],
      "metadata": {
        "id": "hfXk1HsSR0RN"
      },
      "execution_count": null,
      "outputs": []
    },
    {
      "cell_type": "code",
      "source": [
        "# spot check some algorithms\n",
        "regressor = []\n",
        "regressor.append(('LDA', LinearDiscriminantAnalysis()))\n",
        "regressor.append(('KNN', KNeighborsRegressor()))\n",
        "regressor.append(('NB', GaussianNB()))\n",
        "regressor.append(('SVM', SVC()))\n",
        "regressor.append(('CTREE', DecisionTreeRegressor()))\n",
        "regressor.append(('RFT', RandomForestRegressor()))"
      ],
      "metadata": {
        "id": "AmRQzcVkLPUv"
      },
      "execution_count": 22,
      "outputs": []
    },
    {
      "cell_type": "code",
      "source": [
        "# Bundle preprocessing and modeling code in a pipeline\n",
        "for model, clf in regressor:\n",
        "  my_pipeline = Pipeline(steps=[('preprocessor', preprocessor)\n",
        "                                ,('model', clf)\n",
        "                              ])\n",
        "  # # Preprocessing of training data, fit model \n",
        "  my_pipeline.fit(X_train, y_train)\n",
        "\n",
        "  # Preprocessing of validation data, get predictions\n",
        "  preds = my_pipeline.predict(X_test)\n",
        "\n",
        "  # Evaluate the model\n",
        "  score = accuracy_score(y_test, preds)\n",
        "  \n",
        "  print('Accuracy:' + model, score)"
      ],
      "metadata": {
        "id": "Zez2FX25LUKP",
        "outputId": "0bb8f457-9c5d-4787-d8bc-46a9da622ae7",
        "colab": {
          "base_uri": "https://localhost:8080/",
          "height": 381
        }
      },
      "execution_count": 23,
      "outputs": [
        {
          "output_type": "error",
          "ename": "ValueError",
          "evalue": "ignored",
          "traceback": [
            "\u001b[0;31m---------------------------------------------------------------------------\u001b[0m",
            "\u001b[0;31mValueError\u001b[0m                                Traceback (most recent call last)",
            "\u001b[0;32m<ipython-input-23-5fa9596bc19d>\u001b[0m in \u001b[0;36m<module>\u001b[0;34m()\u001b[0m\n\u001b[1;32m      5\u001b[0m                               ])\n\u001b[1;32m      6\u001b[0m   \u001b[0;31m# # Preprocessing of training data, fit model\u001b[0m\u001b[0;34m\u001b[0m\u001b[0;34m\u001b[0m\u001b[0;34m\u001b[0m\u001b[0m\n\u001b[0;32m----> 7\u001b[0;31m   \u001b[0mmy_pipeline\u001b[0m\u001b[0;34m.\u001b[0m\u001b[0mfit\u001b[0m\u001b[0;34m(\u001b[0m\u001b[0mX_train\u001b[0m\u001b[0;34m,\u001b[0m \u001b[0my_train\u001b[0m\u001b[0;34m)\u001b[0m\u001b[0;34m\u001b[0m\u001b[0;34m\u001b[0m\u001b[0m\n\u001b[0m\u001b[1;32m      8\u001b[0m \u001b[0;34m\u001b[0m\u001b[0m\n\u001b[1;32m      9\u001b[0m   \u001b[0;31m# Preprocessing of validation data, get predictions\u001b[0m\u001b[0;34m\u001b[0m\u001b[0;34m\u001b[0m\u001b[0;34m\u001b[0m\u001b[0m\n",
            "\u001b[0;32m/usr/local/lib/python3.7/dist-packages/sklearn/pipeline.py\u001b[0m in \u001b[0;36mfit\u001b[0;34m(self, X, y, **fit_params)\u001b[0m\n\u001b[1;32m    392\u001b[0m             \u001b[0;32mif\u001b[0m \u001b[0mself\u001b[0m\u001b[0;34m.\u001b[0m\u001b[0m_final_estimator\u001b[0m \u001b[0;34m!=\u001b[0m \u001b[0;34m\"passthrough\"\u001b[0m\u001b[0;34m:\u001b[0m\u001b[0;34m\u001b[0m\u001b[0;34m\u001b[0m\u001b[0m\n\u001b[1;32m    393\u001b[0m                 \u001b[0mfit_params_last_step\u001b[0m \u001b[0;34m=\u001b[0m \u001b[0mfit_params_steps\u001b[0m\u001b[0;34m[\u001b[0m\u001b[0mself\u001b[0m\u001b[0;34m.\u001b[0m\u001b[0msteps\u001b[0m\u001b[0;34m[\u001b[0m\u001b[0;34m-\u001b[0m\u001b[0;36m1\u001b[0m\u001b[0;34m]\u001b[0m\u001b[0;34m[\u001b[0m\u001b[0;36m0\u001b[0m\u001b[0;34m]\u001b[0m\u001b[0;34m]\u001b[0m\u001b[0;34m\u001b[0m\u001b[0;34m\u001b[0m\u001b[0m\n\u001b[0;32m--> 394\u001b[0;31m                 \u001b[0mself\u001b[0m\u001b[0;34m.\u001b[0m\u001b[0m_final_estimator\u001b[0m\u001b[0;34m.\u001b[0m\u001b[0mfit\u001b[0m\u001b[0;34m(\u001b[0m\u001b[0mXt\u001b[0m\u001b[0;34m,\u001b[0m \u001b[0my\u001b[0m\u001b[0;34m,\u001b[0m \u001b[0;34m**\u001b[0m\u001b[0mfit_params_last_step\u001b[0m\u001b[0;34m)\u001b[0m\u001b[0;34m\u001b[0m\u001b[0;34m\u001b[0m\u001b[0m\n\u001b[0m\u001b[1;32m    395\u001b[0m \u001b[0;34m\u001b[0m\u001b[0m\n\u001b[1;32m    396\u001b[0m         \u001b[0;32mreturn\u001b[0m \u001b[0mself\u001b[0m\u001b[0;34m\u001b[0m\u001b[0;34m\u001b[0m\u001b[0m\n",
            "\u001b[0;32m/usr/local/lib/python3.7/dist-packages/sklearn/discriminant_analysis.py\u001b[0m in \u001b[0;36mfit\u001b[0;34m(self, X, y)\u001b[0m\n\u001b[1;32m    551\u001b[0m         \u001b[0;32mif\u001b[0m \u001b[0mn_samples\u001b[0m \u001b[0;34m==\u001b[0m \u001b[0mn_classes\u001b[0m\u001b[0;34m:\u001b[0m\u001b[0;34m\u001b[0m\u001b[0;34m\u001b[0m\u001b[0m\n\u001b[1;32m    552\u001b[0m             raise ValueError(\n\u001b[0;32m--> 553\u001b[0;31m                 \u001b[0;34m\"The number of samples must be more than the number of classes.\"\u001b[0m\u001b[0;34m\u001b[0m\u001b[0;34m\u001b[0m\u001b[0m\n\u001b[0m\u001b[1;32m    554\u001b[0m             )\n\u001b[1;32m    555\u001b[0m \u001b[0;34m\u001b[0m\u001b[0m\n",
            "\u001b[0;31mValueError\u001b[0m: The number of samples must be more than the number of classes."
          ]
        }
      ]
    }
  ]
}