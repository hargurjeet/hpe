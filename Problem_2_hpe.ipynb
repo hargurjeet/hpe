{
  "nbformat": 4,
  "nbformat_minor": 0,
  "metadata": {
    "colab": {
      "name": "Problem_2_hpe.ipynb",
      "provenance": [],
      "authorship_tag": "ABX9TyO1EpyyMeRsKchZ/SwZFCc3",
      "include_colab_link": true
    },
    "kernelspec": {
      "name": "python3",
      "display_name": "Python 3"
    },
    "language_info": {
      "name": "python"
    }
  },
  "cells": [
    {
      "cell_type": "markdown",
      "metadata": {
        "id": "view-in-github",
        "colab_type": "text"
      },
      "source": [
        "<a href=\"https://colab.research.google.com/github/hargurjeet/hpe/blob/main/Problem_2_hpe.ipynb\" target=\"_parent\"><img src=\"https://colab.research.google.com/assets/colab-badge.svg\" alt=\"Open In Colab\"/></a>"
      ]
    },
    {
      "cell_type": "markdown",
      "source": [
        "# **HPE ML & EDA Problem** "
      ],
      "metadata": {
        "id": "r9hNUMxTacfu"
      }
    },
    {
      "cell_type": "markdown",
      "source": [
        "## INSTRUCTIONS\n",
        "An ML dataset is given.\n",
        "- Do an EDA to show some insights across independent variables(V1, V2, ..) & response variable (Y in Column A) \n",
        "- Include the EDA insights/results in a presentable format (Slides)\n",
        "- Predict for the response variable (Y in Column A) \n",
        "\n",
        "- Please include R/Python Code as well"
      ],
      "metadata": {
        "id": "a4UtB_X3ao_x"
      }
    },
    {
      "cell_type": "markdown",
      "source": [
        "# **Table Of Contents**<a name=\"top\"></a>\n",
        "\n",
        "\n",
        "---\n",
        "\n",
        "\n",
        "\n",
        "---\n",
        "\n",
        "\n",
        "  1. [Loading the dataset Preprocessing](#1)\n",
        "  2. [Explainatory Data Analysis](#2)\n",
        "  3. [Building ML Pipelines](#3)\n",
        "  4. [Selecting and Training the models](#4)\n",
        "  5. [Hyperparameterization](#5)\n",
        "  6. [Making the predictions](#6)\n"
      ],
      "metadata": {
        "id": "6H_0Hxkya1y1"
      }
    },
    {
      "cell_type": "markdown",
      "source": [
        "# 1: Loading the dataset & Preprocessing <a name=\"1\"></a>\n",
        "\n",
        "\n",
        "---\n",
        "<a href=\"#top\" class=\"btn btn-primary btn-sm\" role=\"button\" aria-pressed=\"true\" style=\"color:white\" data-toggle=\"popover\">Go to TOC</a> "
      ],
      "metadata": {
        "id": "RIKKtf9sbh70"
      }
    },
    {
      "cell_type": "code",
      "execution_count": 1,
      "metadata": {
        "id": "ZKefxBbFiS5Q"
      },
      "outputs": [],
      "source": [
        "## Importing all the requeired libraries\n",
        "\n",
        "# For data preprocessing\n",
        "import pandas as pd\n",
        "import numpy as np\n",
        "from collections import Counter\n",
        "from imblearn.over_sampling import SMOTENC\n",
        "\n",
        "# To build visualizations\n",
        "from matplotlib.pyplot import figure\n",
        "import matplotlib.pyplot as plt\n",
        "import seaborn as sns\n",
        "import missingno as msno\n",
        "import plotly.express as px\n",
        "import plotly.graph_objects as go\n",
        "import scipy.stats\n",
        "import pylab\n",
        "\n",
        "# Librareis for building pipelines\n",
        "from sklearn.preprocessing import OneHotEncoder\n",
        "from sklearn.compose import ColumnTransformer\n",
        "from sklearn.pipeline import Pipeline\n",
        "from sklearn.preprocessing import MinMaxScaler, StandardScaler\n",
        "from sklearn.impute import SimpleImputer\n",
        "\n",
        "# To build ML models\n",
        "from sklearn.model_selection import train_test_split, KFold, cross_val_score, GridSearchCV\n",
        "from sklearn.linear_model import LogisticRegression\n",
        "from sklearn.tree import DecisionTreeRegressor\n",
        "from sklearn.ensemble import RandomForestRegressor\n",
        "from sklearn.svm import SVC\n",
        "import lightgbm as lgb\n",
        "from sklearn.metrics import accuracy_score,classification_report\n",
        "from sklearn.neighbors import KNeighborsRegressor\n",
        "from sklearn.discriminant_analysis import LinearDiscriminantAnalysis\n",
        "from sklearn.naive_bayes import GaussianNB"
      ]
    },
    {
      "cell_type": "code",
      "source": [
        "df = pd.read_csv('https://raw.githubusercontent.com/hargurjeet/hpe/main/Problem2.csv')\n",
        "df.head()"
      ],
      "metadata": {
        "colab": {
          "base_uri": "https://localhost:8080/",
          "height": 206
        },
        "id": "B2F8AEYl8gVs",
        "outputId": "557f4231-f8e7-432b-cb9b-0047f36e0929"
      },
      "execution_count": 2,
      "outputs": [
        {
          "output_type": "execute_result",
          "data": {
            "text/plain": [
              "          Y   V1   V2        V3   V4        V5        V6    V7        V8  \\\n",
              "0    9,111   0.0  0.0  0.343088  0.0  100.4014  100.6104  0.04  0.551271   \n",
              "1   10,918   0.0  0.0  0.343088  0.0  100.5697  100.7629  0.04  0.551271   \n",
              "2   13,402   0.0  0.0  0.343088  0.0  100.7521  100.8958  0.04  0.551271   \n",
              "3   11,530   0.0  0.0  0.357665  0.0  100.9278  101.0110  0.04  0.556536   \n",
              "4    9,972   0.0  0.0  0.357665  0.0  101.0532  101.1080  0.04  0.556536   \n",
              "\n",
              "         V9  \n",
              "0  3.361059  \n",
              "1  3.361059  \n",
              "2  3.361059  \n",
              "3  3.559978  \n",
              "4  3.559978  "
            ],
            "text/html": [
              "\n",
              "  <div id=\"df-a75b35c1-d3ee-40d6-b198-f8f6a62468cd\">\n",
              "    <div class=\"colab-df-container\">\n",
              "      <div>\n",
              "<style scoped>\n",
              "    .dataframe tbody tr th:only-of-type {\n",
              "        vertical-align: middle;\n",
              "    }\n",
              "\n",
              "    .dataframe tbody tr th {\n",
              "        vertical-align: top;\n",
              "    }\n",
              "\n",
              "    .dataframe thead th {\n",
              "        text-align: right;\n",
              "    }\n",
              "</style>\n",
              "<table border=\"1\" class=\"dataframe\">\n",
              "  <thead>\n",
              "    <tr style=\"text-align: right;\">\n",
              "      <th></th>\n",
              "      <th>Y</th>\n",
              "      <th>V1</th>\n",
              "      <th>V2</th>\n",
              "      <th>V3</th>\n",
              "      <th>V4</th>\n",
              "      <th>V5</th>\n",
              "      <th>V6</th>\n",
              "      <th>V7</th>\n",
              "      <th>V8</th>\n",
              "      <th>V9</th>\n",
              "    </tr>\n",
              "  </thead>\n",
              "  <tbody>\n",
              "    <tr>\n",
              "      <th>0</th>\n",
              "      <td>9,111</td>\n",
              "      <td>0.0</td>\n",
              "      <td>0.0</td>\n",
              "      <td>0.343088</td>\n",
              "      <td>0.0</td>\n",
              "      <td>100.4014</td>\n",
              "      <td>100.6104</td>\n",
              "      <td>0.04</td>\n",
              "      <td>0.551271</td>\n",
              "      <td>3.361059</td>\n",
              "    </tr>\n",
              "    <tr>\n",
              "      <th>1</th>\n",
              "      <td>10,918</td>\n",
              "      <td>0.0</td>\n",
              "      <td>0.0</td>\n",
              "      <td>0.343088</td>\n",
              "      <td>0.0</td>\n",
              "      <td>100.5697</td>\n",
              "      <td>100.7629</td>\n",
              "      <td>0.04</td>\n",
              "      <td>0.551271</td>\n",
              "      <td>3.361059</td>\n",
              "    </tr>\n",
              "    <tr>\n",
              "      <th>2</th>\n",
              "      <td>13,402</td>\n",
              "      <td>0.0</td>\n",
              "      <td>0.0</td>\n",
              "      <td>0.343088</td>\n",
              "      <td>0.0</td>\n",
              "      <td>100.7521</td>\n",
              "      <td>100.8958</td>\n",
              "      <td>0.04</td>\n",
              "      <td>0.551271</td>\n",
              "      <td>3.361059</td>\n",
              "    </tr>\n",
              "    <tr>\n",
              "      <th>3</th>\n",
              "      <td>11,530</td>\n",
              "      <td>0.0</td>\n",
              "      <td>0.0</td>\n",
              "      <td>0.357665</td>\n",
              "      <td>0.0</td>\n",
              "      <td>100.9278</td>\n",
              "      <td>101.0110</td>\n",
              "      <td>0.04</td>\n",
              "      <td>0.556536</td>\n",
              "      <td>3.559978</td>\n",
              "    </tr>\n",
              "    <tr>\n",
              "      <th>4</th>\n",
              "      <td>9,972</td>\n",
              "      <td>0.0</td>\n",
              "      <td>0.0</td>\n",
              "      <td>0.357665</td>\n",
              "      <td>0.0</td>\n",
              "      <td>101.0532</td>\n",
              "      <td>101.1080</td>\n",
              "      <td>0.04</td>\n",
              "      <td>0.556536</td>\n",
              "      <td>3.559978</td>\n",
              "    </tr>\n",
              "  </tbody>\n",
              "</table>\n",
              "</div>\n",
              "      <button class=\"colab-df-convert\" onclick=\"convertToInteractive('df-a75b35c1-d3ee-40d6-b198-f8f6a62468cd')\"\n",
              "              title=\"Convert this dataframe to an interactive table.\"\n",
              "              style=\"display:none;\">\n",
              "        \n",
              "  <svg xmlns=\"http://www.w3.org/2000/svg\" height=\"24px\"viewBox=\"0 0 24 24\"\n",
              "       width=\"24px\">\n",
              "    <path d=\"M0 0h24v24H0V0z\" fill=\"none\"/>\n",
              "    <path d=\"M18.56 5.44l.94 2.06.94-2.06 2.06-.94-2.06-.94-.94-2.06-.94 2.06-2.06.94zm-11 1L8.5 8.5l.94-2.06 2.06-.94-2.06-.94L8.5 2.5l-.94 2.06-2.06.94zm10 10l.94 2.06.94-2.06 2.06-.94-2.06-.94-.94-2.06-.94 2.06-2.06.94z\"/><path d=\"M17.41 7.96l-1.37-1.37c-.4-.4-.92-.59-1.43-.59-.52 0-1.04.2-1.43.59L10.3 9.45l-7.72 7.72c-.78.78-.78 2.05 0 2.83L4 21.41c.39.39.9.59 1.41.59.51 0 1.02-.2 1.41-.59l7.78-7.78 2.81-2.81c.8-.78.8-2.07 0-2.86zM5.41 20L4 18.59l7.72-7.72 1.47 1.35L5.41 20z\"/>\n",
              "  </svg>\n",
              "      </button>\n",
              "      \n",
              "  <style>\n",
              "    .colab-df-container {\n",
              "      display:flex;\n",
              "      flex-wrap:wrap;\n",
              "      gap: 12px;\n",
              "    }\n",
              "\n",
              "    .colab-df-convert {\n",
              "      background-color: #E8F0FE;\n",
              "      border: none;\n",
              "      border-radius: 50%;\n",
              "      cursor: pointer;\n",
              "      display: none;\n",
              "      fill: #1967D2;\n",
              "      height: 32px;\n",
              "      padding: 0 0 0 0;\n",
              "      width: 32px;\n",
              "    }\n",
              "\n",
              "    .colab-df-convert:hover {\n",
              "      background-color: #E2EBFA;\n",
              "      box-shadow: 0px 1px 2px rgba(60, 64, 67, 0.3), 0px 1px 3px 1px rgba(60, 64, 67, 0.15);\n",
              "      fill: #174EA6;\n",
              "    }\n",
              "\n",
              "    [theme=dark] .colab-df-convert {\n",
              "      background-color: #3B4455;\n",
              "      fill: #D2E3FC;\n",
              "    }\n",
              "\n",
              "    [theme=dark] .colab-df-convert:hover {\n",
              "      background-color: #434B5C;\n",
              "      box-shadow: 0px 1px 3px 1px rgba(0, 0, 0, 0.15);\n",
              "      filter: drop-shadow(0px 1px 2px rgba(0, 0, 0, 0.3));\n",
              "      fill: #FFFFFF;\n",
              "    }\n",
              "  </style>\n",
              "\n",
              "      <script>\n",
              "        const buttonEl =\n",
              "          document.querySelector('#df-a75b35c1-d3ee-40d6-b198-f8f6a62468cd button.colab-df-convert');\n",
              "        buttonEl.style.display =\n",
              "          google.colab.kernel.accessAllowed ? 'block' : 'none';\n",
              "\n",
              "        async function convertToInteractive(key) {\n",
              "          const element = document.querySelector('#df-a75b35c1-d3ee-40d6-b198-f8f6a62468cd');\n",
              "          const dataTable =\n",
              "            await google.colab.kernel.invokeFunction('convertToInteractive',\n",
              "                                                     [key], {});\n",
              "          if (!dataTable) return;\n",
              "\n",
              "          const docLinkHtml = 'Like what you see? Visit the ' +\n",
              "            '<a target=\"_blank\" href=https://colab.research.google.com/notebooks/data_table.ipynb>data table notebook</a>'\n",
              "            + ' to learn more about interactive tables.';\n",
              "          element.innerHTML = '';\n",
              "          dataTable['output_type'] = 'display_data';\n",
              "          await google.colab.output.renderOutput(dataTable, element);\n",
              "          const docLink = document.createElement('div');\n",
              "          docLink.innerHTML = docLinkHtml;\n",
              "          element.appendChild(docLink);\n",
              "        }\n",
              "      </script>\n",
              "    </div>\n",
              "  </div>\n",
              "  "
            ]
          },
          "metadata": {},
          "execution_count": 2
        }
      ]
    },
    {
      "cell_type": "code",
      "source": [
        "## Seprating the traing and the test set\n",
        "df_training = df.iloc[:144, :]\n",
        "df_test = df.iloc[144:147, :]"
      ],
      "metadata": {
        "id": "rVZvuzqAJw9Y"
      },
      "execution_count": 3,
      "outputs": []
    },
    {
      "cell_type": "code",
      "source": [
        "df_training.info()"
      ],
      "metadata": {
        "colab": {
          "base_uri": "https://localhost:8080/"
        },
        "id": "-S8sFeBJKPdQ",
        "outputId": "41b58b9f-62dc-4acf-9054-896f1d2db084"
      },
      "execution_count": 4,
      "outputs": [
        {
          "output_type": "stream",
          "name": "stdout",
          "text": [
            "<class 'pandas.core.frame.DataFrame'>\n",
            "RangeIndex: 144 entries, 0 to 143\n",
            "Data columns (total 10 columns):\n",
            " #   Column  Non-Null Count  Dtype  \n",
            "---  ------  --------------  -----  \n",
            " 0   Y       144 non-null    object \n",
            " 1   V1      144 non-null    float64\n",
            " 2   V2      144 non-null    float64\n",
            " 3   V3      144 non-null    float64\n",
            " 4   V4      144 non-null    float64\n",
            " 5   V5      144 non-null    float64\n",
            " 6   V6      144 non-null    float64\n",
            " 7   V7      144 non-null    float64\n",
            " 8   V8      144 non-null    float64\n",
            " 9   V9      144 non-null    float64\n",
            "dtypes: float64(9), object(1)\n",
            "memory usage: 11.4+ KB\n"
          ]
        }
      ]
    },
    {
      "cell_type": "code",
      "source": [
        "# as target variable is number, Coverting Y to numberic\n",
        "df_training['Y'] = df_training['Y'].str.replace(',', '').astype(float)\n",
        "df_training['Y'].apply(pd.to_numeric)"
      ],
      "metadata": {
        "colab": {
          "base_uri": "https://localhost:8080/"
        },
        "id": "9EcDU8rCLUmP",
        "outputId": "be6dbf3d-078e-4941-cf28-1d6969916b9a"
      },
      "execution_count": 5,
      "outputs": [
        {
          "output_type": "stream",
          "name": "stderr",
          "text": [
            "/usr/local/lib/python3.7/dist-packages/ipykernel_launcher.py:2: SettingWithCopyWarning: \n",
            "A value is trying to be set on a copy of a slice from a DataFrame.\n",
            "Try using .loc[row_indexer,col_indexer] = value instead\n",
            "\n",
            "See the caveats in the documentation: https://pandas.pydata.org/pandas-docs/stable/user_guide/indexing.html#returning-a-view-versus-a-copy\n",
            "  \n"
          ]
        },
        {
          "output_type": "execute_result",
          "data": {
            "text/plain": [
              "0       9111.0\n",
              "1      10918.0\n",
              "2      13402.0\n",
              "3      11530.0\n",
              "4       9972.0\n",
              "        ...   \n",
              "139     6194.0\n",
              "140     9575.0\n",
              "141    10565.0\n",
              "142     9097.0\n",
              "143     9866.0\n",
              "Name: Y, Length: 144, dtype: float64"
            ]
          },
          "metadata": {},
          "execution_count": 5
        }
      ]
    },
    {
      "cell_type": "code",
      "source": [
        "df_training.info()"
      ],
      "metadata": {
        "colab": {
          "base_uri": "https://localhost:8080/"
        },
        "id": "bPecm1gUPf66",
        "outputId": "7961cbd8-793c-4c11-f142-e6ac80381588"
      },
      "execution_count": 6,
      "outputs": [
        {
          "output_type": "stream",
          "name": "stdout",
          "text": [
            "<class 'pandas.core.frame.DataFrame'>\n",
            "RangeIndex: 144 entries, 0 to 143\n",
            "Data columns (total 10 columns):\n",
            " #   Column  Non-Null Count  Dtype  \n",
            "---  ------  --------------  -----  \n",
            " 0   Y       144 non-null    float64\n",
            " 1   V1      144 non-null    float64\n",
            " 2   V2      144 non-null    float64\n",
            " 3   V3      144 non-null    float64\n",
            " 4   V4      144 non-null    float64\n",
            " 5   V5      144 non-null    float64\n",
            " 6   V6      144 non-null    float64\n",
            " 7   V7      144 non-null    float64\n",
            " 8   V8      144 non-null    float64\n",
            " 9   V9      144 non-null    float64\n",
            "dtypes: float64(10)\n",
            "memory usage: 11.4 KB\n"
          ]
        }
      ]
    },
    {
      "cell_type": "code",
      "source": [
        "df_training.describe().T"
      ],
      "metadata": {
        "colab": {
          "base_uri": "https://localhost:8080/",
          "height": 363
        },
        "id": "uNp1GFxhQWJo",
        "outputId": "f4ea5647-8d20-4abf-9299-a9e13072b7c7"
      },
      "execution_count": 7,
      "outputs": [
        {
          "output_type": "execute_result",
          "data": {
            "text/plain": [
              "    count         mean          std         min          25%           50%  \\\n",
              "Y   144.0  9872.597222  2995.146872  128.000000  8347.500000  10076.500000   \n",
              "V1  144.0    38.516667    26.252747    0.000000     0.000000     53.500000   \n",
              "V2  144.0     0.091540     0.087627    0.000000     0.015592      0.043288   \n",
              "V3  144.0     0.270869     0.069505    0.120897     0.216147      0.299312   \n",
              "V4  144.0     0.076968     0.070805    0.000000     0.014333      0.057803   \n",
              "V5  144.0   100.128055     1.201104   96.322000    99.737398    100.324900   \n",
              "V6  144.0   100.158992     1.292624   96.105030    99.764295    100.280550   \n",
              "V7  144.0     0.029583     0.028820   -0.060000     0.017500      0.040000   \n",
              "V8  144.0     0.611368     0.037454    0.551271     0.588272      0.599102   \n",
              "V9  144.0     1.235073     2.121108   -5.418855     0.412458      1.930578   \n",
              "\n",
              "             75%           max  \n",
              "Y   11674.000000  17892.000000  \n",
              "V1     56.850000     66.900000  \n",
              "V2      0.176864      0.264827  \n",
              "V3      0.327257      0.358630  \n",
              "V4      0.134171      0.235520  \n",
              "V5    100.992850    101.778600  \n",
              "V6    100.957400    102.174800  \n",
              "V7      0.050000      0.090000  \n",
              "V8      0.640697      0.698619  \n",
              "V9      2.486848      3.559978  "
            ],
            "text/html": [
              "\n",
              "  <div id=\"df-31e4b07a-276d-45ca-94ac-5cf4d3a15282\">\n",
              "    <div class=\"colab-df-container\">\n",
              "      <div>\n",
              "<style scoped>\n",
              "    .dataframe tbody tr th:only-of-type {\n",
              "        vertical-align: middle;\n",
              "    }\n",
              "\n",
              "    .dataframe tbody tr th {\n",
              "        vertical-align: top;\n",
              "    }\n",
              "\n",
              "    .dataframe thead th {\n",
              "        text-align: right;\n",
              "    }\n",
              "</style>\n",
              "<table border=\"1\" class=\"dataframe\">\n",
              "  <thead>\n",
              "    <tr style=\"text-align: right;\">\n",
              "      <th></th>\n",
              "      <th>count</th>\n",
              "      <th>mean</th>\n",
              "      <th>std</th>\n",
              "      <th>min</th>\n",
              "      <th>25%</th>\n",
              "      <th>50%</th>\n",
              "      <th>75%</th>\n",
              "      <th>max</th>\n",
              "    </tr>\n",
              "  </thead>\n",
              "  <tbody>\n",
              "    <tr>\n",
              "      <th>Y</th>\n",
              "      <td>144.0</td>\n",
              "      <td>9872.597222</td>\n",
              "      <td>2995.146872</td>\n",
              "      <td>128.000000</td>\n",
              "      <td>8347.500000</td>\n",
              "      <td>10076.500000</td>\n",
              "      <td>11674.000000</td>\n",
              "      <td>17892.000000</td>\n",
              "    </tr>\n",
              "    <tr>\n",
              "      <th>V1</th>\n",
              "      <td>144.0</td>\n",
              "      <td>38.516667</td>\n",
              "      <td>26.252747</td>\n",
              "      <td>0.000000</td>\n",
              "      <td>0.000000</td>\n",
              "      <td>53.500000</td>\n",
              "      <td>56.850000</td>\n",
              "      <td>66.900000</td>\n",
              "    </tr>\n",
              "    <tr>\n",
              "      <th>V2</th>\n",
              "      <td>144.0</td>\n",
              "      <td>0.091540</td>\n",
              "      <td>0.087627</td>\n",
              "      <td>0.000000</td>\n",
              "      <td>0.015592</td>\n",
              "      <td>0.043288</td>\n",
              "      <td>0.176864</td>\n",
              "      <td>0.264827</td>\n",
              "    </tr>\n",
              "    <tr>\n",
              "      <th>V3</th>\n",
              "      <td>144.0</td>\n",
              "      <td>0.270869</td>\n",
              "      <td>0.069505</td>\n",
              "      <td>0.120897</td>\n",
              "      <td>0.216147</td>\n",
              "      <td>0.299312</td>\n",
              "      <td>0.327257</td>\n",
              "      <td>0.358630</td>\n",
              "    </tr>\n",
              "    <tr>\n",
              "      <th>V4</th>\n",
              "      <td>144.0</td>\n",
              "      <td>0.076968</td>\n",
              "      <td>0.070805</td>\n",
              "      <td>0.000000</td>\n",
              "      <td>0.014333</td>\n",
              "      <td>0.057803</td>\n",
              "      <td>0.134171</td>\n",
              "      <td>0.235520</td>\n",
              "    </tr>\n",
              "    <tr>\n",
              "      <th>V5</th>\n",
              "      <td>144.0</td>\n",
              "      <td>100.128055</td>\n",
              "      <td>1.201104</td>\n",
              "      <td>96.322000</td>\n",
              "      <td>99.737398</td>\n",
              "      <td>100.324900</td>\n",
              "      <td>100.992850</td>\n",
              "      <td>101.778600</td>\n",
              "    </tr>\n",
              "    <tr>\n",
              "      <th>V6</th>\n",
              "      <td>144.0</td>\n",
              "      <td>100.158992</td>\n",
              "      <td>1.292624</td>\n",
              "      <td>96.105030</td>\n",
              "      <td>99.764295</td>\n",
              "      <td>100.280550</td>\n",
              "      <td>100.957400</td>\n",
              "      <td>102.174800</td>\n",
              "    </tr>\n",
              "    <tr>\n",
              "      <th>V7</th>\n",
              "      <td>144.0</td>\n",
              "      <td>0.029583</td>\n",
              "      <td>0.028820</td>\n",
              "      <td>-0.060000</td>\n",
              "      <td>0.017500</td>\n",
              "      <td>0.040000</td>\n",
              "      <td>0.050000</td>\n",
              "      <td>0.090000</td>\n",
              "    </tr>\n",
              "    <tr>\n",
              "      <th>V8</th>\n",
              "      <td>144.0</td>\n",
              "      <td>0.611368</td>\n",
              "      <td>0.037454</td>\n",
              "      <td>0.551271</td>\n",
              "      <td>0.588272</td>\n",
              "      <td>0.599102</td>\n",
              "      <td>0.640697</td>\n",
              "      <td>0.698619</td>\n",
              "    </tr>\n",
              "    <tr>\n",
              "      <th>V9</th>\n",
              "      <td>144.0</td>\n",
              "      <td>1.235073</td>\n",
              "      <td>2.121108</td>\n",
              "      <td>-5.418855</td>\n",
              "      <td>0.412458</td>\n",
              "      <td>1.930578</td>\n",
              "      <td>2.486848</td>\n",
              "      <td>3.559978</td>\n",
              "    </tr>\n",
              "  </tbody>\n",
              "</table>\n",
              "</div>\n",
              "      <button class=\"colab-df-convert\" onclick=\"convertToInteractive('df-31e4b07a-276d-45ca-94ac-5cf4d3a15282')\"\n",
              "              title=\"Convert this dataframe to an interactive table.\"\n",
              "              style=\"display:none;\">\n",
              "        \n",
              "  <svg xmlns=\"http://www.w3.org/2000/svg\" height=\"24px\"viewBox=\"0 0 24 24\"\n",
              "       width=\"24px\">\n",
              "    <path d=\"M0 0h24v24H0V0z\" fill=\"none\"/>\n",
              "    <path d=\"M18.56 5.44l.94 2.06.94-2.06 2.06-.94-2.06-.94-.94-2.06-.94 2.06-2.06.94zm-11 1L8.5 8.5l.94-2.06 2.06-.94-2.06-.94L8.5 2.5l-.94 2.06-2.06.94zm10 10l.94 2.06.94-2.06 2.06-.94-2.06-.94-.94-2.06-.94 2.06-2.06.94z\"/><path d=\"M17.41 7.96l-1.37-1.37c-.4-.4-.92-.59-1.43-.59-.52 0-1.04.2-1.43.59L10.3 9.45l-7.72 7.72c-.78.78-.78 2.05 0 2.83L4 21.41c.39.39.9.59 1.41.59.51 0 1.02-.2 1.41-.59l7.78-7.78 2.81-2.81c.8-.78.8-2.07 0-2.86zM5.41 20L4 18.59l7.72-7.72 1.47 1.35L5.41 20z\"/>\n",
              "  </svg>\n",
              "      </button>\n",
              "      \n",
              "  <style>\n",
              "    .colab-df-container {\n",
              "      display:flex;\n",
              "      flex-wrap:wrap;\n",
              "      gap: 12px;\n",
              "    }\n",
              "\n",
              "    .colab-df-convert {\n",
              "      background-color: #E8F0FE;\n",
              "      border: none;\n",
              "      border-radius: 50%;\n",
              "      cursor: pointer;\n",
              "      display: none;\n",
              "      fill: #1967D2;\n",
              "      height: 32px;\n",
              "      padding: 0 0 0 0;\n",
              "      width: 32px;\n",
              "    }\n",
              "\n",
              "    .colab-df-convert:hover {\n",
              "      background-color: #E2EBFA;\n",
              "      box-shadow: 0px 1px 2px rgba(60, 64, 67, 0.3), 0px 1px 3px 1px rgba(60, 64, 67, 0.15);\n",
              "      fill: #174EA6;\n",
              "    }\n",
              "\n",
              "    [theme=dark] .colab-df-convert {\n",
              "      background-color: #3B4455;\n",
              "      fill: #D2E3FC;\n",
              "    }\n",
              "\n",
              "    [theme=dark] .colab-df-convert:hover {\n",
              "      background-color: #434B5C;\n",
              "      box-shadow: 0px 1px 3px 1px rgba(0, 0, 0, 0.15);\n",
              "      filter: drop-shadow(0px 1px 2px rgba(0, 0, 0, 0.3));\n",
              "      fill: #FFFFFF;\n",
              "    }\n",
              "  </style>\n",
              "\n",
              "      <script>\n",
              "        const buttonEl =\n",
              "          document.querySelector('#df-31e4b07a-276d-45ca-94ac-5cf4d3a15282 button.colab-df-convert');\n",
              "        buttonEl.style.display =\n",
              "          google.colab.kernel.accessAllowed ? 'block' : 'none';\n",
              "\n",
              "        async function convertToInteractive(key) {\n",
              "          const element = document.querySelector('#df-31e4b07a-276d-45ca-94ac-5cf4d3a15282');\n",
              "          const dataTable =\n",
              "            await google.colab.kernel.invokeFunction('convertToInteractive',\n",
              "                                                     [key], {});\n",
              "          if (!dataTable) return;\n",
              "\n",
              "          const docLinkHtml = 'Like what you see? Visit the ' +\n",
              "            '<a target=\"_blank\" href=https://colab.research.google.com/notebooks/data_table.ipynb>data table notebook</a>'\n",
              "            + ' to learn more about interactive tables.';\n",
              "          element.innerHTML = '';\n",
              "          dataTable['output_type'] = 'display_data';\n",
              "          await google.colab.output.renderOutput(dataTable, element);\n",
              "          const docLink = document.createElement('div');\n",
              "          docLink.innerHTML = docLinkHtml;\n",
              "          element.appendChild(docLink);\n",
              "        }\n",
              "      </script>\n",
              "    </div>\n",
              "  </div>\n",
              "  "
            ]
          },
          "metadata": {},
          "execution_count": 7
        }
      ]
    },
    {
      "cell_type": "markdown",
      "source": [
        "# 2: Explainatory Data Analysis <a name=\"2\"></a>\n",
        "\n",
        "\n",
        "---\n",
        "<a href=\"#top\" class=\"btn btn-primary btn-sm\" role=\"button\" aria-pressed=\"true\" style=\"color:white\" data-toggle=\"popover\">Go to TOC</a> "
      ],
      "metadata": {
        "id": "PeAsAzYzbc71"
      }
    },
    {
      "cell_type": "markdown",
      "source": [
        "## 2.1 Visualizing all the features and Target feature"
      ],
      "metadata": {
        "id": "cnx3c4c2dCxV"
      }
    },
    {
      "cell_type": "code",
      "source": [
        "df_training.plot(subplots=True, layout=(4,5), figsize=(15,15));"
      ],
      "metadata": {
        "colab": {
          "base_uri": "https://localhost:8080/",
          "height": 441
        },
        "id": "-Aj-4vE7QrTm",
        "outputId": "b100396b-d556-4b57-8487-172465811c09"
      },
      "execution_count": 8,
      "outputs": [
        {
          "output_type": "display_data",
          "data": {
            "text/plain": [
              "<Figure size 1080x1080 with 20 Axes>"
            ],
            "image/png": "[encoded data removed]"
          },
          "metadata": {
            "needs_background": "light"
          }
        }
      ]
    },
    {
      "cell_type": "markdown",
      "source": [
        "## 2.2 Key insights"
      ],
      "metadata": {
        "id": "OKZVGxZNdNO5"
      }
    },
    {
      "cell_type": "markdown",
      "source": [
        "Finding and understanding the co relations between basic feature linkages"
      ],
      "metadata": {
        "id": "rxTVCgUydX7W"
      }
    },
    {
      "cell_type": "code",
      "source": [
        "corr = df_training.corr()\n",
        "\n",
        "corr.style.background_gradient(cmap='coolwarm').set_precision(2)"
      ],
      "metadata": {
        "colab": {
          "base_uri": "https://localhost:8080/",
          "height": 398
        },
        "id": "LhtxiEqBSBYt",
        "outputId": "66abdc09-09a2-4250-b010-fdd1f23e4c4c"
      },
      "execution_count": 9,
      "outputs": [
        {
          "output_type": "stream",
          "name": "stderr",
          "text": [
            "/usr/local/lib/python3.7/dist-packages/ipykernel_launcher.py:3: FutureWarning: this method is deprecated in favour of `Styler.format(precision=..)`\n",
            "  This is separate from the ipykernel package so we can avoid doing imports until\n"
          ]
        },
        {
          "output_type": "execute_result",
          "data": {
            "text/plain": [
              "<pandas.io.formats.style.Styler at 0x7ff537bacb10>"
            ],
            "text/html": [
              "<style type=\"text/css\">\n",
              "#T_39c70_row0_col0, #T_39c70_row1_col1, #T_39c70_row2_col2, #T_39c70_row3_col3, #T_39c70_row4_col4, #T_39c70_row5_col5, #T_39c70_row6_col6, #T_39c70_row7_col7, #T_39c70_row8_col8, #T_39c70_row9_col9 {\n",
              "  background-color: #b40426;\n",
              "  color: #f1f1f1;\n",
              "}\n",
              "#T_39c70_row0_col1 {\n",
              "  background-color: #6a8bef;\n",
              "  color: #f1f1f1;\n",
              "}\n",
              "#T_39c70_row0_col2 {\n",
              "  background-color: #7699f6;\n",
              "  color: #f1f1f1;\n",
              "}\n",
              "#T_39c70_row0_col3 {\n",
              "  background-color: #f59f80;\n",
              "  color: #000000;\n",
              "}\n",
              "#T_39c70_row0_col4 {\n",
              "  background-color: #8badfd;\n",
              "  color: #000000;\n",
              "}\n",
              "#T_39c70_row0_col5, #T_39c70_row2_col5, #T_39c70_row8_col5 {\n",
              "  background-color: #9dbdff;\n",
              "  color: #000000;\n",
              "}\n",
              "#T_39c70_row0_col6, #T_39c70_row7_col3 {\n",
              "  background-color: #a7c5fe;\n",
              "  color: #000000;\n",
              "}\n",
              "#T_39c70_row0_col7 {\n",
              "  background-color: #7b9ff9;\n",
              "  color: #f1f1f1;\n",
              "}\n",
              "#T_39c70_row0_col8 {\n",
              "  background-color: #89acfd;\n",
              "  color: #000000;\n",
              "}\n",
              "#T_39c70_row0_col9 {\n",
              "  background-color: #8caffe;\n",
              "  color: #000000;\n",
              "}\n",
              "#T_39c70_row1_col0 {\n",
              "  background-color: #5977e3;\n",
              "  color: #f1f1f1;\n",
              "}\n",
              "#T_39c70_row1_col2 {\n",
              "  background-color: #e57058;\n",
              "  color: #f1f1f1;\n",
              "}\n",
              "#T_39c70_row1_col3 {\n",
              "  background-color: #688aef;\n",
              "  color: #f1f1f1;\n",
              "}\n",
              "#T_39c70_row1_col4 {\n",
              "  background-color: #e26952;\n",
              "  color: #f1f1f1;\n",
              "}\n",
              "#T_39c70_row1_col5 {\n",
              "  background-color: #93b5fe;\n",
              "  color: #000000;\n",
              "}\n",
              "#T_39c70_row1_col6 {\n",
              "  background-color: #5a78e4;\n",
              "  color: #f1f1f1;\n",
              "}\n",
              "#T_39c70_row1_col7 {\n",
              "  background-color: #c9d7f0;\n",
              "  color: #000000;\n",
              "}\n",
              "#T_39c70_row1_col8, #T_39c70_row7_col9 {\n",
              "  background-color: #ed8366;\n",
              "  color: #f1f1f1;\n",
              "}\n",
              "#T_39c70_row1_col9 {\n",
              "  background-color: #98b9ff;\n",
              "  color: #000000;\n",
              "}\n",
              "#T_39c70_row2_col0, #T_39c70_row3_col1, #T_39c70_row3_col2, #T_39c70_row3_col4, #T_39c70_row3_col5, #T_39c70_row3_col7, #T_39c70_row3_col8, #T_39c70_row3_col9, #T_39c70_row4_col3, #T_39c70_row4_col6 {\n",
              "  background-color: #3b4cc0;\n",
              "  color: #f1f1f1;\n",
              "}\n",
              "#T_39c70_row2_col1 {\n",
              "  background-color: #ea7b60;\n",
              "  color: #f1f1f1;\n",
              "}\n",
              "#T_39c70_row2_col3 {\n",
              "  background-color: #3d50c3;\n",
              "  color: #f1f1f1;\n",
              "}\n",
              "#T_39c70_row2_col4, #T_39c70_row4_col2 {\n",
              "  background-color: #ba162b;\n",
              "  color: #f1f1f1;\n",
              "}\n",
              "#T_39c70_row2_col6 {\n",
              "  background-color: #3e51c5;\n",
              "  color: #f1f1f1;\n",
              "}\n",
              "#T_39c70_row2_col7, #T_39c70_row6_col3, #T_39c70_row7_col1 {\n",
              "  background-color: #e8d6cc;\n",
              "  color: #000000;\n",
              "}\n",
              "#T_39c70_row2_col8 {\n",
              "  background-color: #c83836;\n",
              "  color: #f1f1f1;\n",
              "}\n",
              "#T_39c70_row2_col9, #T_39c70_row4_col5 {\n",
              "  background-color: #a2c1ff;\n",
              "  color: #000000;\n",
              "}\n",
              "#T_39c70_row3_col0, #T_39c70_row7_col6 {\n",
              "  background-color: #f7b79b;\n",
              "  color: #000000;\n",
              "}\n",
              "#T_39c70_row3_col6 {\n",
              "  background-color: #7396f5;\n",
              "  color: #f1f1f1;\n",
              "}\n",
              "#T_39c70_row4_col0 {\n",
              "  background-color: #4c66d6;\n",
              "  color: #f1f1f1;\n",
              "}\n",
              "#T_39c70_row4_col1 {\n",
              "  background-color: #e7745b;\n",
              "  color: #f1f1f1;\n",
              "}\n",
              "#T_39c70_row4_col7 {\n",
              "  background-color: #e2dad5;\n",
              "  color: #000000;\n",
              "}\n",
              "#T_39c70_row4_col8 {\n",
              "  background-color: #c53334;\n",
              "  color: #f1f1f1;\n",
              "}\n",
              "#T_39c70_row4_col9 {\n",
              "  background-color: #9ebeff;\n",
              "  color: #000000;\n",
              "}\n",
              "#T_39c70_row5_col0 {\n",
              "  background-color: #d8dce2;\n",
              "  color: #000000;\n",
              "}\n",
              "#T_39c70_row5_col1 {\n",
              "  background-color: #dadce0;\n",
              "  color: #000000;\n",
              "}\n",
              "#T_39c70_row5_col2 {\n",
              "  background-color: #eed0c0;\n",
              "  color: #000000;\n",
              "}\n",
              "#T_39c70_row5_col3, #T_39c70_row9_col3 {\n",
              "  background-color: #c1d4f4;\n",
              "  color: #000000;\n",
              "}\n",
              "#T_39c70_row5_col4 {\n",
              "  background-color: #f1cdba;\n",
              "  color: #000000;\n",
              "}\n",
              "#T_39c70_row5_col6 {\n",
              "  background-color: #cd423b;\n",
              "  color: #f1f1f1;\n",
              "}\n",
              "#T_39c70_row5_col7 {\n",
              "  background-color: #ec8165;\n",
              "  color: #f1f1f1;\n",
              "}\n",
              "#T_39c70_row5_col8 {\n",
              "  background-color: #edd1c2;\n",
              "  color: #000000;\n",
              "}\n",
              "#T_39c70_row5_col9, #T_39c70_row9_col5 {\n",
              "  background-color: #c32e31;\n",
              "  color: #f1f1f1;\n",
              "}\n",
              "#T_39c70_row6_col0 {\n",
              "  background-color: #e6d7cf;\n",
              "  color: #000000;\n",
              "}\n",
              "#T_39c70_row6_col1 {\n",
              "  background-color: #c6d6f1;\n",
              "  color: #000000;\n",
              "}\n",
              "#T_39c70_row6_col2, #T_39c70_row6_col4, #T_39c70_row9_col0 {\n",
              "  background-color: #cedaeb;\n",
              "  color: #000000;\n",
              "}\n",
              "#T_39c70_row6_col5 {\n",
              "  background-color: #cc403a;\n",
              "  color: #f1f1f1;\n",
              "}\n",
              "#T_39c70_row6_col7 {\n",
              "  background-color: #f6a283;\n",
              "  color: #000000;\n",
              "}\n",
              "#T_39c70_row6_col8 {\n",
              "  background-color: #cfdaea;\n",
              "  color: #000000;\n",
              "}\n",
              "#T_39c70_row6_col9 {\n",
              "  background-color: #d24b40;\n",
              "  color: #f1f1f1;\n",
              "}\n",
              "#T_39c70_row7_col0 {\n",
              "  background-color: #a9c6fd;\n",
              "  color: #000000;\n",
              "}\n",
              "#T_39c70_row7_col2 {\n",
              "  background-color: #f7b093;\n",
              "  color: #000000;\n",
              "}\n",
              "#T_39c70_row7_col4 {\n",
              "  background-color: #f7b497;\n",
              "  color: #000000;\n",
              "}\n",
              "#T_39c70_row7_col5 {\n",
              "  background-color: #f08b6e;\n",
              "  color: #f1f1f1;\n",
              "}\n",
              "#T_39c70_row7_col8 {\n",
              "  background-color: #f3c7b1;\n",
              "  color: #000000;\n",
              "}\n",
              "#T_39c70_row8_col0 {\n",
              "  background-color: #516ddb;\n",
              "  color: #f1f1f1;\n",
              "}\n",
              "#T_39c70_row8_col1 {\n",
              "  background-color: #f18f71;\n",
              "  color: #f1f1f1;\n",
              "}\n",
              "#T_39c70_row8_col2 {\n",
              "  background-color: #c73635;\n",
              "  color: #f1f1f1;\n",
              "}\n",
              "#T_39c70_row8_col3 {\n",
              "  background-color: #4055c8;\n",
              "  color: #f1f1f1;\n",
              "}\n",
              "#T_39c70_row8_col4 {\n",
              "  background-color: #c43032;\n",
              "  color: #f1f1f1;\n",
              "}\n",
              "#T_39c70_row8_col6 {\n",
              "  background-color: #4358cb;\n",
              "  color: #f1f1f1;\n",
              "}\n",
              "#T_39c70_row8_col7 {\n",
              "  background-color: #cdd9ec;\n",
              "  color: #000000;\n",
              "}\n",
              "#T_39c70_row8_col9 {\n",
              "  background-color: #96b7ff;\n",
              "  color: #000000;\n",
              "}\n",
              "#T_39c70_row9_col1 {\n",
              "  background-color: #dddcdc;\n",
              "  color: #000000;\n",
              "}\n",
              "#T_39c70_row9_col2, #T_39c70_row9_col4 {\n",
              "  background-color: #efcebd;\n",
              "  color: #000000;\n",
              "}\n",
              "#T_39c70_row9_col6 {\n",
              "  background-color: #d44e41;\n",
              "  color: #f1f1f1;\n",
              "}\n",
              "#T_39c70_row9_col7 {\n",
              "  background-color: #e9785d;\n",
              "  color: #f1f1f1;\n",
              "}\n",
              "#T_39c70_row9_col8 {\n",
              "  background-color: #ebd3c6;\n",
              "  color: #000000;\n",
              "}\n",
              "</style>\n",
              "<table id=\"T_39c70_\" class=\"dataframe\">\n",
              "  <thead>\n",
              "    <tr>\n",
              "      <th class=\"blank level0\" >&nbsp;</th>\n",
              "      <th class=\"col_heading level0 col0\" >Y</th>\n",
              "      <th class=\"col_heading level0 col1\" >V1</th>\n",
              "      <th class=\"col_heading level0 col2\" >V2</th>\n",
              "      <th class=\"col_heading level0 col3\" >V3</th>\n",
              "      <th class=\"col_heading level0 col4\" >V4</th>\n",
              "      <th class=\"col_heading level0 col5\" >V5</th>\n",
              "      <th class=\"col_heading level0 col6\" >V6</th>\n",
              "      <th class=\"col_heading level0 col7\" >V7</th>\n",
              "      <th class=\"col_heading level0 col8\" >V8</th>\n",
              "      <th class=\"col_heading level0 col9\" >V9</th>\n",
              "    </tr>\n",
              "  </thead>\n",
              "  <tbody>\n",
              "    <tr>\n",
              "      <th id=\"T_39c70_level0_row0\" class=\"row_heading level0 row0\" >Y</th>\n",
              "      <td id=\"T_39c70_row0_col0\" class=\"data row0 col0\" >1.00</td>\n",
              "      <td id=\"T_39c70_row0_col1\" class=\"data row0 col1\" >-0.43</td>\n",
              "      <td id=\"T_39c70_row0_col2\" class=\"data row0 col2\" >-0.58</td>\n",
              "      <td id=\"T_39c70_row0_col3\" class=\"data row0 col3\" >0.48</td>\n",
              "      <td id=\"T_39c70_row0_col4\" class=\"data row0 col4\" >-0.49</td>\n",
              "      <td id=\"T_39c70_row0_col5\" class=\"data row0 col5\" >0.18</td>\n",
              "      <td id=\"T_39c70_row0_col6\" class=\"data row0 col6\" >0.27</td>\n",
              "      <td id=\"T_39c70_row0_col7\" class=\"data row0 col7\" >-0.06</td>\n",
              "      <td id=\"T_39c70_row0_col8\" class=\"data row0 col8\" >-0.46</td>\n",
              "      <td id=\"T_39c70_row0_col9\" class=\"data row0 col9\" >0.12</td>\n",
              "    </tr>\n",
              "    <tr>\n",
              "      <th id=\"T_39c70_level0_row1\" class=\"row_heading level0 row1\" >V1</th>\n",
              "      <td id=\"T_39c70_row1_col0\" class=\"data row1 col0\" >-0.43</td>\n",
              "      <td id=\"T_39c70_row1_col1\" class=\"data row1 col1\" >1.00</td>\n",
              "      <td id=\"T_39c70_row1_col2\" class=\"data row1 col2\" >0.69</td>\n",
              "      <td id=\"T_39c70_row1_col3\" class=\"data row1 col3\" >-0.68</td>\n",
              "      <td id=\"T_39c70_row1_col4\" class=\"data row1 col4\" >0.72</td>\n",
              "      <td id=\"T_39c70_row1_col5\" class=\"data row1 col5\" >0.14</td>\n",
              "      <td id=\"T_39c70_row1_col6\" class=\"data row1 col6\" >0.02</td>\n",
              "      <td id=\"T_39c70_row1_col7\" class=\"data row1 col7\" >0.24</td>\n",
              "      <td id=\"T_39c70_row1_col8\" class=\"data row1 col8\" >0.62</td>\n",
              "      <td id=\"T_39c70_row1_col9\" class=\"data row1 col9\" >0.16</td>\n",
              "    </tr>\n",
              "    <tr>\n",
              "      <th id=\"T_39c70_level0_row2\" class=\"row_heading level0 row2\" >V2</th>\n",
              "      <td id=\"T_39c70_row2_col0\" class=\"data row2 col0\" >-0.58</td>\n",
              "      <td id=\"T_39c70_row2_col1\" class=\"data row2 col1\" >0.69</td>\n",
              "      <td id=\"T_39c70_row2_col2\" class=\"data row2 col2\" >1.00</td>\n",
              "      <td id=\"T_39c70_row2_col3\" class=\"data row2 col3\" >-0.95</td>\n",
              "      <td id=\"T_39c70_row2_col4\" class=\"data row2 col4\" >0.97</td>\n",
              "      <td id=\"T_39c70_row2_col5\" class=\"data row2 col5\" >0.18</td>\n",
              "      <td id=\"T_39c70_row2_col6\" class=\"data row2 col6\" >-0.07</td>\n",
              "      <td id=\"T_39c70_row2_col7\" class=\"data row2 col7\" >0.40</td>\n",
              "      <td id=\"T_39c70_row2_col8\" class=\"data row2 col8\" >0.89</td>\n",
              "      <td id=\"T_39c70_row2_col9\" class=\"data row2 col9\" >0.19</td>\n",
              "    </tr>\n",
              "    <tr>\n",
              "      <th id=\"T_39c70_level0_row3\" class=\"row_heading level0 row3\" >V3</th>\n",
              "      <td id=\"T_39c70_row3_col0\" class=\"data row3 col0\" >0.48</td>\n",
              "      <td id=\"T_39c70_row3_col1\" class=\"data row3 col1\" >-0.68</td>\n",
              "      <td id=\"T_39c70_row3_col2\" class=\"data row3 col2\" >-0.95</td>\n",
              "      <td id=\"T_39c70_row3_col3\" class=\"data row3 col3\" >1.00</td>\n",
              "      <td id=\"T_39c70_row3_col4\" class=\"data row3 col4\" >-0.97</td>\n",
              "      <td id=\"T_39c70_row3_col5\" class=\"data row3 col5\" >-0.17</td>\n",
              "      <td id=\"T_39c70_row3_col6\" class=\"data row3 col6\" >0.10</td>\n",
              "      <td id=\"T_39c70_row3_col7\" class=\"data row3 col7\" >-0.33</td>\n",
              "      <td id=\"T_39c70_row3_col8\" class=\"data row3 col8\" >-0.92</td>\n",
              "      <td id=\"T_39c70_row3_col9\" class=\"data row3 col9\" >-0.17</td>\n",
              "    </tr>\n",
              "    <tr>\n",
              "      <th id=\"T_39c70_level0_row4\" class=\"row_heading level0 row4\" >V4</th>\n",
              "      <td id=\"T_39c70_row4_col0\" class=\"data row4 col0\" >-0.49</td>\n",
              "      <td id=\"T_39c70_row4_col1\" class=\"data row4 col1\" >0.72</td>\n",
              "      <td id=\"T_39c70_row4_col2\" class=\"data row4 col2\" >0.97</td>\n",
              "      <td id=\"T_39c70_row4_col3\" class=\"data row4 col3\" >-0.97</td>\n",
              "      <td id=\"T_39c70_row4_col4\" class=\"data row4 col4\" >1.00</td>\n",
              "      <td id=\"T_39c70_row4_col5\" class=\"data row4 col5\" >0.19</td>\n",
              "      <td id=\"T_39c70_row4_col6\" class=\"data row4 col6\" >-0.09</td>\n",
              "      <td id=\"T_39c70_row4_col7\" class=\"data row4 col7\" >0.36</td>\n",
              "      <td id=\"T_39c70_row4_col8\" class=\"data row4 col8\" >0.91</td>\n",
              "      <td id=\"T_39c70_row4_col9\" class=\"data row4 col9\" >0.18</td>\n",
              "    </tr>\n",
              "    <tr>\n",
              "      <th id=\"T_39c70_level0_row5\" class=\"row_heading level0 row5\" >V5</th>\n",
              "      <td id=\"T_39c70_row5_col0\" class=\"data row5 col0\" >0.18</td>\n",
              "      <td id=\"T_39c70_row5_col1\" class=\"data row5 col1\" >0.14</td>\n",
              "      <td id=\"T_39c70_row5_col2\" class=\"data row5 col2\" >0.18</td>\n",
              "      <td id=\"T_39c70_row5_col3\" class=\"data row5 col3\" >-0.17</td>\n",
              "      <td id=\"T_39c70_row5_col4\" class=\"data row5 col4\" >0.19</td>\n",
              "      <td id=\"T_39c70_row5_col5\" class=\"data row5 col5\" >1.00</td>\n",
              "      <td id=\"T_39c70_row5_col6\" class=\"data row5 col6\" >0.92</td>\n",
              "      <td id=\"T_39c70_row5_col7\" class=\"data row5 col7\" >0.75</td>\n",
              "      <td id=\"T_39c70_row5_col8\" class=\"data row5 col8\" >0.18</td>\n",
              "      <td id=\"T_39c70_row5_col9\" class=\"data row5 col9\" >0.95</td>\n",
              "    </tr>\n",
              "    <tr>\n",
              "      <th id=\"T_39c70_level0_row6\" class=\"row_heading level0 row6\" >V6</th>\n",
              "      <td id=\"T_39c70_row6_col0\" class=\"data row6 col0\" >0.27</td>\n",
              "      <td id=\"T_39c70_row6_col1\" class=\"data row6 col1\" >0.02</td>\n",
              "      <td id=\"T_39c70_row6_col2\" class=\"data row6 col2\" >-0.07</td>\n",
              "      <td id=\"T_39c70_row6_col3\" class=\"data row6 col3\" >0.10</td>\n",
              "      <td id=\"T_39c70_row6_col4\" class=\"data row6 col4\" >-0.09</td>\n",
              "      <td id=\"T_39c70_row6_col5\" class=\"data row6 col5\" >0.92</td>\n",
              "      <td id=\"T_39c70_row6_col6\" class=\"data row6 col6\" >1.00</td>\n",
              "      <td id=\"T_39c70_row6_col7\" class=\"data row6 col7\" >0.64</td>\n",
              "      <td id=\"T_39c70_row6_col8\" class=\"data row6 col8\" >-0.06</td>\n",
              "      <td id=\"T_39c70_row6_col9\" class=\"data row6 col9\" >0.90</td>\n",
              "    </tr>\n",
              "    <tr>\n",
              "      <th id=\"T_39c70_level0_row7\" class=\"row_heading level0 row7\" >V7</th>\n",
              "      <td id=\"T_39c70_row7_col0\" class=\"data row7 col0\" >-0.06</td>\n",
              "      <td id=\"T_39c70_row7_col1\" class=\"data row7 col1\" >0.24</td>\n",
              "      <td id=\"T_39c70_row7_col2\" class=\"data row7 col2\" >0.40</td>\n",
              "      <td id=\"T_39c70_row7_col3\" class=\"data row7 col3\" >-0.33</td>\n",
              "      <td id=\"T_39c70_row7_col4\" class=\"data row7 col4\" >0.36</td>\n",
              "      <td id=\"T_39c70_row7_col5\" class=\"data row7 col5\" >0.75</td>\n",
              "      <td id=\"T_39c70_row7_col6\" class=\"data row7 col6\" >0.64</td>\n",
              "      <td id=\"T_39c70_row7_col7\" class=\"data row7 col7\" >1.00</td>\n",
              "      <td id=\"T_39c70_row7_col8\" class=\"data row7 col8\" >0.26</td>\n",
              "      <td id=\"T_39c70_row7_col9\" class=\"data row7 col9\" >0.77</td>\n",
              "    </tr>\n",
              "    <tr>\n",
              "      <th id=\"T_39c70_level0_row8\" class=\"row_heading level0 row8\" >V8</th>\n",
              "      <td id=\"T_39c70_row8_col0\" class=\"data row8 col0\" >-0.46</td>\n",
              "      <td id=\"T_39c70_row8_col1\" class=\"data row8 col1\" >0.62</td>\n",
              "      <td id=\"T_39c70_row8_col2\" class=\"data row8 col2\" >0.89</td>\n",
              "      <td id=\"T_39c70_row8_col3\" class=\"data row8 col3\" >-0.92</td>\n",
              "      <td id=\"T_39c70_row8_col4\" class=\"data row8 col4\" >0.91</td>\n",
              "      <td id=\"T_39c70_row8_col5\" class=\"data row8 col5\" >0.18</td>\n",
              "      <td id=\"T_39c70_row8_col6\" class=\"data row8 col6\" >-0.06</td>\n",
              "      <td id=\"T_39c70_row8_col7\" class=\"data row8 col7\" >0.26</td>\n",
              "      <td id=\"T_39c70_row8_col8\" class=\"data row8 col8\" >1.00</td>\n",
              "      <td id=\"T_39c70_row8_col9\" class=\"data row8 col9\" >0.15</td>\n",
              "    </tr>\n",
              "    <tr>\n",
              "      <th id=\"T_39c70_level0_row9\" class=\"row_heading level0 row9\" >V9</th>\n",
              "      <td id=\"T_39c70_row9_col0\" class=\"data row9 col0\" >0.12</td>\n",
              "      <td id=\"T_39c70_row9_col1\" class=\"data row9 col1\" >0.16</td>\n",
              "      <td id=\"T_39c70_row9_col2\" class=\"data row9 col2\" >0.19</td>\n",
              "      <td id=\"T_39c70_row9_col3\" class=\"data row9 col3\" >-0.17</td>\n",
              "      <td id=\"T_39c70_row9_col4\" class=\"data row9 col4\" >0.18</td>\n",
              "      <td id=\"T_39c70_row9_col5\" class=\"data row9 col5\" >0.95</td>\n",
              "      <td id=\"T_39c70_row9_col6\" class=\"data row9 col6\" >0.90</td>\n",
              "      <td id=\"T_39c70_row9_col7\" class=\"data row9 col7\" >0.77</td>\n",
              "      <td id=\"T_39c70_row9_col8\" class=\"data row9 col8\" >0.15</td>\n",
              "      <td id=\"T_39c70_row9_col9\" class=\"data row9 col9\" >1.00</td>\n",
              "    </tr>\n",
              "  </tbody>\n",
              "</table>\n"
            ]
          },
          "metadata": {},
          "execution_count": 9
        }
      ]
    },
    {
      "cell_type": "markdown",
      "source": [
        "- Feature v3 and v4 seems to inversely proportional to each other\n",
        "- Feature v5, v6 and v9 are closely co related. Hence stroge +ve co realtion\n"
      ],
      "metadata": {
        "id": "t7m6U13EIly5"
      }
    },
    {
      "cell_type": "code",
      "source": [
        "sns.kdeplot(data=df_training[['V5', 'V6', 'V9']]);"
      ],
      "metadata": {
        "colab": {
          "base_uri": "https://localhost:8080/",
          "height": 265
        },
        "id": "dzlEJhuBdxhY",
        "outputId": "12625349-557d-49e8-d095-064621937207"
      },
      "execution_count": 10,
      "outputs": [
        {
          "output_type": "display_data",
          "data": {
            "text/plain": [
              "<Figure size 432x288 with 1 Axes>"
            ],
            "image/png": "[encoded data removed]"
          },
          "metadata": {
            "needs_background": "light"
          }
        }
      ]
    },
    {
      "cell_type": "markdown",
      "source": [
        "V5 and V6 seems to be overlapping and we may choose on select one of them instead of both the features"
      ],
      "metadata": {
        "id": "ZOTzq7yOevFB"
      }
    },
    {
      "cell_type": "code",
      "source": [
        "sns.kdeplot(data=df_training[['V8', 'V2']]);"
      ],
      "metadata": {
        "colab": {
          "base_uri": "https://localhost:8080/",
          "height": 265
        },
        "id": "ClZLdNXwfE4l",
        "outputId": "587eb1ee-e816-420c-8326-7aef75a339d6"
      },
      "execution_count": 11,
      "outputs": [
        {
          "output_type": "display_data",
          "data": {
            "text/plain": [
              "<Figure size 432x288 with 1 Axes>"
            ],
            "image/png": "[encoded data removed]"
          },
          "metadata": {
            "needs_background": "light"
          }
        }
      ]
    },
    {
      "cell_type": "code",
      "source": [
        "sns.kdeplot(data=df_training[['V3', 'V4']]);"
      ],
      "metadata": {
        "colab": {
          "base_uri": "https://localhost:8080/",
          "height": 266
        },
        "id": "r542G-sjflOJ",
        "outputId": "dbacf65e-d0d1-4cd3-dee9-71cc24992a29"
      },
      "execution_count": 12,
      "outputs": [
        {
          "output_type": "display_data",
          "data": {
            "text/plain": [
              "<Figure size 432x288 with 1 Axes>"
            ],
            "image/png": "[encoded data removed]"
          },
          "metadata": {
            "needs_background": "light"
          }
        }
      ]
    },
    {
      "cell_type": "markdown",
      "source": [
        "Both v3 and v4 are very identical and seems to be mirror image of each other. V3 is left skewed whereas v4 is right skewed"
      ],
      "metadata": {
        "id": "rbS50R-1fqHq"
      }
    },
    {
      "cell_type": "code",
      "source": [
        "sns.histplot(data=df_training, x=\"Y\", kde=True);"
      ],
      "metadata": {
        "id": "XMgVV1m7Hz2J",
        "outputId": "e323ff32-d9ea-4836-fb1e-f0956113876d",
        "colab": {
          "base_uri": "https://localhost:8080/",
          "height": 279
        }
      },
      "execution_count": 37,
      "outputs": [
        {
          "output_type": "display_data",
          "data": {
            "text/plain": [
              "<Figure size 432x288 with 1 Axes>"
            ],
            "image/png": "[encoded data removed]"
          },
          "metadata": {
            "needs_background": "light"
          }
        }
      ]
    },
    {
      "cell_type": "markdown",
      "source": [
        "The target columns seems to be following normal distribution"
      ],
      "metadata": {
        "id": "pVoiEC1DIFFc"
      }
    },
    {
      "cell_type": "markdown",
      "source": [
        "# 3: Building ML Pipelines <a name=\"3\"></a>\n",
        "\n",
        "\n",
        "---\n",
        "<a href=\"#top\" class=\"btn btn-primary btn-sm\" role=\"button\" aria-pressed=\"true\" style=\"color:white\" data-toggle=\"popover\">Go to TOC</a> "
      ],
      "metadata": {
        "id": "QoAdaUD9bh3L"
      }
    },
    {
      "cell_type": "code",
      "source": [
        "features = ['V1', 'V2', 'V3', 'V4', 'V5', 'V6', 'V7', 'V8', 'V9']"
      ],
      "metadata": {
        "id": "OW_1wJ2-K9Vg"
      },
      "execution_count": 13,
      "outputs": []
    },
    {
      "cell_type": "code",
      "source": [
        "X = df_training[features]\n",
        "y = df_training.Y\n",
        "# split data into training and testing sets\n",
        "X_train, X_test, y_train, y_test = train_test_split(X, y, test_size=0.25, random_state=42)"
      ],
      "metadata": {
        "id": "lmlWYxtpJH46"
      },
      "execution_count": 14,
      "outputs": []
    },
    {
      "cell_type": "code",
      "source": [
        "sample_incomplete_rows = df_training[df_training.isnull().any(axis=1)].head()\n",
        "sample_incomplete_rows"
      ],
      "metadata": {
        "colab": {
          "base_uri": "https://localhost:8080/",
          "height": 49
        },
        "id": "eMWREx9MMlNC",
        "outputId": "153e41af-db17-4c6a-8243-9c43d81f1a63"
      },
      "execution_count": 15,
      "outputs": [
        {
          "output_type": "execute_result",
          "data": {
            "text/plain": [
              "Empty DataFrame\n",
              "Columns: [Y, V1, V2, V3, V4, V5, V6, V7, V8, V9]\n",
              "Index: []"
            ],
            "text/html": [
              "\n",
              "  <div id=\"df-920b7872-0091-4ded-b13c-94fb91dc93cd\">\n",
              "    <div class=\"colab-df-container\">\n",
              "      <div>\n",
              "<style scoped>\n",
              "    .dataframe tbody tr th:only-of-type {\n",
              "        vertical-align: middle;\n",
              "    }\n",
              "\n",
              "    .dataframe tbody tr th {\n",
              "        vertical-align: top;\n",
              "    }\n",
              "\n",
              "    .dataframe thead th {\n",
              "        text-align: right;\n",
              "    }\n",
              "</style>\n",
              "<table border=\"1\" class=\"dataframe\">\n",
              "  <thead>\n",
              "    <tr style=\"text-align: right;\">\n",
              "      <th></th>\n",
              "      <th>Y</th>\n",
              "      <th>V1</th>\n",
              "      <th>V2</th>\n",
              "      <th>V3</th>\n",
              "      <th>V4</th>\n",
              "      <th>V5</th>\n",
              "      <th>V6</th>\n",
              "      <th>V7</th>\n",
              "      <th>V8</th>\n",
              "      <th>V9</th>\n",
              "    </tr>\n",
              "  </thead>\n",
              "  <tbody>\n",
              "  </tbody>\n",
              "</table>\n",
              "</div>\n",
              "      <button class=\"colab-df-convert\" onclick=\"convertToInteractive('df-920b7872-0091-4ded-b13c-94fb91dc93cd')\"\n",
              "              title=\"Convert this dataframe to an interactive table.\"\n",
              "              style=\"display:none;\">\n",
              "        \n",
              "  <svg xmlns=\"http://www.w3.org/2000/svg\" height=\"24px\"viewBox=\"0 0 24 24\"\n",
              "       width=\"24px\">\n",
              "    <path d=\"M0 0h24v24H0V0z\" fill=\"none\"/>\n",
              "    <path d=\"M18.56 5.44l.94 2.06.94-2.06 2.06-.94-2.06-.94-.94-2.06-.94 2.06-2.06.94zm-11 1L8.5 8.5l.94-2.06 2.06-.94-2.06-.94L8.5 2.5l-.94 2.06-2.06.94zm10 10l.94 2.06.94-2.06 2.06-.94-2.06-.94-.94-2.06-.94 2.06-2.06.94z\"/><path d=\"M17.41 7.96l-1.37-1.37c-.4-.4-.92-.59-1.43-.59-.52 0-1.04.2-1.43.59L10.3 9.45l-7.72 7.72c-.78.78-.78 2.05 0 2.83L4 21.41c.39.39.9.59 1.41.59.51 0 1.02-.2 1.41-.59l7.78-7.78 2.81-2.81c.8-.78.8-2.07 0-2.86zM5.41 20L4 18.59l7.72-7.72 1.47 1.35L5.41 20z\"/>\n",
              "  </svg>\n",
              "      </button>\n",
              "      \n",
              "  <style>\n",
              "    .colab-df-container {\n",
              "      display:flex;\n",
              "      flex-wrap:wrap;\n",
              "      gap: 12px;\n",
              "    }\n",
              "\n",
              "    .colab-df-convert {\n",
              "      background-color: #E8F0FE;\n",
              "      border: none;\n",
              "      border-radius: 50%;\n",
              "      cursor: pointer;\n",
              "      display: none;\n",
              "      fill: #1967D2;\n",
              "      height: 32px;\n",
              "      padding: 0 0 0 0;\n",
              "      width: 32px;\n",
              "    }\n",
              "\n",
              "    .colab-df-convert:hover {\n",
              "      background-color: #E2EBFA;\n",
              "      box-shadow: 0px 1px 2px rgba(60, 64, 67, 0.3), 0px 1px 3px 1px rgba(60, 64, 67, 0.15);\n",
              "      fill: #174EA6;\n",
              "    }\n",
              "\n",
              "    [theme=dark] .colab-df-convert {\n",
              "      background-color: #3B4455;\n",
              "      fill: #D2E3FC;\n",
              "    }\n",
              "\n",
              "    [theme=dark] .colab-df-convert:hover {\n",
              "      background-color: #434B5C;\n",
              "      box-shadow: 0px 1px 3px 1px rgba(0, 0, 0, 0.15);\n",
              "      filter: drop-shadow(0px 1px 2px rgba(0, 0, 0, 0.3));\n",
              "      fill: #FFFFFF;\n",
              "    }\n",
              "  </style>\n",
              "\n",
              "      <script>\n",
              "        const buttonEl =\n",
              "          document.querySelector('#df-920b7872-0091-4ded-b13c-94fb91dc93cd button.colab-df-convert');\n",
              "        buttonEl.style.display =\n",
              "          google.colab.kernel.accessAllowed ? 'block' : 'none';\n",
              "\n",
              "        async function convertToInteractive(key) {\n",
              "          const element = document.querySelector('#df-920b7872-0091-4ded-b13c-94fb91dc93cd');\n",
              "          const dataTable =\n",
              "            await google.colab.kernel.invokeFunction('convertToInteractive',\n",
              "                                                     [key], {});\n",
              "          if (!dataTable) return;\n",
              "\n",
              "          const docLinkHtml = 'Like what you see? Visit the ' +\n",
              "            '<a target=\"_blank\" href=https://colab.research.google.com/notebooks/data_table.ipynb>data table notebook</a>'\n",
              "            + ' to learn more about interactive tables.';\n",
              "          element.innerHTML = '';\n",
              "          dataTable['output_type'] = 'display_data';\n",
              "          await google.colab.output.renderOutput(dataTable, element);\n",
              "          const docLink = document.createElement('div');\n",
              "          docLink.innerHTML = docLinkHtml;\n",
              "          element.appendChild(docLink);\n",
              "        }\n",
              "      </script>\n",
              "    </div>\n",
              "  </div>\n",
              "  "
            ]
          },
          "metadata": {},
          "execution_count": 15
        }
      ]
    },
    {
      "cell_type": "code",
      "source": [
        "## Building ML pipeline\n",
        "# Preprocessing for numerical data\n",
        "numerical_transformer = Pipeline(steps=[\n",
        "    ('imputer', SimpleImputer(missing_values = np.nan, strategy='mean')),\n",
        "    ('scaler', StandardScaler())\n",
        "])\n",
        "\n",
        "# Preprocessing for categorical data, as the dataset doesnt have categorical columns there is no need to build categrocial transformer\n",
        "\n",
        "preprocessor = ColumnTransformer(\n",
        "    transformers=[\n",
        "        ('num', numerical_transformer, features)\n",
        "    ])\n",
        "\n",
        "data_prepared = preprocessor.fit_transform(X_train)\n",
        "data_prepared"
      ],
      "metadata": {
        "colab": {
          "base_uri": "https://localhost:8080/"
        },
        "id": "TX8jkpv1JH24",
        "outputId": "4a08bfca-bdd2-49d4-f133-9aab8c59ef45"
      },
      "execution_count": 16,
      "outputs": [
        {
          "output_type": "execute_result",
          "data": {
            "text/plain": [
              "array([[ 8.21777082e-01,  1.20469542e+00, -7.44186294e-01,\n",
              "         7.65801945e-01,  2.40963210e-01,  2.40147555e-01,\n",
              "         5.65836335e-02,  9.53183851e-01,  5.26441222e-01],\n",
              "       [-1.49482459e+00, -8.25022381e-01,  9.18417657e-01,\n",
              "        -8.69910056e-01, -2.31249609e+00, -1.73460541e+00,\n",
              "        -1.64092537e+00, -6.44826833e-01, -2.46189599e+00],\n",
              "       [ 7.45068417e-01,  1.03229274e+00, -7.95576769e-01,\n",
              "         1.17875073e+00,  2.83112411e-01,  2.11110321e-01,\n",
              "         3.96085434e-01,  6.92078838e-01,  4.96020958e-01],\n",
              "       [ 6.64524319e-01,  1.22276130e+00, -1.54791582e+00,\n",
              "         1.28692379e+00,  2.29627629e-01, -1.45270290e-01,\n",
              "         7.35587235e-01,  1.59846508e+00,  3.11846182e-01],\n",
              "       [ 7.48903850e-01,  6.88043075e-01, -5.45201698e-01,\n",
              "         3.64624360e-01,  2.41282522e-01,  2.16826312e-01,\n",
              "         7.35587235e-01,  4.33220768e-01,  3.22992010e-01],\n",
              "       [ 7.64245583e-01, -7.71584581e-01,  9.45856021e-01,\n",
              "        -7.01730201e-01,  1.09592145e+00,  1.41855627e+00,\n",
              "         5.65836335e-02, -4.83991660e-01,  7.98077928e-01],\n",
              "       [-1.49482459e+00, -1.07565383e+00,  1.06029545e+00,\n",
              "        -1.11187830e+00,  2.86066049e-01,  4.29461179e-01,\n",
              "         3.96085434e-01, -1.58716417e+00,  1.02494879e+00],\n",
              "       [ 5.26448723e-01, -2.58256029e-02,  1.15260941e-02,\n",
              "         4.71632779e-01, -6.77107069e-01, -9.74752048e-01,\n",
              "         3.96085434e-01, -3.61252388e-01, -7.72421687e-01],\n",
              "       [-1.49482459e+00, -9.76535329e-01,  6.12248423e-01,\n",
              "        -1.02005182e+00,  3.67809955e-01,  4.55526099e-01,\n",
              "         5.65836335e-02, -3.04900073e-01,  1.55036496e-01],\n",
              "       [-1.49482459e+00, -8.93963041e-01,  5.63116250e-01,\n",
              "        -9.38166397e-01, -2.73940843e+00, -2.51676639e+00,\n",
              "        -1.98042717e+00, -2.75638745e-01, -2.89922506e+00],\n",
              "       [ 5.26448723e-01, -2.58256029e-02,  1.15260941e-02,\n",
              "         4.71632779e-01, -6.19694748e-01, -8.28255008e-01,\n",
              "         3.96085434e-01, -3.61252388e-01, -7.72421687e-01],\n",
              "       [-1.49482459e+00, -9.39587037e-01,  7.16821900e-01,\n",
              "        -9.82311876e-01,  7.57929553e-01,  1.12452569e+00,\n",
              "         2.09359444e+00, -6.41609619e-01,  6.25384228e-01],\n",
              "       [-1.49482459e+00, -9.39587037e-01,  7.16821900e-01,\n",
              "        -9.82311876e-01,  6.89756413e-01,  1.00670006e+00,\n",
              "         2.09359444e+00, -6.41609619e-01,  6.25384228e-01],\n",
              "       [-1.49482459e+00, -1.07565383e+00,  9.21184076e-01,\n",
              "        -1.11187830e+00,  8.16443501e-01,  1.22604169e+00,\n",
              "         3.96085434e-01, -1.02052595e+00,  7.87075325e-01],\n",
              "       [ 7.25891251e-01,  1.08064987e+00, -7.27136117e-01,\n",
              "         9.83395897e-01,  2.72096143e-01,  2.28639360e-01,\n",
              "         7.35587235e-01,  1.03016719e+00,  5.01888230e-01],\n",
              "       [ 5.83980222e-01, -5.63140870e-01,  3.35437110e-01,\n",
              "        -3.46140033e-01,  2.51979478e-01,  4.38987831e-01,\n",
              "        -6.22419968e-01, -3.51039009e-01,  2.12601364e-01],\n",
              "       [-1.49482459e+00, -8.25022381e-01,  9.18417657e-01,\n",
              "        -8.69910056e-01, -1.79635996e+00, -9.54936613e-01,\n",
              "        -1.64092537e+00, -6.44826833e-01, -2.46189599e+00],\n",
              "       [-1.49482459e+00, -1.07565383e+00,  1.27966122e+00,\n",
              "        -1.11187830e+00,  1.22755787e+00,  1.58020450e+00,\n",
              "        -6.22419968e-01, -7.59574137e-01,  8.86786868e-01],\n",
              "       [ 6.68359753e-01,  6.60156074e-01, -5.22675140e-01,\n",
              "         2.49851661e-01,  2.18212220e-01,  1.50673242e-01,\n",
              "         1.07508904e+00, -4.94485906e-01,  6.02429607e-02],\n",
              "       [-1.49482459e+00, -8.93963041e-01,  5.63116250e-01,\n",
              "        -9.38166397e-01, -2.89176821e+00, -2.81386074e+00,\n",
              "        -1.98042717e+00, -2.75638745e-01, -2.89922506e+00],\n",
              "       [-1.49482459e+00, -1.07565383e+00,  9.21184076e-01,\n",
              "        -1.11187830e+00,  8.61386684e-01,  1.31940288e+00,\n",
              "         3.96085434e-01, -1.02052595e+00,  7.87075325e-01],\n",
              "       [ 5.83980222e-01, -5.63140870e-01,  3.35437110e-01,\n",
              "        -3.46140033e-01,  5.21699111e-02,  2.16064180e-01,\n",
              "        -6.22419968e-01, -3.51039009e-01,  2.12601364e-01],\n",
              "       [ 3.88373127e-01, -2.65762687e-01, -9.21581762e-02,\n",
              "         6.71415103e-02, -9.29619104e-01, -1.07005667e+00,\n",
              "        -9.61921769e-01, -8.19833068e-01, -6.80993271e-01],\n",
              "       [ 9.36840078e-01,  1.92769344e+00, -1.97724717e+00,\n",
              "         2.15355611e+00,  1.18684558e+00,  4.10941368e-01,\n",
              "         7.35587235e-01,  2.05564143e+00,  7.71186341e-01],\n",
              "       [ 5.41790456e-01, -8.63603747e-01,  7.82496132e-01,\n",
              "        -8.80197727e-01, -1.06863164e+00, -1.34188888e-01,\n",
              "        -1.98042717e+00, -5.58191852e-01, -1.42403044e+00],\n",
              "       [-1.49482459e+00, -9.14081601e-01,  1.00348505e+00,\n",
              "        -9.47455804e-01,  8.50397690e-03, -1.91928019e-01,\n",
              "         5.65836335e-02, -5.75631196e-01, -4.46825146e-01],\n",
              "       [ 8.21777082e-01,  1.20469542e+00, -7.44186294e-01,\n",
              "         7.65801945e-01,  2.59563141e-01,  2.47540237e-01,\n",
              "         5.65836335e-02,  9.53183851e-01,  5.26441222e-01],\n",
              "       [ 5.03436124e-01, -3.32990887e-01,  6.59362239e-01,\n",
              "        -1.04809566e-01, -4.23333752e-01, -6.34216165e-01,\n",
              "         3.96085434e-01, -1.12332360e+00, -6.62523519e-01],\n",
              "       [ 8.52460548e-01,  1.51754244e+00, -1.64759160e+00,\n",
              "         1.91562252e+00,  9.20299773e-01,  2.71013907e-01,\n",
              "         1.41459084e+00,  2.03697648e+00,  6.43714821e-01],\n",
              "       [-1.49482459e+00, -8.86353371e-01,  1.11649893e+00,\n",
              "        -9.04821587e-01, -1.17493065e+00, -1.62603969e+00,\n",
              "        -2.31992897e+00, -5.43484588e-01, -1.55036203e+00],\n",
              "       [ 4.88094391e-01, -3.58484982e-01,  1.15534995e-01,\n",
              "        -8.72844769e-02, -9.65302235e-01, -1.10416971e+00,\n",
              "        -9.61921769e-01, -4.65530979e-01, -7.55800762e-01],\n",
              "       [ 1.07108024e+00,  1.24001064e+00, -2.07579381e+00,\n",
              "         1.96717179e+00,  1.34913597e+00,  4.29461179e-01,\n",
              "         5.65836335e-02,  2.17513795e+00,  6.96190443e-01],\n",
              "       [ 7.64245583e-01, -7.71584581e-01,  9.45856021e-01,\n",
              "        -7.01730201e-01,  1.14182256e+00,  1.36779827e+00,\n",
              "         5.65836335e-02, -4.83991660e-01,  7.98077928e-01],\n",
              "       [ 9.36840078e-01,  1.92769344e+00, -1.97724717e+00,\n",
              "         2.15355611e+00,  1.07955670e+00,  3.73520680e-01,\n",
              "         7.35587235e-01,  2.05564143e+00,  7.71186341e-01],\n",
              "       [ 8.52460548e-01,  1.51754244e+00, -1.64759160e+00,\n",
              "         1.91562252e+00,  7.59047145e-01,  1.62181437e-01,\n",
              "         1.41459084e+00,  2.03697648e+00,  6.43714821e-01],\n",
              "       [ 5.83980222e-01, -8.27653444e-01,  5.70992077e-01,\n",
              "        -8.42166619e-01,  6.66986131e-02,  6.04903998e-01,\n",
              "         3.96085434e-01, -4.44261619e-01,  5.08225389e-01],\n",
              "       [-1.49482459e+00, -1.07565383e+00,  1.26604084e+00,\n",
              "        -1.11187830e+00,  8.80226100e-01,  8.73174512e-01,\n",
              "         3.96085434e-01, -1.45273058e+00,  1.11482341e+00],\n",
              "       [ 5.26448723e-01, -2.58256029e-02,  1.15260941e-02,\n",
              "         4.71632779e-01, -6.12470311e-01, -8.99689654e-01,\n",
              "         3.96085434e-01, -3.61252388e-01, -7.72421687e-01],\n",
              "       [ 7.25891251e-01,  1.35333915e+00, -8.57821205e-01,\n",
              "         8.21857275e-01,  1.38144703e-01,  1.72775074e-01,\n",
              "         7.35587235e-01,  7.08496843e-01,  4.82249631e-01],\n",
              "       [ 5.99321955e-01, -9.13446517e-01,  7.59122711e-01,\n",
              "        -8.97750546e-01, -6.44425473e-01,  1.83749777e-01,\n",
              "        -6.22419968e-01, -4.53964328e-01, -4.20841406e-02],\n",
              "       [-1.49482459e+00, -8.86353371e-01,  1.11649893e+00,\n",
              "        -9.04821587e-01, -2.33685961e+00, -2.56151879e+00,\n",
              "        -2.31992897e+00, -5.43484588e-01, -1.55036203e+00],\n",
              "       [ 5.03436124e-01, -3.32990887e-01,  6.59362239e-01,\n",
              "        -1.04809566e-01, -5.82542781e-01, -7.62002861e-01,\n",
              "         3.96085434e-01, -1.12332360e+00, -6.62523519e-01],\n",
              "       [-1.49482459e+00, -8.86353371e-01,  1.11649893e+00,\n",
              "        -9.04821587e-01, -1.79904218e+00, -2.13422178e+00,\n",
              "        -2.31992897e+00, -5.43484588e-01, -1.55036203e+00],\n",
              "       [ 6.76030619e-01,  8.59096203e-01, -1.70029472e+00,\n",
              "         9.46085758e-01,  5.07748497e-01, -2.59153155e-03,\n",
              "        -2.82918167e-01,  1.13074343e+00,  4.38261809e-01],\n",
              "       [-1.49482459e+00, -1.07565383e+00,  9.65376215e-01,\n",
              "        -1.11187830e+00,  9.44647323e-01,  9.98773889e-01,\n",
              "         7.35587235e-01, -1.32371008e+00,  9.92974730e-01],\n",
              "       [-1.49482459e+00, -8.25022381e-01,  9.18417657e-01,\n",
              "        -8.69910056e-01, -2.04729938e+00, -1.33117077e+00,\n",
              "        -1.64092537e+00, -6.44826833e-01, -2.46189599e+00],\n",
              "       [ 3.57689661e-01, -6.81232511e-01,  7.33612137e-02,\n",
              "        -4.84344220e-01, -8.02009336e-02, -9.99539126e-02,\n",
              "        -6.22419968e-01, -3.55277561e-01, -1.41822793e-01],\n",
              "       [ 5.45625890e-01,  4.60104546e-01, -3.22363791e-01,\n",
              "         3.08069898e-01, -5.33456524e-01, -5.59649156e-01,\n",
              "        -6.22419968e-01, -1.68142940e-01, -4.43862594e-01],\n",
              "       [ 4.88094391e-01, -3.58484982e-01,  1.15534995e-01,\n",
              "        -8.72844769e-02, -7.66921590e-01, -1.04468529e+00,\n",
              "        -9.61921769e-01, -4.65530979e-01, -7.55800762e-01],\n",
              "       [ 6.26169987e-01,  9.28705969e-01, -1.30639047e+00,\n",
              "         8.79104976e-01,  1.54509450e-01, -4.68561663e-02,\n",
              "         5.65836335e-02,  6.63506912e-01,  3.42825341e-01],\n",
              "       [ 6.76030619e-01,  8.59096203e-01, -1.70029472e+00,\n",
              "         9.46085758e-01,  3.79943816e-01, -8.81103791e-02,\n",
              "        -2.82918167e-01,  1.13074343e+00,  4.38261809e-01],\n",
              "       [-1.49482459e+00, -1.07565383e+00,  9.65376215e-01,\n",
              "        -1.11187830e+00,  1.00084626e+00,  1.07003324e+00,\n",
              "         7.35587235e-01, -1.32371008e+00,  9.92974730e-01],\n",
              "       [-1.49482459e+00, -1.07565383e+00,  1.23445285e+00,\n",
              "        -1.11187830e+00,  1.17040100e+00,  1.47236280e+00,\n",
              "         5.65836335e-02, -1.18322506e+00,  1.04037692e+00],\n",
              "       [ 7.25891251e-01,  1.35333915e+00, -8.57821205e-01,\n",
              "         8.21857275e-01,  9.66341256e-02,  1.18587479e-01,\n",
              "         7.35587235e-01,  7.08496843e-01,  4.82249631e-01],\n",
              "       [ 7.25891251e-01,  1.08064987e+00, -7.27136117e-01,\n",
              "         9.83395897e-01,  2.66348524e-01,  2.36565534e-01,\n",
              "         7.35587235e-01,  1.03016719e+00,  5.01888230e-01],\n",
              "       [-1.49482459e+00, -1.07565383e+00,  1.26604084e+00,\n",
              "        -1.11187830e+00,  7.06280816e-01,  7.34771315e-01,\n",
              "         3.96085434e-01, -1.45273058e+00,  1.11482341e+00],\n",
              "       [-1.49482459e+00, -1.07565383e+00,  1.27966122e+00,\n",
              "        -1.11187830e+00,  1.20416826e+00,  1.62174070e+00,\n",
              "        -6.22419968e-01, -7.59574137e-01,  8.86786868e-01],\n",
              "       [-1.49482459e+00, -8.31600039e-01,  6.91458350e-01,\n",
              "        -8.78270522e-01, -2.97043874e+00, -2.98730677e+00,\n",
              "        -2.99893257e+00, -4.57334743e-01, -2.94194961e+00],\n",
              "       [ 5.76309355e-01, -6.09377268e-01,  5.49425297e-01,\n",
              "        -2.74764114e-01, -2.11122234e-02, -2.71547964e-01,\n",
              "         5.65836335e-02, -9.77399960e-01, -5.08769910e-01],\n",
              "       [ 5.37955023e-01,  9.05854278e-01, -7.92076401e-01,\n",
              "         7.42564563e-01,  2.13981334e-01,  1.38174275e-01,\n",
              "         1.07508904e+00,  3.55956562e-01,  3.89294080e-01],\n",
              "       [-1.49482459e+00, -1.07565383e+00,  9.65376215e-01,\n",
              "        -1.11187830e+00,  9.17984760e-01,  9.34145083e-01,\n",
              "         7.35587235e-01, -1.32371008e+00,  9.92974730e-01],\n",
              "       [ 5.57132189e-01,  9.34387705e-01, -7.17891195e-01,\n",
              "         6.97226713e-01,  1.83008058e-01,  1.51740227e-01,\n",
              "         3.96085434e-01,  8.17601256e-01,  2.49819639e-01],\n",
              "       [-1.49482459e+00, -1.07565383e+00,  1.06029545e+00,\n",
              "        -1.11187830e+00,  5.66022961e-01,  6.46973692e-01,\n",
              "         3.96085434e-01, -1.58716417e+00,  1.02494879e+00],\n",
              "       [ 5.37955023e-01,  9.05854278e-01, -7.92076401e-01,\n",
              "         7.42564563e-01,  1.46047678e-01,  1.10506338e-02,\n",
              "         1.07508904e+00,  3.55956562e-01,  3.89294080e-01],\n",
              "       [ 7.14384951e-01, -7.22410918e-01,  8.09666322e-01,\n",
              "        -5.83033767e-01,  1.93146218e-01,  7.20900510e-01,\n",
              "         5.65836335e-02, -3.70495495e-01,  6.13202839e-01],\n",
              "       [ 5.99321955e-01, -9.13446517e-01,  7.59122711e-01,\n",
              "        -8.97750546e-01, -4.27604552e-01,  3.05919559e-01,\n",
              "        -6.22419968e-01, -4.53964328e-01, -4.20841406e-02],\n",
              "       [ 8.40954248e-01,  1.38845024e+00, -8.28929060e-01,\n",
              "         8.04401509e-01,  7.85929901e-02,  1.67640844e-03,\n",
              "         3.96085434e-01,  7.90969872e-01,  2.71781019e-01],\n",
              "       [ 5.41790456e-01, -8.63603747e-01,  7.82496132e-01,\n",
              "        -8.80197727e-01, -1.29772213e+00, -3.53766780e-01,\n",
              "        -1.98042717e+00, -5.58191852e-01, -1.42403044e+00],\n",
              "       [ 5.57132189e-01,  1.25275769e+00, -7.19570807e-01,\n",
              "         7.36228356e-01,  7.79543658e-02, -5.03035440e-03,\n",
              "         1.07508904e+00,  1.03912943e+00,  3.67977892e-01],\n",
              "       [ 7.64245583e-01, -7.71584581e-01,  9.45856021e-01,\n",
              "        -7.01730201e-01,  1.15635127e+00,  1.42160480e+00,\n",
              "         5.65836335e-02, -4.83991660e-01,  7.98077928e-01],\n",
              "       [ 1.07108024e+00,  1.24001064e+00, -2.07579381e+00,\n",
              "         1.96717179e+00,  1.28152162e+00,  4.31518936e-01,\n",
              "         5.65836335e-02,  2.17513795e+00,  6.96190443e-01],\n",
              "       [ 3.88373127e-01, -2.65762687e-01, -9.21581762e-02,\n",
              "         6.71415103e-02, -8.46398380e-01, -9.93988264e-01,\n",
              "        -9.61921769e-01, -8.19833068e-01, -6.80993271e-01],\n",
              "       [ 8.52460548e-01,  1.51754244e+00, -1.64759160e+00,\n",
              "         1.91562252e+00,  8.38555867e-01,  2.14997195e-01,\n",
              "         1.41459084e+00,  2.03697648e+00,  6.43714821e-01],\n",
              "       [ 6.41511720e-01,  9.02656176e-01, -1.71678620e-01,\n",
              "         5.52880425e-01, -2.43920247e-01, -3.03237419e-01,\n",
              "         7.35587235e-01,  6.71477603e-02, -2.61744481e-01],\n",
              "       [-1.49482459e+00, -8.93963041e-01,  5.63116250e-01,\n",
              "        -9.38166397e-01, -2.54804467e+00, -2.14194980e+00,\n",
              "        -1.98042717e+00, -2.75638745e-01, -2.89922506e+00],\n",
              "       [ 6.18499121e-01, -7.36099250e-01,  7.79913199e-01,\n",
              "        -7.34769986e-01,  7.72857395e-01,  1.26834003e+00,\n",
              "        -2.82918167e-01, -1.39034812e-01,  6.18794503e-01],\n",
              "       [ 6.41511720e-01,  9.02656176e-01, -1.71678620e-01,\n",
              "         5.52880425e-01, -4.06194673e-01, -4.37601315e-01,\n",
              "         7.35587235e-01,  6.71477603e-02, -2.61744481e-01],\n",
              "       [ 5.99321955e-01, -9.13446517e-01,  7.59122711e-01,\n",
              "        -8.97750546e-01, -8.53175780e-01,  4.10786401e-02,\n",
              "        -6.22419968e-01, -4.53964328e-01, -4.20841406e-02],\n",
              "       [ 5.45625890e-01,  4.60104546e-01, -3.22363791e-01,\n",
              "         3.08069898e-01, -6.21578690e-01, -6.66301928e-01,\n",
              "        -6.22419968e-01, -1.68142940e-01, -4.43862594e-01],\n",
              "       [ 6.64524319e-01,  1.22276130e+00, -1.54791582e+00,\n",
              "         1.28692379e+00,  2.09989933e-01, -1.45643734e-01,\n",
              "         7.35587235e-01,  1.59846508e+00,  3.11846182e-01],\n",
              "       [-1.49482459e+00, -1.07565383e+00,  9.21184076e-01,\n",
              "        -1.11187830e+00,  8.92838929e-01,  1.40499032e+00,\n",
              "         3.96085434e-01, -1.02052595e+00,  7.87075325e-01],\n",
              "       [ 6.18499121e-01, -7.36099250e-01,  7.79913199e-01,\n",
              "        -7.34769986e-01,  5.86139625e-01,  1.14197852e+00,\n",
              "        -2.82918167e-01, -1.39034812e-01,  6.18794503e-01],\n",
              "       [ 5.03436124e-01, -3.32990887e-01,  6.59362239e-01,\n",
              "        -1.04809566e-01, -2.50314472e-01, -5.16992620e-01,\n",
              "         3.96085434e-01, -1.12332360e+00, -6.62523519e-01],\n",
              "       [-1.49482459e+00, -9.14081601e-01,  1.00348505e+00,\n",
              "        -9.47455804e-01, -6.27493947e-01, -1.10154797e+00,\n",
              "         5.65836335e-02, -5.75631196e-01, -4.46825146e-01],\n",
              "       [ 9.36840078e-01,  1.92769344e+00, -1.97724717e+00,\n",
              "         2.15355611e+00,  9.93581907e-01,  3.25734995e-01,\n",
              "         7.35587235e-01,  2.05564143e+00,  7.71186341e-01],\n",
              "       [ 6.18499121e-01, -7.36099250e-01,  7.79913199e-01,\n",
              "        -7.34769986e-01,  9.64444675e-01,  1.36429246e+00,\n",
              "        -2.82918167e-01, -1.39034812e-01,  6.18794503e-01],\n",
              "       [ 7.48903850e-01, -6.06337937e-01,  7.72686634e-01,\n",
              "        -5.26215874e-01,  1.05169672e+00,  1.25911823e+00,\n",
              "         3.96085434e-01, -3.75219182e-01,  4.07768803e-01],\n",
              "       [ 6.64524319e-01,  1.22276130e+00, -1.54791582e+00,\n",
              "         1.28692379e+00,  3.02750107e-01, -1.24425976e-01,\n",
              "         7.35587235e-01,  1.59846508e+00,  3.11846182e-01],\n",
              "       [-1.49482459e+00, -8.31600039e-01,  6.91458350e-01,\n",
              "        -8.78270522e-01, -2.88969268e+00, -3.00422611e+00,\n",
              "        -2.99893257e+00, -4.57334743e-01, -2.94194961e+00],\n",
              "       [-1.49482459e+00, -9.76535329e-01,  6.12248423e-01,\n",
              "        -1.02005182e+00,  2.03044894e-01,  1.65077540e-01,\n",
              "         5.65836335e-02, -3.04900073e-01,  1.55036496e-01],\n",
              "       [ 5.57132189e-01,  1.25275769e+00, -7.19570807e-01,\n",
              "         7.36228356e-01,  7.84333340e-02,  6.13513551e-02,\n",
              "         1.07508904e+00,  1.03912943e+00,  3.67977892e-01],\n",
              "       [ 6.41511720e-01,  1.79041318e+00, -1.61013203e+00,\n",
              "         1.85916511e+00,  6.84168450e-01,  1.15386524e-01,\n",
              "         7.35587235e-01,  1.59075398e+00,  4.93585674e-01],\n",
              "       [-1.49482459e+00, -1.07565383e+00,  1.06029545e+00,\n",
              "        -1.11187830e+00,  4.20416628e-01,  5.45686331e-01,\n",
              "         3.96085434e-01, -1.58716417e+00,  1.02494879e+00],\n",
              "       [ 5.83980222e-01, -8.27653444e-01,  5.70992077e-01,\n",
              "        -8.42166619e-01, -6.82746255e-02,  5.05903033e-01,\n",
              "         3.96085434e-01, -4.44261619e-01,  5.08225389e-01],\n",
              "       [ 6.76030619e-01,  8.59096203e-01, -1.70029472e+00,\n",
              "         9.46085758e-01,  4.40134153e-01, -4.58044240e-02,\n",
              "        -2.82918167e-01,  1.13074343e+00,  4.38261809e-01],\n",
              "       [ 8.40954248e-01,  1.38845024e+00, -8.28929060e-01,\n",
              "         8.04401509e-01,  1.06373146e-01,  3.62772077e-02,\n",
              "         3.96085434e-01,  7.90969872e-01,  2.71781019e-01],\n",
              "       [ 5.57132189e-01,  9.34387705e-01, -7.17891195e-01,\n",
              "         6.97226713e-01,  2.41601834e-01,  2.48683435e-01,\n",
              "         3.96085434e-01,  8.17601256e-01,  2.49819639e-01],\n",
              "       [ 7.25891251e-01,  1.08064987e+00, -7.27136117e-01,\n",
              "         9.83395897e-01,  2.94607648e-01,  2.26048111e-01,\n",
              "         7.35587235e-01,  1.03016719e+00,  5.01888230e-01],\n",
              "       [ 5.45625890e-01,  4.60104546e-01, -3.22363791e-01,\n",
              "         3.08069898e-01, -6.48871894e-01, -7.54686393e-01,\n",
              "        -6.22419968e-01, -1.68142940e-01, -4.43862594e-01],\n",
              "       [ 5.76309355e-01, -6.09377268e-01,  5.49425297e-01,\n",
              "        -2.74764114e-01, -1.04971572e-01, -4.17496269e-01,\n",
              "         5.65836335e-02, -9.77399960e-01, -5.08769910e-01],\n",
              "       [ 5.37955023e-01,  9.05854278e-01, -7.92076401e-01,\n",
              "         7.42564563e-01,  1.64168642e-01,  7.58318658e-02,\n",
              "         1.07508904e+00,  3.55956562e-01,  3.89294080e-01],\n",
              "       [ 1.07108024e+00,  1.24001064e+00, -2.07579381e+00,\n",
              "         1.96717179e+00,  1.38545772e+00,  3.97985122e-01,\n",
              "         5.65836335e-02,  2.17513795e+00,  6.96190443e-01],\n",
              "       [-1.49482459e+00, -1.07565383e+00,  9.88693179e-01,\n",
              "        -1.11187830e+00,  9.64604331e-01,  1.48074626e+00,\n",
              "         7.35587235e-01, -8.70670158e-01,  9.00577171e-01],\n",
              "       [ 3.57689661e-01, -6.81232511e-01,  7.33612137e-02,\n",
              "        -4.84344220e-01, -5.52387076e-02, -1.96660860e-01,\n",
              "        -6.22419968e-01, -3.55277561e-01, -1.41822793e-01],\n",
              "       [ 5.57132189e-01,  1.25275769e+00, -7.19570807e-01,\n",
              "         7.36228356e-01,  8.47397487e-02,  1.66904116e-02,\n",
              "         1.07508904e+00,  1.03912943e+00,  3.67977892e-01],\n",
              "       [-1.49482459e+00, -1.07565383e+00,  1.23445285e+00,\n",
              "        -1.11187830e+00,  1.20800000e+00,  1.53196153e+00,\n",
              "         5.65836335e-02, -1.18322506e+00,  1.04037692e+00],\n",
              "       [ 6.41511720e-01,  9.02656176e-01, -1.71678620e-01,\n",
              "         5.52880425e-01, -8.51422889e-02, -1.68218089e-01,\n",
              "         7.35587235e-01,  6.71477603e-02, -2.61744481e-01],\n",
              "       [ 8.40954248e-01,  1.38845024e+00, -8.28929060e-01,\n",
              "         8.04401509e-01,  1.51156672e-01,  9.13031483e-02,\n",
              "         3.96085434e-01,  7.90969872e-01,  2.71781019e-01]])"
            ]
          },
          "metadata": {},
          "execution_count": 16
        }
      ]
    },
    {
      "cell_type": "markdown",
      "source": [
        "# 4: Selecting and Training the models <a name=\"4\"></a>\n",
        "\n",
        "\n",
        "---\n",
        "<a href=\"#top\" class=\"btn btn-primary btn-sm\" role=\"button\" aria-pressed=\"true\" style=\"color:white\" data-toggle=\"popover\">Go to TOC</a> "
      ],
      "metadata": {
        "id": "Xbi7IXubOFuM"
      }
    },
    {
      "cell_type": "markdown",
      "source": [
        "## 4.1 Linear Regression"
      ],
      "metadata": {
        "id": "iCW4vI4xO7uG"
      }
    },
    {
      "cell_type": "code",
      "source": [
        "from sklearn.linear_model import LinearRegression\n",
        "\n",
        "lin_reg = LinearRegression()\n",
        "lin_reg.fit(data_prepared, y_train)"
      ],
      "metadata": {
        "colab": {
          "base_uri": "https://localhost:8080/"
        },
        "id": "AL86F03TOFK0",
        "outputId": "40eca321-c10b-4854-f9bf-a259b1460f67"
      },
      "execution_count": 17,
      "outputs": [
        {
          "output_type": "execute_result",
          "data": {
            "text/plain": [
              "LinearRegression()"
            ]
          },
          "metadata": {},
          "execution_count": 17
        }
      ]
    },
    {
      "cell_type": "code",
      "source": [
        "# let's try the full preprocessing pipeline on a few training instances\n",
        "some_data = X_train.iloc[:5]\n",
        "some_labels = y_train.iloc[:5]\n",
        "some_data_prepared = preprocessor.transform(some_data)\n",
        "\n",
        "print(\"Predictions:\", lin_reg.predict(some_data_prepared))\n",
        "print(\"Labels:\", list(some_labels))"
      ],
      "metadata": {
        "colab": {
          "base_uri": "https://localhost:8080/"
        },
        "id": "oHsPwKJkOFIJ",
        "outputId": "436f48aa-0306-4b36-ebe2-ad597a1e4130"
      },
      "execution_count": 18,
      "outputs": [
        {
          "output_type": "stream",
          "name": "stdout",
          "text": [
            "Predictions: [5758.91818373 9818.26859807 8555.852473   8142.56666657 7174.158139  ]\n",
            "Labels: [6673.0, 10738.0, 9673.0, 5957.0, 7886.0]\n"
          ]
        }
      ]
    },
    {
      "cell_type": "code",
      "source": [
        "from sklearn.metrics import mean_squared_error\n",
        "\n",
        "predictions = lin_reg.predict(data_prepared)\n",
        "lin_mse = mean_squared_error(y_train, predictions)\n",
        "lin_rmse = np.sqrt(lin_mse)\n",
        "lin_rmse"
      ],
      "metadata": {
        "colab": {
          "base_uri": "https://localhost:8080/"
        },
        "id": "KEmS4cT8OFFy",
        "outputId": "cbdf57e5-203c-48fd-8a4e-8cf8526a9225"
      },
      "execution_count": 19,
      "outputs": [
        {
          "output_type": "execute_result",
          "data": {
            "text/plain": [
              "2123.4320792944495"
            ]
          },
          "metadata": {},
          "execution_count": 19
        }
      ]
    },
    {
      "cell_type": "code",
      "source": [
        "from sklearn.metrics import mean_absolute_error\n",
        "\n",
        "lin_mae = mean_absolute_error(y_train, predictions)\n",
        "lin_mae"
      ],
      "metadata": {
        "colab": {
          "base_uri": "https://localhost:8080/"
        },
        "id": "gumLN4guOFDA",
        "outputId": "aeac0989-4193-46e1-81aa-cc34afa343ca"
      },
      "execution_count": 20,
      "outputs": [
        {
          "output_type": "execute_result",
          "data": {
            "text/plain": [
              "1674.1945519477983"
            ]
          },
          "metadata": {},
          "execution_count": 20
        }
      ]
    },
    {
      "cell_type": "markdown",
      "source": [
        "## 4.2 Decison Tree"
      ],
      "metadata": {
        "id": "zcvec8pdQKT_"
      }
    },
    {
      "cell_type": "code",
      "source": [
        "from sklearn.tree import DecisionTreeRegressor\n",
        "\n",
        "tree_reg = DecisionTreeRegressor(random_state=42)\n",
        "tree_reg.fit(data_prepared, y_train)"
      ],
      "metadata": {
        "colab": {
          "base_uri": "https://localhost:8080/"
        },
        "id": "dStElwtsOFAa",
        "outputId": "d04e43fd-1b5e-4bae-e3cb-53afe270ded3"
      },
      "execution_count": 21,
      "outputs": [
        {
          "output_type": "execute_result",
          "data": {
            "text/plain": [
              "DecisionTreeRegressor(random_state=42)"
            ]
          },
          "metadata": {},
          "execution_count": 21
        }
      ]
    },
    {
      "cell_type": "code",
      "source": [
        "predictions = tree_reg.predict(data_prepared)\n",
        "tree_mse = mean_squared_error(y_train, predictions)\n",
        "tree_rmse = np.sqrt(tree_mse)\n",
        "tree_rmse"
      ],
      "metadata": {
        "colab": {
          "base_uri": "https://localhost:8080/"
        },
        "id": "veRPL5CUQJCB",
        "outputId": "26583340-caee-4ce4-99d1-f81892e6424c"
      },
      "execution_count": 22,
      "outputs": [
        {
          "output_type": "execute_result",
          "data": {
            "text/plain": [
              "0.0"
            ]
          },
          "metadata": {},
          "execution_count": 22
        }
      ]
    },
    {
      "cell_type": "markdown",
      "source": [
        "Decision tree seems to be over fitting"
      ],
      "metadata": {
        "id": "AbCdDgluQyYk"
      }
    },
    {
      "cell_type": "markdown",
      "source": [
        "## 4.3 Random forest"
      ],
      "metadata": {
        "id": "3i74EWNMQ4XE"
      }
    },
    {
      "cell_type": "code",
      "source": [
        "from sklearn.ensemble import RandomForestRegressor\n",
        "\n",
        "forest_reg = RandomForestRegressor()\n",
        "forest_reg.fit(data_prepared, y_train)\n",
        "\n",
        "predictions = forest_reg.predict(data_prepared)\n",
        "forest_mse = mean_squared_error(y_train, predictions)\n",
        "forest_rmse = np.sqrt(forest_mse)\n",
        "forest_rmse"
      ],
      "metadata": {
        "colab": {
          "base_uri": "https://localhost:8080/"
        },
        "id": "1TU4EGFQQx6K",
        "outputId": "992114b8-a059-439b-f062-be592e17a1a5"
      },
      "execution_count": 23,
      "outputs": [
        {
          "output_type": "execute_result",
          "data": {
            "text/plain": [
              "787.9074557643645"
            ]
          },
          "metadata": {},
          "execution_count": 23
        }
      ]
    },
    {
      "cell_type": "code",
      "source": [
        "from sklearn.model_selection import cross_val_score\n",
        "def display_scores(scores):\n",
        "    print(\"Scores:\", scores)\n",
        "    print(\"Mean:\", scores.mean())\n",
        "    print(\"Standard deviation:\", scores.std())\n",
        "    \n",
        "forest_scores = cross_val_score(forest_reg, data_prepared, y_train,\n",
        "                                scoring=\"neg_mean_squared_error\", cv=3)\n",
        "forest_rmse_scores = np.sqrt(-forest_scores)\n",
        "display_scores(forest_rmse_scores)"
      ],
      "metadata": {
        "colab": {
          "base_uri": "https://localhost:8080/"
        },
        "id": "nI1lzLf_QI_D",
        "outputId": "22269cad-4f88-4909-d169-036f296fd5b7"
      },
      "execution_count": 24,
      "outputs": [
        {
          "output_type": "stream",
          "name": "stdout",
          "text": [
            "Scores: [2273.49876766 2214.88547164 2355.75236964]\n",
            "Mean: 2281.378869644784\n",
            "Standard deviation: 57.77798163974908\n"
          ]
        }
      ]
    },
    {
      "cell_type": "markdown",
      "source": [
        "As random forests seems to be performing better. Let us find the best parameters for the same."
      ],
      "metadata": {
        "id": "uMMZRjoXhGTJ"
      }
    },
    {
      "cell_type": "markdown",
      "source": [
        "# 5: Hyperparameterization <a name=\"5\"></a>\n",
        "\n",
        "\n",
        "---\n",
        "<a href=\"#top\" class=\"btn btn-primary btn-sm\" role=\"button\" aria-pressed=\"true\" style=\"color:white\" data-toggle=\"popover\">Go to TOC</a> "
      ],
      "metadata": {
        "id": "oIY5jOncbhzV"
      }
    },
    {
      "cell_type": "markdown",
      "source": [
        "## GridSerach CV\n"
      ],
      "metadata": {
        "id": "sYeRtCcaRbuO"
      }
    },
    {
      "cell_type": "code",
      "source": [
        "from sklearn.model_selection import GridSearchCV\n",
        "\n",
        "param_grid = [\n",
        "    # try 12 (3×4) combinations of hyperparameters\n",
        "    {'n_estimators': [3, 10, 30], 'max_features': [2, 4, 6, 8]},\n",
        "    # then try 6 (2×3) combinations with bootstrap set as False\n",
        "    {'bootstrap': [False], 'n_estimators': [3, 10], 'max_features': [2, 3, 4]},\n",
        "  ]\n",
        "\n",
        "forest_reg = RandomForestRegressor(random_state=42)\n",
        "# train across 5 folds, that's a total of (12+6)*5=90 rounds of training \n",
        "grid_search = GridSearchCV(forest_reg, param_grid, cv=5,\n",
        "                           scoring='neg_mean_squared_error',\n",
        "                           return_train_score=True)\n",
        "grid_search.fit(data_prepared, y_train)"
      ],
      "metadata": {
        "colab": {
          "base_uri": "https://localhost:8080/"
        },
        "id": "OL7xjQOsQI64",
        "outputId": "6c60f8f8-370e-42f6-8df2-ec702523d868"
      },
      "execution_count": 25,
      "outputs": [
        {
          "output_type": "execute_result",
          "data": {
            "text/plain": [
              "GridSearchCV(cv=5, estimator=RandomForestRegressor(random_state=42),\n",
              "             param_grid=[{'max_features': [2, 4, 6, 8],\n",
              "                          'n_estimators': [3, 10, 30]},\n",
              "                         {'bootstrap': [False], 'max_features': [2, 3, 4],\n",
              "                          'n_estimators': [3, 10]}],\n",
              "             return_train_score=True, scoring='neg_mean_squared_error')"
            ]
          },
          "metadata": {},
          "execution_count": 25
        }
      ]
    },
    {
      "cell_type": "code",
      "source": [
        "grid_search.best_params_"
      ],
      "metadata": {
        "colab": {
          "base_uri": "https://localhost:8080/"
        },
        "id": "Thzl49FMQI3N",
        "outputId": "1057dfa5-2af5-4396-d092-6145a45b1336"
      },
      "execution_count": 26,
      "outputs": [
        {
          "output_type": "execute_result",
          "data": {
            "text/plain": [
              "{'max_features': 8, 'n_estimators': 30}"
            ]
          },
          "metadata": {},
          "execution_count": 26
        }
      ]
    },
    {
      "cell_type": "code",
      "source": [
        "grid_search.best_estimator_"
      ],
      "metadata": {
        "colab": {
          "base_uri": "https://localhost:8080/"
        },
        "id": "iX5ANPtdQI0H",
        "outputId": "8a3455ae-4249-4324-9383-aad58e3f6be0"
      },
      "execution_count": 27,
      "outputs": [
        {
          "output_type": "execute_result",
          "data": {
            "text/plain": [
              "RandomForestRegressor(max_features=8, n_estimators=30, random_state=42)"
            ]
          },
          "metadata": {},
          "execution_count": 27
        }
      ]
    },
    {
      "cell_type": "code",
      "source": [
        "cvres = grid_search.cv_results_\n",
        "for mean_score, params in zip(cvres[\"mean_test_score\"], cvres[\"params\"]):\n",
        "    print(np.sqrt(-mean_score), params)"
      ],
      "metadata": {
        "colab": {
          "base_uri": "https://localhost:8080/"
        },
        "id": "N6FWhLivQIxJ",
        "outputId": "fd3fa54b-f0f1-4454-d254-7b15e5f5a6da"
      },
      "execution_count": 28,
      "outputs": [
        {
          "output_type": "stream",
          "name": "stdout",
          "text": [
            "2543.18701926522 {'max_features': 2, 'n_estimators': 3}\n",
            "2290.505102226292 {'max_features': 2, 'n_estimators': 10}\n",
            "2171.4331782068516 {'max_features': 2, 'n_estimators': 30}\n",
            "2472.5780894867426 {'max_features': 4, 'n_estimators': 3}\n",
            "2340.525663838485 {'max_features': 4, 'n_estimators': 10}\n",
            "2211.529692828832 {'max_features': 4, 'n_estimators': 30}\n",
            "2460.051340311762 {'max_features': 6, 'n_estimators': 3}\n",
            "2338.19714427822 {'max_features': 6, 'n_estimators': 10}\n",
            "2220.0185122232106 {'max_features': 6, 'n_estimators': 30}\n",
            "2359.84722079278 {'max_features': 8, 'n_estimators': 3}\n",
            "2292.2488957259225 {'max_features': 8, 'n_estimators': 10}\n",
            "2164.338849629575 {'max_features': 8, 'n_estimators': 30}\n",
            "2425.6663070564823 {'bootstrap': False, 'max_features': 2, 'n_estimators': 3}\n",
            "2360.64615188263 {'bootstrap': False, 'max_features': 2, 'n_estimators': 10}\n",
            "2518.6121809038045 {'bootstrap': False, 'max_features': 3, 'n_estimators': 3}\n",
            "2366.67356606061 {'bootstrap': False, 'max_features': 3, 'n_estimators': 10}\n",
            "2453.063427280016 {'bootstrap': False, 'max_features': 4, 'n_estimators': 3}\n",
            "2392.150410926016 {'bootstrap': False, 'max_features': 4, 'n_estimators': 10}\n"
          ]
        }
      ]
    },
    {
      "cell_type": "markdown",
      "source": [
        "# 6: Making the predictions <a name=\"**6**\"></a>\n",
        "\n",
        "\n",
        "---\n",
        "<a href=\"#top\" class=\"btn btn-primary btn-sm\" role=\"button\" aria-pressed=\"true\" style=\"color:white\" data-toggle=\"popover\">Go to TOC</a> "
      ],
      "metadata": {
        "id": "_w0snrGBbhny"
      }
    },
    {
      "cell_type": "markdown",
      "source": [
        "Making prediciton on the test set."
      ],
      "metadata": {
        "id": "NmpXxvMehSav"
      }
    },
    {
      "cell_type": "code",
      "source": [
        "df_test"
      ],
      "metadata": {
        "colab": {
          "base_uri": "https://localhost:8080/",
          "height": 143
        },
        "id": "hHaMSdBWSJtP",
        "outputId": "ff6aa6a2-01cb-49df-cb0d-1962c6c6b6bb"
      },
      "execution_count": 29,
      "outputs": [
        {
          "output_type": "execute_result",
          "data": {
            "text/plain": [
              "       Y    V1        V2        V3        V4        V5        V6    V7  \\\n",
              "144   ?   67.0  0.212043  0.123172  0.216391  101.7656  100.4836  0.04   \n",
              "145   ?   67.0  0.212043  0.123172  0.216391  101.6869  100.3605  0.04   \n",
              "146   ?   67.0  0.212043  0.123172  0.216391  101.5832  100.2126  0.04   \n",
              "\n",
              "           V8        V9  \n",
              "144  0.688172  2.394371  \n",
              "145  0.688172  2.394371  \n",
              "146  0.688172  2.394371  "
            ],
            "text/html": [
              "\n",
              "  <div id=\"df-e29f0d84-a972-4730-a565-fa8865b25026\">\n",
              "    <div class=\"colab-df-container\">\n",
              "      <div>\n",
              "<style scoped>\n",
              "    .dataframe tbody tr th:only-of-type {\n",
              "        vertical-align: middle;\n",
              "    }\n",
              "\n",
              "    .dataframe tbody tr th {\n",
              "        vertical-align: top;\n",
              "    }\n",
              "\n",
              "    .dataframe thead th {\n",
              "        text-align: right;\n",
              "    }\n",
              "</style>\n",
              "<table border=\"1\" class=\"dataframe\">\n",
              "  <thead>\n",
              "    <tr style=\"text-align: right;\">\n",
              "      <th></th>\n",
              "      <th>Y</th>\n",
              "      <th>V1</th>\n",
              "      <th>V2</th>\n",
              "      <th>V3</th>\n",
              "      <th>V4</th>\n",
              "      <th>V5</th>\n",
              "      <th>V6</th>\n",
              "      <th>V7</th>\n",
              "      <th>V8</th>\n",
              "      <th>V9</th>\n",
              "    </tr>\n",
              "  </thead>\n",
              "  <tbody>\n",
              "    <tr>\n",
              "      <th>144</th>\n",
              "      <td>?</td>\n",
              "      <td>67.0</td>\n",
              "      <td>0.212043</td>\n",
              "      <td>0.123172</td>\n",
              "      <td>0.216391</td>\n",
              "      <td>101.7656</td>\n",
              "      <td>100.4836</td>\n",
              "      <td>0.04</td>\n",
              "      <td>0.688172</td>\n",
              "      <td>2.394371</td>\n",
              "    </tr>\n",
              "    <tr>\n",
              "      <th>145</th>\n",
              "      <td>?</td>\n",
              "      <td>67.0</td>\n",
              "      <td>0.212043</td>\n",
              "      <td>0.123172</td>\n",
              "      <td>0.216391</td>\n",
              "      <td>101.6869</td>\n",
              "      <td>100.3605</td>\n",
              "      <td>0.04</td>\n",
              "      <td>0.688172</td>\n",
              "      <td>2.394371</td>\n",
              "    </tr>\n",
              "    <tr>\n",
              "      <th>146</th>\n",
              "      <td>?</td>\n",
              "      <td>67.0</td>\n",
              "      <td>0.212043</td>\n",
              "      <td>0.123172</td>\n",
              "      <td>0.216391</td>\n",
              "      <td>101.5832</td>\n",
              "      <td>100.2126</td>\n",
              "      <td>0.04</td>\n",
              "      <td>0.688172</td>\n",
              "      <td>2.394371</td>\n",
              "    </tr>\n",
              "  </tbody>\n",
              "</table>\n",
              "</div>\n",
              "      <button class=\"colab-df-convert\" onclick=\"convertToInteractive('df-e29f0d84-a972-4730-a565-fa8865b25026')\"\n",
              "              title=\"Convert this dataframe to an interactive table.\"\n",
              "              style=\"display:none;\">\n",
              "        \n",
              "  <svg xmlns=\"http://www.w3.org/2000/svg\" height=\"24px\"viewBox=\"0 0 24 24\"\n",
              "       width=\"24px\">\n",
              "    <path d=\"M0 0h24v24H0V0z\" fill=\"none\"/>\n",
              "    <path d=\"M18.56 5.44l.94 2.06.94-2.06 2.06-.94-2.06-.94-.94-2.06-.94 2.06-2.06.94zm-11 1L8.5 8.5l.94-2.06 2.06-.94-2.06-.94L8.5 2.5l-.94 2.06-2.06.94zm10 10l.94 2.06.94-2.06 2.06-.94-2.06-.94-.94-2.06-.94 2.06-2.06.94z\"/><path d=\"M17.41 7.96l-1.37-1.37c-.4-.4-.92-.59-1.43-.59-.52 0-1.04.2-1.43.59L10.3 9.45l-7.72 7.72c-.78.78-.78 2.05 0 2.83L4 21.41c.39.39.9.59 1.41.59.51 0 1.02-.2 1.41-.59l7.78-7.78 2.81-2.81c.8-.78.8-2.07 0-2.86zM5.41 20L4 18.59l7.72-7.72 1.47 1.35L5.41 20z\"/>\n",
              "  </svg>\n",
              "      </button>\n",
              "      \n",
              "  <style>\n",
              "    .colab-df-container {\n",
              "      display:flex;\n",
              "      flex-wrap:wrap;\n",
              "      gap: 12px;\n",
              "    }\n",
              "\n",
              "    .colab-df-convert {\n",
              "      background-color: #E8F0FE;\n",
              "      border: none;\n",
              "      border-radius: 50%;\n",
              "      cursor: pointer;\n",
              "      display: none;\n",
              "      fill: #1967D2;\n",
              "      height: 32px;\n",
              "      padding: 0 0 0 0;\n",
              "      width: 32px;\n",
              "    }\n",
              "\n",
              "    .colab-df-convert:hover {\n",
              "      background-color: #E2EBFA;\n",
              "      box-shadow: 0px 1px 2px rgba(60, 64, 67, 0.3), 0px 1px 3px 1px rgba(60, 64, 67, 0.15);\n",
              "      fill: #174EA6;\n",
              "    }\n",
              "\n",
              "    [theme=dark] .colab-df-convert {\n",
              "      background-color: #3B4455;\n",
              "      fill: #D2E3FC;\n",
              "    }\n",
              "\n",
              "    [theme=dark] .colab-df-convert:hover {\n",
              "      background-color: #434B5C;\n",
              "      box-shadow: 0px 1px 3px 1px rgba(0, 0, 0, 0.15);\n",
              "      filter: drop-shadow(0px 1px 2px rgba(0, 0, 0, 0.3));\n",
              "      fill: #FFFFFF;\n",
              "    }\n",
              "  </style>\n",
              "\n",
              "      <script>\n",
              "        const buttonEl =\n",
              "          document.querySelector('#df-e29f0d84-a972-4730-a565-fa8865b25026 button.colab-df-convert');\n",
              "        buttonEl.style.display =\n",
              "          google.colab.kernel.accessAllowed ? 'block' : 'none';\n",
              "\n",
              "        async function convertToInteractive(key) {\n",
              "          const element = document.querySelector('#df-e29f0d84-a972-4730-a565-fa8865b25026');\n",
              "          const dataTable =\n",
              "            await google.colab.kernel.invokeFunction('convertToInteractive',\n",
              "                                                     [key], {});\n",
              "          if (!dataTable) return;\n",
              "\n",
              "          const docLinkHtml = 'Like what you see? Visit the ' +\n",
              "            '<a target=\"_blank\" href=https://colab.research.google.com/notebooks/data_table.ipynb>data table notebook</a>'\n",
              "            + ' to learn more about interactive tables.';\n",
              "          element.innerHTML = '';\n",
              "          dataTable['output_type'] = 'display_data';\n",
              "          await google.colab.output.renderOutput(dataTable, element);\n",
              "          const docLink = document.createElement('div');\n",
              "          docLink.innerHTML = docLinkHtml;\n",
              "          element.appendChild(docLink);\n",
              "        }\n",
              "      </script>\n",
              "    </div>\n",
              "  </div>\n",
              "  "
            ]
          },
          "metadata": {},
          "execution_count": 29
        }
      ]
    },
    {
      "cell_type": "code",
      "source": [
        "X_test = df_test.drop(\"Y\", axis=1)\n",
        "y_test = df_test[\"Y\"].copy()"
      ],
      "metadata": {
        "id": "s7ip1KZlSJr6"
      },
      "execution_count": 30,
      "outputs": []
    },
    {
      "cell_type": "code",
      "source": [
        "final_model = grid_search.best_estimator_\n",
        "X_test_prepared = preprocessor.transform(X_test)\n",
        "final_predictions = final_model.predict(X_test_prepared)\n",
        "\n",
        "print(f'Final Predicitons {final_predictions}')"
      ],
      "metadata": {
        "colab": {
          "base_uri": "https://localhost:8080/"
        },
        "id": "kVOaNpphR0fL",
        "outputId": "a8d3f532-7d2d-4e19-cfea-e8116e9940ab"
      },
      "execution_count": 31,
      "outputs": [
        {
          "output_type": "stream",
          "name": "stdout",
          "text": [
            "Final Predicitons [7973.2        7707.83333333 7541.16666667]\n"
          ]
        }
      ]
    },
    {
      "cell_type": "markdown",
      "source": [
        "# **The END**"
      ],
      "metadata": {
        "id": "ec5avSj8hW5K"
      }
    }
  ]
}